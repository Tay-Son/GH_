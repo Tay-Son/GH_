{
 "cells": [
  {
   "cell_type": "markdown",
   "id": "edc418a3-83c7-4bf9-b46e-a4fb5dd763bd",
   "metadata": {},
   "source": [
    "# NumPy 소개\n",
    "## 파이썬의 데이터 타입 이해하기\n",
    "### 파이썬의 정수는 정수 이상이다\n",
    "### 파이썬 리스트는 리스트 이상이다\n",
    "### 파이썬의 고정 타입 배열\n",
    "### 파이썬 리스트에서 배열 만들기\n",
    "### 처음부터 배열 만들기\n",
    "### NumPy 표준 데이터 타입\n",
    "## NumPy 배열의 기초\n",
    "### NumPy 배열 속성 지정\n",
    "### 배열 인덱싱: 단일 요소에 접근하기\n",
    "### 배열 슬라이싱: 하위 배열에 접근하기\n",
    "### 배열 재구조화\n",
    "### 배열 연결 및 분할\n",
    "## NumPy 배열 연산: 유니버설 함수\n",
    "### 루프는 느리다\n",
    "### UFuncs 소개\n",
    "### Numpy 유니버설 함수(UFuncs)\n",
    "### 고급 UFuncs 기능\n",
    "### UFuncs: 더 알아보기\n",
    "## 집계: 최솟값, 최댓값, 그리고 그 사이의 모든 것\n",
    "### 배열의 값의 합 구하기\n",
    "### 최솟값과 최댓값\n",
    "### 예제: 미국 대통령의 평균 신장은 얼마일까?\n",
    "## 배열 연산: 브로드캐스팅\n",
    "### 브로드캐스팅 소개\n",
    "### 브로드캐스팅 규칙\n",
    "### 실전 브로드캐스팅\n",
    "## 비교, 마스크, 부울 로직\n",
    "### 예제: 비온 날 세기\n",
    "### ufunc으로서의 비교 연산자\n",
    "### 부울 배열로 작업하기\n",
    "### 마스크로서의 부울 배열\n",
    "## 팬시 인덱싱\n",
    "### 팬시 인덱싱 알아보기\n",
    "### 결합 인덱싱\n",
    "### 예제: 임의의 점 선택하기\n",
    "### 팬시 인덱싱으로 값 변경하기\n",
    "### 예제: 데이터 구간화\n",
    "### 배열 정렬\n",
    "### NumPy의 빠른 정렬\n",
    "### 부분 정렬: 파티션 나누기\n",
    "### 예제: k 최근접 이웃 알고리즘\n",
    "## 구조화된 데이터: NumPy의 구조화된 배열\n",
    "### 구조화된 배열 만들기\n",
    "### 고급 복합 타입\n",
    "### 레코드 배열: 트위스트를 가진 구조화된 배열\n",
    "### Pandas로 넘어가며"
   ]
  },
  {
   "cell_type": "markdown",
   "id": "22067562-414f-47e4-9de8-8c810e71edcf",
   "metadata": {},
   "source": [
    "# NumPy 소개"
   ]
  },
  {
   "cell_type": "code",
   "execution_count": 1,
   "id": "ee4cbc4e-01f9-416c-a222-8e5082a2c59f",
   "metadata": {},
   "outputs": [
    {
     "data": {
      "text/plain": [
       "'1.20.3'"
      ]
     },
     "execution_count": 1,
     "metadata": {},
     "output_type": "execute_result"
    }
   ],
   "source": [
    "import numpy as np\n",
    "\n",
    "np.__version__"
   ]
  },
  {
   "cell_type": "markdown",
   "id": "125845c7-7385-4dbf-8b5b-1bbb83e8b2e6",
   "metadata": {},
   "source": [
    "## 파이썬의 데이터 타입 이해하기\n",
    "### 파이썬의 정수는 정수 이상이다\n",
    "### 파이썬 리스트는 리스트 이상이다\n",
    "### 파이썬의 고정 타입 배열\n",
    "### 파이썬 리스트에서 배열 만들기"
   ]
  },
  {
   "cell_type": "code",
   "execution_count": 2,
   "id": "bbe7bf1b-e694-4a7b-b9e4-a28b65c9b439",
   "metadata": {},
   "outputs": [
    {
     "data": {
      "text/plain": [
       "array([1, 4, 2, 5, 3])"
      ]
     },
     "execution_count": 2,
     "metadata": {},
     "output_type": "execute_result"
    }
   ],
   "source": [
    "np.array([1, 4, 2, 5, 3])"
   ]
  },
  {
   "cell_type": "code",
   "execution_count": 3,
   "id": "a169885d-3ecc-44ad-a471-3343c4b9ebc7",
   "metadata": {},
   "outputs": [
    {
     "data": {
      "text/plain": [
       "array([3.14, 4.  , 2.  , 1.  , 0.  ])"
      ]
     },
     "execution_count": 3,
     "metadata": {},
     "output_type": "execute_result"
    }
   ],
   "source": [
    "np.array([3.14, 4, 2, True, False])"
   ]
  },
  {
   "cell_type": "code",
   "execution_count": 4,
   "id": "5088281b-1805-4b79-ad04-422b566b83b3",
   "metadata": {},
   "outputs": [
    {
     "data": {
      "text/plain": [
       "array([3, 4, 2, 1, 0])"
      ]
     },
     "execution_count": 4,
     "metadata": {},
     "output_type": "execute_result"
    }
   ],
   "source": [
    "np.array([3.14, 4, 2, True, False], dtype='int')"
   ]
  },
  {
   "cell_type": "code",
   "execution_count": 5,
   "id": "109ade18-e4a0-4c89-9d67-e19de2471c7e",
   "metadata": {},
   "outputs": [
    {
     "data": {
      "text/plain": [
       "array([[[2, 3, 4],\n",
       "        [4, 5, 6],\n",
       "        [6, 7, 8]]])"
      ]
     },
     "execution_count": 5,
     "metadata": {},
     "output_type": "execute_result"
    }
   ],
   "source": [
    "np.array([[range(i, i + 3) for i in [2, 4, 6]]])"
   ]
  },
  {
   "cell_type": "markdown",
   "id": "ba386661-39fe-4afa-a485-5ae911e9b0e4",
   "metadata": {},
   "source": [
    "### 처음부터 배열 만들기"
   ]
  },
  {
   "cell_type": "code",
   "execution_count": 6,
   "id": "df38104b-1400-46ce-9b87-2dbf40d1802c",
   "metadata": {},
   "outputs": [
    {
     "data": {
      "text/plain": [
       "array([0, 0, 0, 0, 0, 0, 0, 0, 0, 0])"
      ]
     },
     "execution_count": 6,
     "metadata": {},
     "output_type": "execute_result"
    }
   ],
   "source": [
    "np.zeros(10, dtype='int')"
   ]
  },
  {
   "cell_type": "code",
   "execution_count": 7,
   "id": "0f6c71f6-9195-425a-99bb-2fae1930abff",
   "metadata": {},
   "outputs": [
    {
     "data": {
      "text/plain": [
       "array([[1., 1., 1., 1., 1.],\n",
       "       [1., 1., 1., 1., 1.],\n",
       "       [1., 1., 1., 1., 1.]])"
      ]
     },
     "execution_count": 7,
     "metadata": {},
     "output_type": "execute_result"
    }
   ],
   "source": [
    "np.ones((3, 5), dtype='float')"
   ]
  },
  {
   "cell_type": "code",
   "execution_count": 8,
   "id": "d2b599d6-b1f8-4ae7-9c12-6296303ed284",
   "metadata": {},
   "outputs": [
    {
     "data": {
      "text/plain": [
       "array([[358.123, 358.123, 358.123, 358.123, 358.123, 358.123],\n",
       "       [358.123, 358.123, 358.123, 358.123, 358.123, 358.123],\n",
       "       [358.123, 358.123, 358.123, 358.123, 358.123, 358.123],\n",
       "       [358.123, 358.123, 358.123, 358.123, 358.123, 358.123]])"
      ]
     },
     "execution_count": 8,
     "metadata": {},
     "output_type": "execute_result"
    }
   ],
   "source": [
    "np.full((4, 6), 358.123)"
   ]
  },
  {
   "cell_type": "code",
   "execution_count": 9,
   "id": "b056cfa6-423c-42d1-afb7-c71ecbb1a025",
   "metadata": {},
   "outputs": [
    {
     "data": {
      "text/plain": [
       "array([ 0,  2,  4,  6,  8, 10, 12, 14, 16, 18])"
      ]
     },
     "execution_count": 9,
     "metadata": {},
     "output_type": "execute_result"
    }
   ],
   "source": [
    "np.arange(0, 20, 2)"
   ]
  },
  {
   "cell_type": "code",
   "execution_count": 10,
   "id": "980e8afc-8f8f-4656-841f-fb9b8465c68c",
   "metadata": {},
   "outputs": [
    {
     "data": {
      "text/plain": [
       "array([0. , 0.2, 0.4, 0.6, 0.8, 1. , 1.2, 1.4, 1.6, 1.8, 2. ])"
      ]
     },
     "execution_count": 10,
     "metadata": {},
     "output_type": "execute_result"
    }
   ],
   "source": [
    "np.linspace(0, 2, 11)"
   ]
  },
  {
   "cell_type": "code",
   "execution_count": 11,
   "id": "04972945-e856-434c-b8f5-22a897415da6",
   "metadata": {},
   "outputs": [
    {
     "data": {
      "text/plain": [
       "array([[0.80316394, 0.94036438, 0.22399653],\n",
       "       [0.17921805, 0.57793338, 0.21551912],\n",
       "       [0.43145449, 0.54651149, 0.41869878]])"
      ]
     },
     "execution_count": 11,
     "metadata": {},
     "output_type": "execute_result"
    }
   ],
   "source": [
    "np.random.random((3, 3))"
   ]
  },
  {
   "cell_type": "code",
   "execution_count": 12,
   "id": "6f84f16e-61aa-47e7-a690-6a890a5e1f0f",
   "metadata": {},
   "outputs": [
    {
     "data": {
      "text/plain": [
       "array([[ 1.65185154,  0.67251024, -0.48701906],\n",
       "       [ 1.53995175,  0.31276246,  0.45465369],\n",
       "       [ 0.86608318,  0.07697717, -0.23193234]])"
      ]
     },
     "execution_count": 12,
     "metadata": {},
     "output_type": "execute_result"
    }
   ],
   "source": [
    "np.random.normal(0, 1, (3, 3))"
   ]
  },
  {
   "cell_type": "code",
   "execution_count": 13,
   "id": "4dd7fac6-31c1-431a-a34a-1ef8d39fe857",
   "metadata": {},
   "outputs": [
    {
     "data": {
      "text/plain": [
       "array([[ 4, -1,  1],\n",
       "       [ 1, -3, -1],\n",
       "       [-5, -2, -5]])"
      ]
     },
     "execution_count": 13,
     "metadata": {},
     "output_type": "execute_result"
    }
   ],
   "source": [
    "np.random.randint(-5, 5, (3, 3))"
   ]
  },
  {
   "cell_type": "code",
   "execution_count": 14,
   "id": "b8c5b425-5b4e-4026-85f9-984343830503",
   "metadata": {},
   "outputs": [
    {
     "data": {
      "text/plain": [
       "array([[1., 0., 0.],\n",
       "       [0., 1., 0.],\n",
       "       [0., 0., 1.]])"
      ]
     },
     "execution_count": 14,
     "metadata": {},
     "output_type": "execute_result"
    }
   ],
   "source": [
    "np.eye(3)"
   ]
  },
  {
   "cell_type": "code",
   "execution_count": 15,
   "id": "33250360-5d96-4d3a-b29b-4660ee691b95",
   "metadata": {},
   "outputs": [
    {
     "data": {
      "text/plain": [
       "array([[1., 0., 0.],\n",
       "       [0., 1., 0.],\n",
       "       [0., 0., 1.]])"
      ]
     },
     "execution_count": 15,
     "metadata": {},
     "output_type": "execute_result"
    }
   ],
   "source": [
    "np.empty((3, 3))"
   ]
  },
  {
   "cell_type": "markdown",
   "id": "da5bfa59-7e16-440c-9c8d-f8fab5096056",
   "metadata": {},
   "source": [
    "### NumPy 표준 데이터 타입\n",
    "## NumPy 배열의 기초\n",
    "### NumPy 배열 속성 지정\n",
    "### 배열 인덱싱: 단일 요소에 접근하기\n",
    "### 배열 슬라이싱: 하위 배열에 접근하기"
   ]
  },
  {
   "cell_type": "markdown",
   "id": "25de6e05-83c7-4652-8d6d-b20dae859fe1",
   "metadata": {},
   "source": [
    "### 배열 재구조화"
   ]
  },
  {
   "cell_type": "code",
   "execution_count": 16,
   "id": "dabd3311-937e-408c-8a79-6ffdcb1103a7",
   "metadata": {},
   "outputs": [
    {
     "data": {
      "text/plain": [
       "array([[ 0,  1,  2,  3,  4],\n",
       "       [ 5,  6,  7,  8,  9],\n",
       "       [10, 11, 12, 13, 14],\n",
       "       [15, 16, 17, 18, 19],\n",
       "       [20, 21, 22, 23, 24]])"
      ]
     },
     "execution_count": 16,
     "metadata": {},
     "output_type": "execute_result"
    }
   ],
   "source": [
    "x = np.array([[i * 5 + j for j in range(5)] for i in range(5)])\n",
    "x"
   ]
  },
  {
   "cell_type": "code",
   "execution_count": 17,
   "id": "01e24116-2430-4854-a27f-249c49925933",
   "metadata": {},
   "outputs": [
    {
     "data": {
      "text/plain": [
       "array([[ 5,  7],\n",
       "       [15, 17]])"
      ]
     },
     "execution_count": 17,
     "metadata": {},
     "output_type": "execute_result"
    }
   ],
   "source": [
    "x[1:5:2, 0:4:2]"
   ]
  },
  {
   "cell_type": "code",
   "execution_count": 18,
   "id": "afe90778-9799-4380-a620-c3ed084643f4",
   "metadata": {},
   "outputs": [
    {
     "data": {
      "text/plain": [
       "array([[24, 23, 22, 21, 20],\n",
       "       [19, 18, 17, 16, 15],\n",
       "       [14, 13, 12, 11, 10],\n",
       "       [ 9,  8,  7,  6,  5],\n",
       "       [ 4,  3,  2,  1,  0]])"
      ]
     },
     "execution_count": 18,
     "metadata": {},
     "output_type": "execute_result"
    }
   ],
   "source": [
    "x[::-1, ::-1]"
   ]
  },
  {
   "cell_type": "markdown",
   "id": "b19874ad-e732-493e-97c1-3189977e24e0",
   "metadata": {},
   "source": [
    "### 배열 연결 및 분할\n",
    "#### 배열 연결"
   ]
  },
  {
   "cell_type": "code",
   "execution_count": 19,
   "id": "aecbc822-6611-4d2f-a408-1abf971fd84f",
   "metadata": {},
   "outputs": [
    {
     "data": {
      "text/plain": [
       "array([1, 2, 3, 3, 2, 1])"
      ]
     },
     "execution_count": 19,
     "metadata": {},
     "output_type": "execute_result"
    }
   ],
   "source": [
    "x = np.array([1, 2, 3])\n",
    "y = np.arange(3, 0, -1)\n",
    "np.concatenate([x, y])"
   ]
  },
  {
   "cell_type": "code",
   "execution_count": 20,
   "id": "26808764-ed4f-44f5-81be-8deafce76cb9",
   "metadata": {},
   "outputs": [],
   "source": [
    "z = np.full(3, 99)"
   ]
  },
  {
   "cell_type": "code",
   "execution_count": 21,
   "id": "1041d98f-6937-4d60-8cb3-0e647f7cbed2",
   "metadata": {},
   "outputs": [
    {
     "data": {
      "text/plain": [
       "array([ 1,  2,  3,  3,  2,  1, 99, 99, 99])"
      ]
     },
     "execution_count": 21,
     "metadata": {},
     "output_type": "execute_result"
    }
   ],
   "source": [
    "c = np.concatenate([x, y, z])\n",
    "c"
   ]
  },
  {
   "cell_type": "code",
   "execution_count": 22,
   "id": "1fd03400-32f9-4351-b0c4-a55c20fc9b96",
   "metadata": {},
   "outputs": [
    {
     "data": {
      "text/plain": [
       "array([[1, 2, 3],\n",
       "       [4, 5, 6],\n",
       "       [1, 2, 3],\n",
       "       [4, 5, 6]])"
      ]
     },
     "execution_count": 22,
     "metadata": {},
     "output_type": "execute_result"
    }
   ],
   "source": [
    "grid = np.array([[1, 2, 3],\n",
    "                 [4, 5, 6]])\n",
    "np.concatenate([grid, grid])"
   ]
  },
  {
   "cell_type": "code",
   "execution_count": 23,
   "id": "4fa50b37-8eda-42e4-9134-4950b0ebc0c5",
   "metadata": {},
   "outputs": [
    {
     "data": {
      "text/plain": [
       "array([[1, 2, 3, 1, 2, 3],\n",
       "       [4, 5, 6, 4, 5, 6]])"
      ]
     },
     "execution_count": 23,
     "metadata": {},
     "output_type": "execute_result"
    }
   ],
   "source": [
    "np.concatenate([grid, grid], axis=1)"
   ]
  },
  {
   "cell_type": "code",
   "execution_count": 24,
   "id": "08a9e35e-0f5d-408a-8808-17105ca08e10",
   "metadata": {},
   "outputs": [
    {
     "data": {
      "text/plain": [
       "array([[1, 2, 3, 3, 2, 1],\n",
       "       [1, 2, 3, 1, 2, 3],\n",
       "       [4, 5, 6, 4, 5, 6]])"
      ]
     },
     "execution_count": 24,
     "metadata": {},
     "output_type": "execute_result"
    }
   ],
   "source": [
    "d = np.concatenate([np.concatenate([x, y]).reshape(1, 6), np.concatenate([grid, grid], axis=1)])\n",
    "d"
   ]
  },
  {
   "cell_type": "markdown",
   "id": "4f58a28e-26ad-44ec-9f6c-5e30292416bc",
   "metadata": {},
   "source": [
    "#### 배열 분할하기"
   ]
  },
  {
   "cell_type": "code",
   "execution_count": 25,
   "id": "0058f87b-4cde-4296-ab8a-1c1db93d8c97",
   "metadata": {},
   "outputs": [
    {
     "name": "stdout",
     "output_type": "stream",
     "text": [
      "[[array([1, 2, 3]), array([3, 2, 1]), array([99, 99, 99])]]\n"
     ]
    }
   ],
   "source": [
    "grd_c = [np.split(c, [3, 6])]\n",
    "print(grd_c)"
   ]
  },
  {
   "cell_type": "code",
   "execution_count": 26,
   "id": "a8cf32fe-77c8-433b-abfa-4b24970b613a",
   "metadata": {},
   "outputs": [
    {
     "data": {
      "text/plain": [
       "(array([[1, 2, 3],\n",
       "        [1, 2, 3],\n",
       "        [4, 5, 6]]),\n",
       " array([[3, 2, 1],\n",
       "        [1, 2, 3],\n",
       "        [4, 5, 6]]))"
      ]
     },
     "execution_count": 26,
     "metadata": {},
     "output_type": "execute_result"
    }
   ],
   "source": [
    "d_left, d_right = np.hsplit(d, [3])\n",
    "d_left, d_right"
   ]
  },
  {
   "cell_type": "code",
   "execution_count": 27,
   "id": "107e19fc-9754-4037-bc4c-02bbe8e7dc77",
   "metadata": {},
   "outputs": [
    {
     "data": {
      "text/plain": [
       "(array([[1, 2, 3, 3, 2, 1]]),\n",
       " array([[1, 2, 3, 1, 2, 3]]),\n",
       " array([[4, 5, 6, 4, 5, 6]]))"
      ]
     },
     "execution_count": 27,
     "metadata": {},
     "output_type": "execute_result"
    }
   ],
   "source": [
    "d_upper, d_middle, d_lower = np.vsplit(d, [1, 2])\n",
    "d_upper, d_middle, d_lower"
   ]
  },
  {
   "cell_type": "markdown",
   "id": "d940616a-1117-4c2c-82e7-e3668f7ea9c5",
   "metadata": {},
   "source": [
    "## NumPy 배열 연산: 유니버설 함수\n",
    "### 루프는 느리다"
   ]
  },
  {
   "cell_type": "code",
   "execution_count": 28,
   "id": "c040a430-7722-4cdc-a1c8-bfb44ce7414b",
   "metadata": {},
   "outputs": [],
   "source": [
    "np.random.seed(0)\n",
    "\n",
    "\n",
    "def compute_reciprocals(values):\n",
    "    output = np.empty(len(values))\n",
    "    for i in range(len(values)):\n",
    "        output[i] = 1.0 / values[i]\n",
    "    return output"
   ]
  },
  {
   "cell_type": "code",
   "execution_count": 29,
   "id": "1f03b52f-ebbc-41ea-a41a-3a894c5f9482",
   "metadata": {},
   "outputs": [
    {
     "name": "stdout",
     "output_type": "stream",
     "text": [
      "1.25 s ± 14.1 ms per loop (mean ± std. dev. of 7 runs, 1 loop each)\n"
     ]
    }
   ],
   "source": [
    "big_array = np.random.randint(1, 100, size=1000000)\n",
    "% timeit compute_reciprocals(big_array)"
   ]
  },
  {
   "cell_type": "markdown",
   "id": "f6ca7540-9343-4792-bbb7-8230f5ca8e09",
   "metadata": {},
   "source": [
    "### UFuncs 소개"
   ]
  },
  {
   "cell_type": "code",
   "execution_count": 30,
   "id": "9274f9fe-79cd-4e58-9499-e5e6d5d42191",
   "metadata": {},
   "outputs": [
    {
     "name": "stdout",
     "output_type": "stream",
     "text": [
      "1.69 ms ± 95.2 µs per loop (mean ± std. dev. of 7 runs, 1000 loops each)\n"
     ]
    }
   ],
   "source": [
    "% timeit (1.0 / big_array)"
   ]
  },
  {
   "cell_type": "markdown",
   "id": "eea87309-7554-410b-9437-f9c2a99f8364",
   "metadata": {},
   "source": [
    "### Numpy 유니버설 함수(UFuncs)\n",
    "#### 배열 산술 연산\n",
    "#### 절댓값 함수"
   ]
  },
  {
   "cell_type": "code",
   "execution_count": 31,
   "id": "b9c60c00-ac74-497b-81fa-d6f74837adf9",
   "metadata": {},
   "outputs": [
    {
     "data": {
      "text/plain": [
       "array([3, 2, 1, 0, 1, 2, 3])"
      ]
     },
     "execution_count": 31,
     "metadata": {},
     "output_type": "execute_result"
    }
   ],
   "source": [
    "x = np.arange(-3, 4)\n",
    "abs(x)"
   ]
  },
  {
   "cell_type": "markdown",
   "id": "813e5cbf-a4e1-40e2-9392-a927c61823ae",
   "metadata": {},
   "source": [
    "#### 삼각함수\n",
    "#### 지수와 로그"
   ]
  },
  {
   "cell_type": "code",
   "execution_count": 32,
   "id": "2e4b1ee6-70b5-4b1a-b7ff-e1b0e1b926db",
   "metadata": {},
   "outputs": [
    {
     "data": {
      "text/plain": [
       "(array([1.        , 2.71828183, 7.3890561 ]),\n",
       " array([1., 2., 4.]),\n",
       " array([1, 3, 9], dtype=int32))"
      ]
     },
     "execution_count": 32,
     "metadata": {},
     "output_type": "execute_result"
    }
   ],
   "source": [
    "x = np.arange(3)\n",
    "np.exp(x), np.exp2(x), np.power(3, x)"
   ]
  },
  {
   "cell_type": "code",
   "execution_count": 33,
   "id": "981f2655-8f31-4639-9b6f-f0080b973fb5",
   "metadata": {},
   "outputs": [
    {
     "data": {
      "text/plain": [
       "array([  1,   4,   9,  10, 100])"
      ]
     },
     "execution_count": 33,
     "metadata": {},
     "output_type": "execute_result"
    }
   ],
   "source": [
    "x = np.array([i ** 2 for i in range(1, 4)] + [10, 100])\n",
    "x"
   ]
  },
  {
   "cell_type": "code",
   "execution_count": 34,
   "id": "6149d88b-b2dc-4a78-833d-3163fadfa781",
   "metadata": {},
   "outputs": [
    {
     "data": {
      "text/plain": [
       "(array([0.        , 1.38629436, 2.19722458, 2.30258509, 4.60517019]),\n",
       " array([0.        , 2.        , 3.169925  , 3.32192809, 6.64385619]),\n",
       " array([0.        , 0.60205999, 0.95424251, 1.        , 2.        ]))"
      ]
     },
     "execution_count": 34,
     "metadata": {},
     "output_type": "execute_result"
    }
   ],
   "source": [
    "np.log(x), np.log2(x), np.log10(x)"
   ]
  },
  {
   "cell_type": "code",
   "execution_count": 35,
   "id": "6a4da61f-8d23-4a41-9ab2-ab54856f16de",
   "metadata": {},
   "outputs": [
    {
     "data": {
      "text/plain": [
       "(array([0.        , 0.0010005 , 0.01005017, 0.10517092]),\n",
       " array([0.        , 0.0009995 , 0.00995033, 0.09531018]))"
      ]
     },
     "execution_count": 35,
     "metadata": {},
     "output_type": "execute_result"
    }
   ],
   "source": [
    "x = [0, 0.001, 0.01, 0.1]\n",
    "np.expm1(x), np.log1p(x)"
   ]
  },
  {
   "cell_type": "markdown",
   "id": "ef3ba6b3-3d57-4913-b482-6dfc5d45f75b",
   "metadata": {},
   "source": [
    "#### 특화된 유니버설 함수\n",
    "### 고급 UFuncs 기능\n",
    "#### 출력 지정"
   ]
  },
  {
   "cell_type": "code",
   "execution_count": 36,
   "id": "eb770486-3c79-4a8e-9913-3e680ea2a63b",
   "metadata": {},
   "outputs": [
    {
     "data": {
      "text/plain": [
       "array([ 0, 10, 20, 30, 40, 50, 60, 70, 80, 90])"
      ]
     },
     "execution_count": 36,
     "metadata": {},
     "output_type": "execute_result"
    }
   ],
   "source": [
    "x = np.arange(10)\n",
    "y = np.empty(10, dtype='int')\n",
    "np.multiply(x, 10, out=y)\n",
    "y"
   ]
  },
  {
   "cell_type": "code",
   "execution_count": 37,
   "id": "6fdbc398-e529-4a21-b04c-c0824d4f3793",
   "metadata": {},
   "outputs": [
    {
     "data": {
      "text/plain": [
       "array([ 0, 10,  1,  2,  4,  8, 16, 70, 80, 90])"
      ]
     },
     "execution_count": 37,
     "metadata": {},
     "output_type": "execute_result"
    }
   ],
   "source": [
    "x = np.arange(5)\n",
    "np.power(2, x, out=y[2:7])\n",
    "y"
   ]
  },
  {
   "cell_type": "markdown",
   "id": "3907d2e2-11cf-4f92-96c9-3e17648413ab",
   "metadata": {},
   "source": [
    "#### 집계"
   ]
  },
  {
   "cell_type": "code",
   "execution_count": 38,
   "id": "cbb98b0f-fee1-43e7-97c6-72a1b096d4e4",
   "metadata": {},
   "outputs": [
    {
     "data": {
      "text/plain": [
       "15"
      ]
     },
     "execution_count": 38,
     "metadata": {},
     "output_type": "execute_result"
    }
   ],
   "source": [
    "x = np.arange(1, 6)\n",
    "np.add.reduce(x)"
   ]
  },
  {
   "cell_type": "code",
   "execution_count": 39,
   "id": "73113980-f796-4fa9-b3c5-66c58cf9adbc",
   "metadata": {},
   "outputs": [
    {
     "data": {
      "text/plain": [
       "120"
      ]
     },
     "execution_count": 39,
     "metadata": {},
     "output_type": "execute_result"
    }
   ],
   "source": [
    "np.multiply.reduce(x)"
   ]
  },
  {
   "cell_type": "code",
   "execution_count": 40,
   "id": "482e9060-21ef-4921-b032-8e0267f2b77b",
   "metadata": {},
   "outputs": [
    {
     "data": {
      "text/plain": [
       "array([  1,   2,   6,  24, 120], dtype=int32)"
      ]
     },
     "execution_count": 40,
     "metadata": {},
     "output_type": "execute_result"
    }
   ],
   "source": [
    "np.multiply.accumulate(x)"
   ]
  },
  {
   "cell_type": "code",
   "execution_count": 41,
   "id": "7e699ee0-bbcf-4b8a-9949-25a4d0dc355a",
   "metadata": {},
   "outputs": [
    {
     "data": {
      "text/plain": [
       "array([ 1,  3,  6, 10, 15], dtype=int32)"
      ]
     },
     "execution_count": 41,
     "metadata": {},
     "output_type": "execute_result"
    }
   ],
   "source": [
    "np.add.accumulate(x)"
   ]
  },
  {
   "cell_type": "markdown",
   "id": "054f78ca-e5e5-4faa-9e70-a600ee2deb88",
   "metadata": {},
   "source": [
    "#### 외적"
   ]
  },
  {
   "cell_type": "code",
   "execution_count": 42,
   "id": "ca247f19-89ea-4048-bc97-537990e5c8d0",
   "metadata": {},
   "outputs": [
    {
     "data": {
      "text/plain": [
       "array([[ 1,  2,  3,  4,  5],\n",
       "       [ 2,  4,  6,  8, 10],\n",
       "       [ 3,  6,  9, 12, 15],\n",
       "       [ 4,  8, 12, 16, 20],\n",
       "       [ 5, 10, 15, 20, 25]])"
      ]
     },
     "execution_count": 42,
     "metadata": {},
     "output_type": "execute_result"
    }
   ],
   "source": [
    "x = np.arange(1, 6)\n",
    "np.multiply.outer(x, x)"
   ]
  },
  {
   "cell_type": "markdown",
   "id": "9b950da5-cadf-40bd-a8af-bfb8afe2dceb",
   "metadata": {},
   "source": [
    "### UFuncs: 더 알아보기"
   ]
  },
  {
   "cell_type": "markdown",
   "id": "9d151a7f-572a-4c44-b8fe-4af2c0e19241",
   "metadata": {},
   "source": [
    "## 집계: 최솟값, 최댓값, 그리고 그 사이의 모든 것\n",
    "### 배열의 값의 합 구하기"
   ]
  },
  {
   "cell_type": "code",
   "execution_count": 43,
   "id": "44d87283-98b8-4dd2-8dbf-bca7cb12cb3c",
   "metadata": {},
   "outputs": [
    {
     "name": "stdout",
     "output_type": "stream",
     "text": [
      "58.6 ms ± 893 µs per loop (mean ± std. dev. of 7 runs, 10 loops each)\n",
      "275 µs ± 6.54 µs per loop (mean ± std. dev. of 7 runs, 1000 loops each)\n"
     ]
    }
   ],
   "source": [
    "L = np.random.random(1000000)\n",
    "% timeit sum(L)\n",
    "% timeit np.sum(L)"
   ]
  },
  {
   "cell_type": "markdown",
   "id": "7b3d45f4-9771-4425-a6ff-a6ee645f3c6e",
   "metadata": {},
   "source": [
    "### 최솟값과 최댓값"
   ]
  },
  {
   "cell_type": "code",
   "execution_count": 44,
   "id": "ea44a1c5-d387-4501-8642-68df4e1c36c9",
   "metadata": {},
   "outputs": [
    {
     "name": "stdout",
     "output_type": "stream",
     "text": [
      "31.2 ms ± 216 µs per loop (mean ± std. dev. of 7 runs, 10 loops each)\n",
      "96.4 µs ± 3.38 µs per loop (mean ± std. dev. of 7 runs, 10000 loops each)\n",
      "31.6 ms ± 138 µs per loop (mean ± std. dev. of 7 runs, 10 loops each)\n",
      "99.8 µs ± 4.69 µs per loop (mean ± std. dev. of 7 runs, 10000 loops each)\n"
     ]
    }
   ],
   "source": [
    "% timeit max(L)\n",
    "% timeit np.max(L)\n",
    "% timeit min(L)\n",
    "% timeit np.min(L)"
   ]
  },
  {
   "cell_type": "code",
   "execution_count": 45,
   "id": "a0e37c7e-8a65-4e24-99e9-ee7716e99846",
   "metadata": {},
   "outputs": [
    {
     "data": {
      "text/plain": [
       "(0.9999997207656334, 7.071203171893359e-07, 500222.72676954407)"
      ]
     },
     "execution_count": 45,
     "metadata": {},
     "output_type": "execute_result"
    }
   ],
   "source": [
    "L.max(), L.min(), L.sum()"
   ]
  },
  {
   "cell_type": "markdown",
   "id": "71a4a27a-8d59-45ea-bfb5-11bb6f33409e",
   "metadata": {},
   "source": [
    "#### 다차원 집계"
   ]
  },
  {
   "cell_type": "code",
   "execution_count": 46,
   "id": "2b2d806a-0afe-40ad-9c2c-f72b9f883895",
   "metadata": {},
   "outputs": [
    {
     "data": {
      "text/plain": [
       "array([[0.11181123, 0.45393984, 0.93683867, 0.71125897],\n",
       "       [0.16526245, 0.43008959, 0.61228252, 0.37038403],\n",
       "       [0.06785738, 0.48412739, 0.7476983 , 0.47720923]])"
      ]
     },
     "execution_count": 46,
     "metadata": {},
     "output_type": "execute_result"
    }
   ],
   "source": [
    "M = np.random.random((3, 4))\n",
    "M"
   ]
  },
  {
   "cell_type": "code",
   "execution_count": 47,
   "id": "d3356371-57c8-4364-9865-996dc6eb08ac",
   "metadata": {},
   "outputs": [
    {
     "data": {
      "text/plain": [
       "(5.568759585050715,\n",
       " array([0.34493105, 1.36815682, 2.29681949, 1.55885222]),\n",
       " array([2.21384871, 1.57801858, 1.77689229]))"
      ]
     },
     "execution_count": 47,
     "metadata": {},
     "output_type": "execute_result"
    }
   ],
   "source": [
    "M.sum(), M.sum(axis=0), M.sum(axis=1)"
   ]
  },
  {
   "cell_type": "markdown",
   "id": "7e0de419-5a6d-4828-a1f4-170e63e5e27a",
   "metadata": {},
   "source": [
    "#### 기타 집계 함수"
   ]
  },
  {
   "cell_type": "code",
   "execution_count": 48,
   "id": "1c3e50e6-2efb-4bc1-9343-998607b3eadf",
   "metadata": {},
   "outputs": [],
   "source": [
    "L = np.random.normal(scale=10, size=1000000)"
   ]
  },
  {
   "cell_type": "code",
   "execution_count": 49,
   "id": "ca03ec58-e092-4198-a3f7-c2c2f2f9965a",
   "metadata": {},
   "outputs": [
    {
     "data": {
      "text/plain": [
       "(-1570.1831652267886,\n",
       " -0.0015701831652267886,\n",
       " 10.005048935687682,\n",
       " 100.10100420550522,\n",
       " 10.005048935687682)"
      ]
     },
     "execution_count": 49,
     "metadata": {},
     "output_type": "execute_result"
    }
   ],
   "source": [
    "L.sum(), L.mean(), np.std(L), np.var(L), np.var(L) ** .5"
   ]
  },
  {
   "cell_type": "code",
   "execution_count": 50,
   "id": "f47f4531-67c8-4bbe-b9ef-2a161151b0a4",
   "metadata": {},
   "outputs": [
    {
     "data": {
      "text/plain": [
       "(-50.90724085079428,\n",
       " 46.804128582806,\n",
       " 522925,\n",
       " 779138,\n",
       " 0.0036677379953129444,\n",
       " 46.804128582806)"
      ]
     },
     "execution_count": 50,
     "metadata": {},
     "output_type": "execute_result"
    }
   ],
   "source": [
    "L.min(), L.max(), np.argmin(L), np.argmax(L), np.median(L), np.percentile(L, 100)"
   ]
  },
  {
   "cell_type": "code",
   "execution_count": 51,
   "id": "6105b885-e554-4711-b5ee-8cb908cc3ccc",
   "metadata": {},
   "outputs": [],
   "source": [
    "L = np.random.normal"
   ]
  },
  {
   "cell_type": "markdown",
   "id": "aa7de306-bd28-4ea7-87fc-449816ec1801",
   "metadata": {},
   "source": [
    "### 예제: 미국 대통령의 평균 신장은 얼마일까?"
   ]
  },
  {
   "cell_type": "code",
   "execution_count": 52,
   "id": "bbf3a103-3d03-4bef-9c80-e41603129ad6",
   "metadata": {},
   "outputs": [
    {
     "data": {
      "text/html": [
       "<div>\n",
       "<style scoped>\n",
       "    .dataframe tbody tr th:only-of-type {\n",
       "        vertical-align: middle;\n",
       "    }\n",
       "\n",
       "    .dataframe tbody tr th {\n",
       "        vertical-align: top;\n",
       "    }\n",
       "\n",
       "    .dataframe thead th {\n",
       "        text-align: right;\n",
       "    }\n",
       "</style>\n",
       "<table border=\"1\" class=\"dataframe\">\n",
       "  <thead>\n",
       "    <tr style=\"text-align: right;\">\n",
       "      <th></th>\n",
       "      <th>order</th>\n",
       "      <th>name</th>\n",
       "      <th>height(cm)</th>\n",
       "    </tr>\n",
       "  </thead>\n",
       "  <tbody>\n",
       "    <tr>\n",
       "      <th>0</th>\n",
       "      <td>1</td>\n",
       "      <td>George Washington</td>\n",
       "      <td>189</td>\n",
       "    </tr>\n",
       "    <tr>\n",
       "      <th>1</th>\n",
       "      <td>2</td>\n",
       "      <td>John Adams</td>\n",
       "      <td>170</td>\n",
       "    </tr>\n",
       "    <tr>\n",
       "      <th>2</th>\n",
       "      <td>3</td>\n",
       "      <td>Thomas Jefferson</td>\n",
       "      <td>189</td>\n",
       "    </tr>\n",
       "    <tr>\n",
       "      <th>3</th>\n",
       "      <td>4</td>\n",
       "      <td>James Madison</td>\n",
       "      <td>163</td>\n",
       "    </tr>\n",
       "    <tr>\n",
       "      <th>4</th>\n",
       "      <td>5</td>\n",
       "      <td>James Monroe</td>\n",
       "      <td>183</td>\n",
       "    </tr>\n",
       "  </tbody>\n",
       "</table>\n",
       "</div>"
      ],
      "text/plain": [
       "   order               name  height(cm)\n",
       "0      1  George Washington         189\n",
       "1      2         John Adams         170\n",
       "2      3   Thomas Jefferson         189\n",
       "3      4      James Madison         163\n",
       "4      5       James Monroe         183"
      ]
     },
     "execution_count": 52,
     "metadata": {},
     "output_type": "execute_result"
    }
   ],
   "source": [
    "import pandas as pd\n",
    "\n",
    "data = pd.read_csv('data/president_heights.csv')\n",
    "data.head()"
   ]
  },
  {
   "cell_type": "code",
   "execution_count": 53,
   "id": "6b4ba5a7-d6c3-4a3e-8989-42ee6d01d861",
   "metadata": {},
   "outputs": [
    {
     "name": "stdout",
     "output_type": "stream",
     "text": [
      "mean: 179.73809523809524\n",
      "std : 6.931843442745892\n",
      "min : 163\n",
      "max : 193\n"
     ]
    }
   ],
   "source": [
    "heights = np.array(data['height(cm)'])\n",
    "print('mean:', heights.mean())\n",
    "print('std :', heights.std())\n",
    "print('min :', heights.min())\n",
    "print('max :', heights.max())"
   ]
  },
  {
   "cell_type": "code",
   "execution_count": 54,
   "id": "e1ca8550-c0bc-4983-a64e-6035c01715c8",
   "metadata": {},
   "outputs": [
    {
     "name": "stdout",
     "output_type": "stream",
     "text": [
      "25th: 174.25\n",
      "medi: 182.0\n",
      "75th: 183.0\n"
     ]
    }
   ],
   "source": [
    "print('25th:', np.percentile(heights, 25))\n",
    "print('medi:', np.median(heights))\n",
    "print('75th:', np.percentile(heights, 75))"
   ]
  },
  {
   "cell_type": "code",
   "execution_count": 55,
   "id": "aaacfead-1cc9-4dd8-ae9c-313cb652d0b5",
   "metadata": {},
   "outputs": [
    {
     "data": {
      "image/png": "[encoded data removed]",
      "text/plain": [
       "<Figure size 432x288 with 1 Axes>"
      ]
     },
     "metadata": {},
     "output_type": "display_data"
    }
   ],
   "source": [
    "import matplotlib.pyplot as plt\n",
    "import seaborn\n",
    "\n",
    "seaborn.set()\n",
    "\n",
    "plt.hist(heights)\n",
    "plt.title('Height distribution of US Kings')\n",
    "plt.xlabel('height(cm)')\n",
    "plt.ylabel('number')\n",
    "plt.show()"
   ]
  },
  {
   "cell_type": "markdown",
   "id": "45ad1afc-1175-43aa-8ae0-e4a59dd46102",
   "metadata": {},
   "source": [
    "## 배열 연산: 브로드캐스팅\n",
    "### 브로드캐스팅 소개"
   ]
  },
  {
   "cell_type": "code",
   "execution_count": 56,
   "id": "ea597333-455e-4b60-8469-8c5a71b06e46",
   "metadata": {},
   "outputs": [
    {
     "data": {
      "text/plain": [
       "array([5, 6, 7])"
      ]
     },
     "execution_count": 56,
     "metadata": {},
     "output_type": "execute_result"
    }
   ],
   "source": [
    "a = np.array([0, 1, 2])\n",
    "b = np.full(3, 5)\n",
    "a + b"
   ]
  },
  {
   "cell_type": "code",
   "execution_count": 57,
   "id": "d93cf2ae-b345-4d99-8271-49b71a942328",
   "metadata": {},
   "outputs": [
    {
     "data": {
      "text/plain": [
       "array([5, 6, 7])"
      ]
     },
     "execution_count": 57,
     "metadata": {},
     "output_type": "execute_result"
    }
   ],
   "source": [
    "a + 5"
   ]
  },
  {
   "cell_type": "code",
   "execution_count": 58,
   "id": "75076dd0-b135-44ff-9393-01b2ae9b02c3",
   "metadata": {},
   "outputs": [
    {
     "data": {
      "text/plain": [
       "array([5, 6, 7])"
      ]
     },
     "execution_count": 58,
     "metadata": {},
     "output_type": "execute_result"
    }
   ],
   "source": [
    "c = np.empty(3, dtype='int')\n",
    "np.add(a, 5, out=c)\n",
    "c"
   ]
  },
  {
   "cell_type": "code",
   "execution_count": 59,
   "id": "aba5ea84-4eb6-4585-91b2-3523ffd5be2a",
   "metadata": {},
   "outputs": [
    {
     "name": "stdout",
     "output_type": "stream",
     "text": [
      "[0 1 2]\n",
      "[[0]\n",
      " [1]\n",
      " [2]]\n"
     ]
    }
   ],
   "source": [
    "a = np.arange(3)\n",
    "b = np.arange(3)[:, np.newaxis]\n",
    "print(a)\n",
    "print(b)"
   ]
  },
  {
   "cell_type": "code",
   "execution_count": 60,
   "id": "bafc2455-8581-4f98-a0fb-b50c5e4d0195",
   "metadata": {},
   "outputs": [
    {
     "data": {
      "text/plain": [
       "array([[0, 1, 2],\n",
       "       [1, 2, 3],\n",
       "       [2, 3, 4]])"
      ]
     },
     "execution_count": 60,
     "metadata": {},
     "output_type": "execute_result"
    }
   ],
   "source": [
    "a + b"
   ]
  },
  {
   "cell_type": "markdown",
   "id": "f20851be-7ed4-40c8-b590-0ba68053cbdd",
   "metadata": {},
   "source": [
    "### 브로드캐스팅 규칙\n",
    "#### 브로드캐스팅 예제1"
   ]
  },
  {
   "cell_type": "code",
   "execution_count": 61,
   "id": "e6f646df-ca45-4a1f-b9bf-41fd28efa891",
   "metadata": {},
   "outputs": [
    {
     "data": {
      "text/plain": [
       "array([[1., 2., 3.],\n",
       "       [1., 2., 3.]])"
      ]
     },
     "execution_count": 61,
     "metadata": {},
     "output_type": "execute_result"
    }
   ],
   "source": [
    "M = np.ones((2, 3))\n",
    "a = np.arange(3)\n",
    "M + a"
   ]
  },
  {
   "cell_type": "markdown",
   "id": "1e059ba7-6dc9-4634-bd81-7e44d7cb4c62",
   "metadata": {},
   "source": [
    "#### 브로드캐스팅 예제2"
   ]
  },
  {
   "cell_type": "code",
   "execution_count": 62,
   "id": "83bd9259-b2ca-4de5-8cb6-f34ac4755a46",
   "metadata": {},
   "outputs": [
    {
     "data": {
      "text/plain": [
       "((3, 1), (3,))"
      ]
     },
     "execution_count": 62,
     "metadata": {},
     "output_type": "execute_result"
    }
   ],
   "source": [
    "a = np.arange(3).reshape((3, 1))\n",
    "b = np.arange(3)\n",
    "a.shape, b.shape"
   ]
  },
  {
   "cell_type": "code",
   "execution_count": 63,
   "id": "c2d06756-34c8-443c-b5cc-5451fa50ed70",
   "metadata": {},
   "outputs": [
    {
     "data": {
      "text/plain": [
       "array([[0, 1, 2],\n",
       "       [1, 2, 3],\n",
       "       [2, 3, 4]])"
      ]
     },
     "execution_count": 63,
     "metadata": {},
     "output_type": "execute_result"
    }
   ],
   "source": [
    "a + b"
   ]
  },
  {
   "cell_type": "markdown",
   "id": "3ec760cd-9939-4239-8da4-995f6d1200e3",
   "metadata": {},
   "source": [
    "#### 브로드캐스팅 예제3"
   ]
  },
  {
   "cell_type": "code",
   "execution_count": 64,
   "id": "87f61c0e-425d-44d6-af89-b9f8c3b87e73",
   "metadata": {},
   "outputs": [
    {
     "name": "stdout",
     "output_type": "stream",
     "text": [
      "[[1. 1.]\n",
      " [1. 1.]\n",
      " [1. 1.]] [0 1 2]\n"
     ]
    }
   ],
   "source": [
    "M = np.ones((3, 2))\n",
    "a = np.arange(3)\n",
    "print(M, a)"
   ]
  },
  {
   "cell_type": "code",
   "execution_count": 65,
   "id": "7509ec9b-c161-47e3-b44b-62f3fdc06d7a",
   "metadata": {},
   "outputs": [
    {
     "data": {
      "text/plain": [
       "(array([[0],\n",
       "        [1],\n",
       "        [2]]),\n",
       " (3, 1))"
      ]
     },
     "execution_count": 65,
     "metadata": {},
     "output_type": "execute_result"
    }
   ],
   "source": [
    "b = a[:, np.newaxis]\n",
    "b, b.shape"
   ]
  },
  {
   "cell_type": "code",
   "execution_count": 66,
   "id": "69f57107-025e-43d7-8f66-34e43369c67b",
   "metadata": {},
   "outputs": [
    {
     "data": {
      "text/plain": [
       "array([[1., 1.],\n",
       "       [2., 2.],\n",
       "       [3., 3.]])"
      ]
     },
     "execution_count": 66,
     "metadata": {},
     "output_type": "execute_result"
    }
   ],
   "source": [
    "M + b"
   ]
  },
  {
   "cell_type": "markdown",
   "id": "f3c4a7e4-39de-4aca-9a35-aff7a600f792",
   "metadata": {},
   "source": [
    "### 실전 브로드캐스팅\n",
    "#### 배열을 중앙 정렬하기"
   ]
  },
  {
   "cell_type": "code",
   "execution_count": 67,
   "id": "58233326-4fff-4287-88d8-2dbf9ff719bf",
   "metadata": {},
   "outputs": [
    {
     "data": {
      "text/plain": [
       "array([0.48052924, 0.50903233, 0.57489337])"
      ]
     },
     "execution_count": 67,
     "metadata": {},
     "output_type": "execute_result"
    }
   ],
   "source": [
    "X = np.random.random((10, 3))\n",
    "X_mean = X.mean(0)\n",
    "X_mean"
   ]
  },
  {
   "cell_type": "code",
   "execution_count": 68,
   "id": "21aa98a3-e76b-42df-9bfd-46183774e444",
   "metadata": {},
   "outputs": [
    {
     "data": {
      "text/plain": [
       "array([ 5.55111512e-17,  2.22044605e-17, -5.55111512e-17])"
      ]
     },
     "execution_count": 68,
     "metadata": {},
     "output_type": "execute_result"
    }
   ],
   "source": [
    "X_centered = X - X_mean\n",
    "X_centered.mean(0)"
   ]
  },
  {
   "cell_type": "code",
   "execution_count": 69,
   "id": "f1476021-e6e6-4039-bcbf-bb18f80bdde5",
   "metadata": {},
   "outputs": [
    {
     "data": {
      "text/plain": [
       "array([[-0.19809906, -0.2265221 ,  0.14770737],\n",
       "       [ 0.14844269, -0.04376484,  0.24855343],\n",
       "       [-0.3903401 ,  0.03823462, -0.05531276],\n",
       "       [ 0.46340453, -0.13365446, -0.46326388],\n",
       "       [-0.39091229, -0.28135866,  0.41438393],\n",
       "       [-0.02915755,  0.43926222,  0.22824034],\n",
       "       [-0.27953212, -0.18540134,  0.06311441],\n",
       "       [ 0.27866559,  0.4217917 ,  0.07612931],\n",
       "       [-0.02814943,  0.24288458, -0.49810176],\n",
       "       [ 0.42567775, -0.27147173, -0.16145041]])"
      ]
     },
     "execution_count": 69,
     "metadata": {},
     "output_type": "execute_result"
    }
   ],
   "source": [
    "X_centered"
   ]
  },
  {
   "cell_type": "markdown",
   "id": "4aa76b1b-071f-4208-ad00-71f6c781e12f",
   "metadata": {},
   "source": [
    "#### 2차원 함수 플로팅하기"
   ]
  },
  {
   "cell_type": "code",
   "execution_count": 70,
   "id": "9de487b4-7d83-4bb1-b4c6-182368353df1",
   "metadata": {},
   "outputs": [
    {
     "data": {
      "image/png": "[encoded data removed]",
      "text/plain": [
       "<Figure size 432x288 with 2 Axes>"
      ]
     },
     "metadata": {},
     "output_type": "display_data"
    }
   ],
   "source": [
    "x = np.linspace(0, 5, 50)\n",
    "y = np.linspace(0, 5, 50)[:, np.newaxis]\n",
    "z = np.sin(x) ** 10 + np.cos(10 + y * x) + np.cos(x)\n",
    "plt.imshow(z, origin='lower', extent=[0, 5, 0, 5], cmap='viridis')\n",
    "plt.colorbar()\n",
    "plt.show()"
   ]
  },
  {
   "cell_type": "markdown",
   "id": "25c36a10-4a92-4f8f-a835-64cf3d8347d7",
   "metadata": {},
   "source": [
    "## 비교, 마스크, 부울 로직\n",
    "### 예제: 비온 날 세기"
   ]
  },
  {
   "cell_type": "code",
   "execution_count": 71,
   "id": "7fe0f673-6e2f-4302-ad85-2b3b6443d1bc",
   "metadata": {},
   "outputs": [
    {
     "data": {
      "text/plain": [
       "(365,)"
      ]
     },
     "execution_count": 71,
     "metadata": {},
     "output_type": "execute_result"
    }
   ],
   "source": [
    "rainfall = np.array(pd.read_csv('data/Seattle2014.csv')['PRCP'].values)\n",
    "inches = rainfall / 254\n",
    "inches.shape"
   ]
  },
  {
   "cell_type": "code",
   "execution_count": 72,
   "id": "d0bfbbff-2e71-446b-b73b-e19d4ad16292",
   "metadata": {},
   "outputs": [
    {
     "data": {
      "image/png": "[encoded data removed]",
      "text/plain": [
       "<Figure size 432x288 with 1 Axes>"
      ]
     },
     "metadata": {},
     "output_type": "display_data"
    }
   ],
   "source": [
    "plt.hist(inches, 40)\n",
    "plt.axis([0, 2, 0, 250])\n",
    "plt.show()"
   ]
  },
  {
   "cell_type": "code",
   "execution_count": 73,
   "id": "38e5ff03-2165-4a84-b776-28e232702beb",
   "metadata": {},
   "outputs": [
    {
     "data": {
      "text/plain": [
       "(array([ True,  True, False, False, False]),\n",
       " array([False, False, False,  True,  True]),\n",
       " array([ True,  True,  True, False, False]),\n",
       " array([False, False,  True,  True,  True]),\n",
       " array([ True,  True, False,  True,  True]))"
      ]
     },
     "execution_count": 73,
     "metadata": {},
     "output_type": "execute_result"
    }
   ],
   "source": [
    "x = np.arange(1, 6)\n",
    "x < 3, x > 3, x <= 3, x >= 3, x != 3"
   ]
  },
  {
   "cell_type": "code",
   "execution_count": 74,
   "id": "04fc84b0-c47c-4aba-a89e-22c271927ab7",
   "metadata": {},
   "outputs": [
    {
     "data": {
      "text/plain": [
       "array([False,  True, False, False, False])"
      ]
     },
     "execution_count": 74,
     "metadata": {},
     "output_type": "execute_result"
    }
   ],
   "source": [
    "(2 * x) == (x ** 2)"
   ]
  },
  {
   "cell_type": "markdown",
   "id": "7e72b2b6-dfc6-4592-abe6-fbe05386d614",
   "metadata": {},
   "source": [
    "### ufunc으로서의 비교 연산자"
   ]
  },
  {
   "cell_type": "code",
   "execution_count": 75,
   "id": "c938bfcb-97dc-4ace-8963-b6e2ab50b31a",
   "metadata": {},
   "outputs": [
    {
     "data": {
      "text/plain": [
       "array([[5, 0, 3, 3],\n",
       "       [7, 9, 3, 5],\n",
       "       [2, 4, 7, 6]])"
      ]
     },
     "execution_count": 75,
     "metadata": {},
     "output_type": "execute_result"
    }
   ],
   "source": [
    "rng = np.random.RandomState(0)\n",
    "x = rng.randint(10, size=(3, 4))\n",
    "x"
   ]
  },
  {
   "cell_type": "code",
   "execution_count": 76,
   "id": "3e154b7e-6a60-449c-815d-44e3a9fca067",
   "metadata": {},
   "outputs": [
    {
     "data": {
      "text/plain": [
       "array([[ True,  True,  True,  True],\n",
       "       [False, False,  True,  True],\n",
       "       [ True,  True, False, False]])"
      ]
     },
     "execution_count": 76,
     "metadata": {},
     "output_type": "execute_result"
    }
   ],
   "source": [
    "x < 6"
   ]
  },
  {
   "cell_type": "markdown",
   "id": "979fd72a-f5d5-4abf-b148-f13055bc09a9",
   "metadata": {},
   "source": [
    "### 부울 배열로 작업하기\n",
    "#### 요소 개수 세기"
   ]
  },
  {
   "cell_type": "code",
   "execution_count": 77,
   "id": "f2d4ee09-fa32-44e9-8da5-71c582e47967",
   "metadata": {},
   "outputs": [
    {
     "data": {
      "text/plain": [
       "8"
      ]
     },
     "execution_count": 77,
     "metadata": {},
     "output_type": "execute_result"
    }
   ],
   "source": [
    "np.count_nonzero(x < 6)"
   ]
  },
  {
   "cell_type": "code",
   "execution_count": 78,
   "id": "765418a0-9076-4a66-85cb-b2c276edc719",
   "metadata": {},
   "outputs": [
    {
     "data": {
      "text/plain": [
       "8"
      ]
     },
     "execution_count": 78,
     "metadata": {},
     "output_type": "execute_result"
    }
   ],
   "source": [
    "np.sum(x < 6)"
   ]
  },
  {
   "cell_type": "code",
   "execution_count": 79,
   "id": "4d3866f6-baba-46f6-b374-04b3ffd81e3b",
   "metadata": {},
   "outputs": [
    {
     "data": {
      "text/plain": [
       "array([4, 2, 2])"
      ]
     },
     "execution_count": 79,
     "metadata": {},
     "output_type": "execute_result"
    }
   ],
   "source": [
    "np.sum(x < 6, axis=1)"
   ]
  },
  {
   "cell_type": "code",
   "execution_count": 80,
   "id": "69ebf9e7-cc52-4f54-96bd-aa4dbd6d1567",
   "metadata": {},
   "outputs": [
    {
     "data": {
      "text/plain": [
       "(True, False, True, False)"
      ]
     },
     "execution_count": 80,
     "metadata": {},
     "output_type": "execute_result"
    }
   ],
   "source": [
    "np.any(x > 8), np.any(x < 0), np.all(x < 10), np.all(x == 6)"
   ]
  },
  {
   "cell_type": "code",
   "execution_count": 81,
   "id": "d2901ed6-b2d5-47a0-9071-c7c3e684630a",
   "metadata": {},
   "outputs": [
    {
     "data": {
      "text/plain": [
       "array([ True, False,  True])"
      ]
     },
     "execution_count": 81,
     "metadata": {},
     "output_type": "execute_result"
    }
   ],
   "source": [
    "np.all(x < 8, axis=1)"
   ]
  },
  {
   "cell_type": "markdown",
   "id": "4f7aa2c1-6911-4f58-84d5-4d79d16f7314",
   "metadata": {},
   "source": [
    "#### 부울 연산자"
   ]
  },
  {
   "cell_type": "code",
   "execution_count": 82,
   "id": "13e4573f-8f04-4354-accd-66a2f35abd4d",
   "metadata": {},
   "outputs": [
    {
     "data": {
      "text/plain": [
       "29"
      ]
     },
     "execution_count": 82,
     "metadata": {},
     "output_type": "execute_result"
    }
   ],
   "source": [
    "np.sum((inches > 0.5) & (inches < 1))"
   ]
  },
  {
   "cell_type": "code",
   "execution_count": 83,
   "id": "aca54fb2-e1f4-4161-a152-e3f15dd25def",
   "metadata": {},
   "outputs": [
    {
     "data": {
      "text/plain": [
       "29"
      ]
     },
     "execution_count": 83,
     "metadata": {},
     "output_type": "execute_result"
    }
   ],
   "source": [
    "np.sum(~((inches <= .5) | (inches >= 1)))"
   ]
  },
  {
   "cell_type": "markdown",
   "id": "3c2e8c6c-f59b-4239-b274-ee0ddcb18fac",
   "metadata": {},
   "source": [
    "### 마스크로서의 부울 배열"
   ]
  },
  {
   "cell_type": "code",
   "execution_count": 84,
   "id": "26e1e10c-38bf-4900-9550-0e71832fbdd4",
   "metadata": {},
   "outputs": [
    {
     "data": {
      "text/plain": [
       "array([0, 3, 3, 3, 2, 4])"
      ]
     },
     "execution_count": 84,
     "metadata": {},
     "output_type": "execute_result"
    }
   ],
   "source": [
    "x[x < 5]"
   ]
  },
  {
   "cell_type": "code",
   "execution_count": 85,
   "id": "73c277ad-7fe7-483d-843f-69a0701442d7",
   "metadata": {},
   "outputs": [
    {
     "data": {
      "text/plain": [
       "(0.19488188976377951, 0.0, 0.8503937007874016, 0.20078740157480315)"
      ]
     },
     "execution_count": 85,
     "metadata": {},
     "output_type": "execute_result"
    }
   ],
   "source": [
    "rainy = (inches > 0)\n",
    "summer = (np.arange(365) - 172 < 90) & (np.arange(365) - 172 > 0)\n",
    "np.median(inches[rainy]), np.median(inches[summer]), np.max(inches[summer]), np.median(inches[rainy & ~summer])"
   ]
  },
  {
   "cell_type": "markdown",
   "id": "da3f2d37-78f7-4b16-a870-156026441d19",
   "metadata": {},
   "source": [
    "## 팬시 인덱싱\n",
    "### 팬시 인덱싱 알아보기"
   ]
  },
  {
   "cell_type": "code",
   "execution_count": 86,
   "id": "a365950b-cf6f-4c87-bfd4-22e23ac08abd",
   "metadata": {},
   "outputs": [
    {
     "data": {
      "text/plain": [
       "[21, 7, 48]"
      ]
     },
     "execution_count": 86,
     "metadata": {},
     "output_type": "execute_result"
    }
   ],
   "source": [
    "rand = np.random.RandomState(42)\n",
    "x = np.random.randint(100, size=10)\n",
    "[x[3], x[7], x[2]]"
   ]
  },
  {
   "cell_type": "code",
   "execution_count": 87,
   "id": "eaa9f33b-9a8b-41db-86a6-ef9a08b763f1",
   "metadata": {},
   "outputs": [
    {
     "data": {
      "text/plain": [
       "array([21,  7, 48])"
      ]
     },
     "execution_count": 87,
     "metadata": {},
     "output_type": "execute_result"
    }
   ],
   "source": [
    "indices = [3, 7, 2]\n",
    "x[indices]"
   ]
  },
  {
   "cell_type": "code",
   "execution_count": 88,
   "id": "351de884-67aa-4f60-b76b-a67176f01134",
   "metadata": {},
   "outputs": [
    {
     "data": {
      "text/plain": [
       "array([[21,  7],\n",
       "       [90, 71]])"
      ]
     },
     "execution_count": 88,
     "metadata": {},
     "output_type": "execute_result"
    }
   ],
   "source": [
    "grd_indice = np.array([[3, 7],\n",
    "                       [4, 5]])\n",
    "x[grd_indice]"
   ]
  },
  {
   "cell_type": "code",
   "execution_count": 89,
   "id": "f4ecf69b-6721-4b9b-b017-77679e0cd2a2",
   "metadata": {},
   "outputs": [
    {
     "data": {
      "text/plain": [
       "array([[ 0,  1,  2,  3],\n",
       "       [ 4,  5,  6,  7],\n",
       "       [ 8,  9, 10, 11]])"
      ]
     },
     "execution_count": 89,
     "metadata": {},
     "output_type": "execute_result"
    }
   ],
   "source": [
    "X = np.arange(12).reshape((3, 4))\n",
    "X"
   ]
  },
  {
   "cell_type": "code",
   "execution_count": 90,
   "id": "3fca8a0c-90e7-4c97-922e-26433549dfae",
   "metadata": {},
   "outputs": [
    {
     "data": {
      "text/plain": [
       "array([ 2,  5, 11])"
      ]
     },
     "execution_count": 90,
     "metadata": {},
     "output_type": "execute_result"
    }
   ],
   "source": [
    "row = np.array([0, 1, 2])\n",
    "col = np.array([2, 1, 3])\n",
    "X[row, col]"
   ]
  },
  {
   "cell_type": "code",
   "execution_count": 91,
   "id": "e22c7f05-4ac6-417a-a830-de91dfe1d0db",
   "metadata": {},
   "outputs": [
    {
     "data": {
      "text/plain": [
       "array([ 0, 10])"
      ]
     },
     "execution_count": 91,
     "metadata": {},
     "output_type": "execute_result"
    }
   ],
   "source": [
    "indices = np.array([0, 2])\n",
    "X[indices, indices]"
   ]
  },
  {
   "cell_type": "code",
   "execution_count": 92,
   "id": "69190c76-95d4-4f2f-9548-6eab936b6550",
   "metadata": {},
   "outputs": [
    {
     "data": {
      "text/plain": [
       "array([[ 2,  1,  3],\n",
       "       [ 6,  5,  7],\n",
       "       [10,  9, 11]])"
      ]
     },
     "execution_count": 92,
     "metadata": {},
     "output_type": "execute_result"
    }
   ],
   "source": [
    "X[row[:, np.newaxis], col]"
   ]
  },
  {
   "cell_type": "code",
   "execution_count": 93,
   "id": "8e70e4cd-fc07-4c42-8172-791b55903dfd",
   "metadata": {},
   "outputs": [
    {
     "data": {
      "text/plain": [
       "array([[ 2,  1,  3],\n",
       "       [ 6,  5,  7],\n",
       "       [10,  9, 11]])"
      ]
     },
     "execution_count": 93,
     "metadata": {},
     "output_type": "execute_result"
    }
   ],
   "source": [
    "row = row.reshape(3, 1)\n",
    "X[row, col]"
   ]
  },
  {
   "cell_type": "markdown",
   "id": "976b59bc-ad04-4089-ad48-5bd16dec4da5",
   "metadata": {},
   "source": [
    "### 결합 인덱싱"
   ]
  },
  {
   "cell_type": "code",
   "execution_count": 94,
   "id": "1823a2c1-1640-40e9-bc45-891b62e26d72",
   "metadata": {},
   "outputs": [
    {
     "data": {
      "text/plain": [
       "array([[ 0,  1,  2,  3],\n",
       "       [ 4,  5,  6,  7],\n",
       "       [ 8,  9, 10, 11]])"
      ]
     },
     "execution_count": 94,
     "metadata": {},
     "output_type": "execute_result"
    }
   ],
   "source": [
    "X"
   ]
  },
  {
   "cell_type": "code",
   "execution_count": 95,
   "id": "d2316d54-1de1-411a-b8a6-6b40a10f25b6",
   "metadata": {},
   "outputs": [
    {
     "data": {
      "text/plain": [
       "array([10,  8,  9])"
      ]
     },
     "execution_count": 95,
     "metadata": {},
     "output_type": "execute_result"
    }
   ],
   "source": [
    "X[2, [2, 0, 1]]"
   ]
  },
  {
   "cell_type": "code",
   "execution_count": 96,
   "id": "f668a368-3cef-479b-9602-5dd99166f50c",
   "metadata": {},
   "outputs": [
    {
     "data": {
      "text/plain": [
       "array([[ 6,  4,  5],\n",
       "       [10,  8,  9]])"
      ]
     },
     "execution_count": 96,
     "metadata": {},
     "output_type": "execute_result"
    }
   ],
   "source": [
    "X[1:, [2, 0, 1]]"
   ]
  },
  {
   "cell_type": "code",
   "execution_count": 97,
   "id": "5e457736-4d0b-4891-ab72-5b8818512699",
   "metadata": {},
   "outputs": [
    {
     "data": {
      "text/plain": [
       "array([[[ 0,  2]],\n",
       "\n",
       "       [[ 4,  6]],\n",
       "\n",
       "       [[ 8, 10]]])"
      ]
     },
     "execution_count": 97,
     "metadata": {},
     "output_type": "execute_result"
    }
   ],
   "source": [
    "mask = np.array([1, 0, 1, 0], dtype=bool)\n",
    "X[row[:, np.newaxis], mask]"
   ]
  },
  {
   "cell_type": "markdown",
   "id": "527cf658-ba6b-40d4-a799-420523ea1888",
   "metadata": {},
   "source": [
    "### 예제: 임의의 점 선택하기"
   ]
  },
  {
   "cell_type": "code",
   "execution_count": 98,
   "id": "f54ad7bc-44de-40e3-bb9b-ffbf09ea94d8",
   "metadata": {},
   "outputs": [
    {
     "data": {
      "text/plain": [
       "(100, 2)"
      ]
     },
     "execution_count": 98,
     "metadata": {},
     "output_type": "execute_result"
    }
   ],
   "source": [
    "mean = [0, 0]\n",
    "cov = [[1, 2],\n",
    "       [2, 5]]\n",
    "X = rand.multivariate_normal(mean, cov, 100)\n",
    "X.shape"
   ]
  },
  {
   "cell_type": "code",
   "execution_count": 99,
   "id": "51aa62f6-0de3-4c8d-89f6-aafa0b0e6718",
   "metadata": {},
   "outputs": [
    {
     "data": {
      "image/png": "[encoded data removed]",
      "text/plain": [
       "<Figure size 432x288 with 1 Axes>"
      ]
     },
     "metadata": {},
     "output_type": "display_data"
    }
   ],
   "source": [
    "plt.scatter(X[:, 0], X[:, 1])\n",
    "plt.axis([-3, 3, -6, 6])\n",
    "plt.show()"
   ]
  },
  {
   "cell_type": "code",
   "execution_count": 100,
   "id": "68cb7a81-4b25-4b2c-8678-19da96b51732",
   "metadata": {},
   "outputs": [
    {
     "data": {
      "text/plain": [
       "array([24, 51, 34, 59, 58,  0, 52, 30, 37, 38, 61, 39, 33, 74, 60,  8, 18,\n",
       "       92, 69, 88])"
      ]
     },
     "execution_count": 100,
     "metadata": {},
     "output_type": "execute_result"
    }
   ],
   "source": [
    "indices = np.random.randint(100, size=20)\n",
    "indices"
   ]
  },
  {
   "cell_type": "code",
   "execution_count": null,
   "id": "f0eaa692-6e83-4cdb-bdcb-f2e0598f490c",
   "metadata": {},
   "outputs": [],
   "source": []
  },
  {
   "cell_type": "code",
   "execution_count": 101,
   "id": "9fbdcdff-be46-4511-b795-8bd54577e1de",
   "metadata": {},
   "outputs": [
    {
     "data": {
      "image/png": "[encoded data removed]",
      "text/plain": [
       "<Figure size 432x288 with 1 Axes>"
      ]
     },
     "metadata": {},
     "output_type": "display_data"
    }
   ],
   "source": [
    "selection = X[indices]\n",
    "\n",
    "plt.scatter(X[:, 0], X[:, 1], alpha=.4)\n",
    "plt.scatter(selection[:, 0], selection[:, 1], color='r', alpha=.8)\n",
    "plt.axis([-3, 3, -6, 6])\n",
    "plt.show()\n"
   ]
  },
  {
   "cell_type": "markdown",
   "id": "bd281392-e9f7-4d4b-baa8-b293124c3422",
   "metadata": {},
   "source": [
    "### 팬시 인덱싱으로 값 변경하기"
   ]
  },
  {
   "cell_type": "code",
   "execution_count": 102,
   "id": "7750e1b5-4b97-4dfd-b095-de5dc6d5abb3",
   "metadata": {},
   "outputs": [
    {
     "data": {
      "text/plain": [
       "array([ 0, 22, 11,  3, 44,  5,  6,  7, 33,  9])"
      ]
     },
     "execution_count": 102,
     "metadata": {},
     "output_type": "execute_result"
    }
   ],
   "source": [
    "x = np.arange(10)\n",
    "i = np.array([2, 1, 8, 4])\n",
    "x[i] = 11, 22, 33, 44\n",
    "x"
   ]
  },
  {
   "cell_type": "code",
   "execution_count": 103,
   "id": "b137b088-67e7-41a1-98bc-41a34969d779",
   "metadata": {},
   "outputs": [
    {
     "data": {
      "text/plain": [
       "array([ 0, 99, 99,  3, 99,  5,  6,  7, 99,  9])"
      ]
     },
     "execution_count": 103,
     "metadata": {},
     "output_type": "execute_result"
    }
   ],
   "source": [
    "x[i] = 99\n",
    "x"
   ]
  },
  {
   "cell_type": "code",
   "execution_count": 104,
   "id": "303820ba-0183-4ffd-a5b5-ac82469e4760",
   "metadata": {},
   "outputs": [
    {
     "data": {
      "text/plain": [
       "array([  0, 109, 109,   3, 109,   5,   6,   7, 109,   9])"
      ]
     },
     "execution_count": 104,
     "metadata": {},
     "output_type": "execute_result"
    }
   ],
   "source": [
    "x[i] += 10\n",
    "x"
   ]
  },
  {
   "cell_type": "code",
   "execution_count": 105,
   "id": "a56a92c0-2fc6-4f49-a39c-889a3d65fe24",
   "metadata": {},
   "outputs": [
    {
     "data": {
      "text/plain": [
       "array([6., 0., 0., 0., 0., 0., 0., 0., 0., 0.])"
      ]
     },
     "execution_count": 105,
     "metadata": {},
     "output_type": "execute_result"
    }
   ],
   "source": [
    "x = np.zeros(10)\n",
    "x[[0, 0]] = [4, 6]\n",
    "x"
   ]
  },
  {
   "cell_type": "code",
   "execution_count": 106,
   "id": "48a4526d-431b-4055-a184-96ceb0669e55",
   "metadata": {},
   "outputs": [
    {
     "data": {
      "text/plain": [
       "array([6., 0., 1., 1., 1., 0., 0., 0., 0., 0.])"
      ]
     },
     "execution_count": 106,
     "metadata": {},
     "output_type": "execute_result"
    }
   ],
   "source": [
    "i = [2, 3, 3, 4, 4, 4]\n",
    "x[i] += 1\n",
    "x"
   ]
  },
  {
   "cell_type": "code",
   "execution_count": 107,
   "id": "b0be8f12-0f6c-442b-a010-41b4d9302d80",
   "metadata": {},
   "outputs": [
    {
     "data": {
      "text/plain": [
       "array([0., 0., 1., 2., 3., 0., 0., 0., 0., 0.])"
      ]
     },
     "execution_count": 107,
     "metadata": {},
     "output_type": "execute_result"
    }
   ],
   "source": [
    "x = np.zeros(10)\n",
    "np.add.at(x, i, 1)\n",
    "x"
   ]
  },
  {
   "cell_type": "markdown",
   "id": "57ba0912-e2e6-488f-9658-07f6f829cc73",
   "metadata": {},
   "source": [
    "### 예제: 데이터 구간화"
   ]
  },
  {
   "cell_type": "code",
   "execution_count": 108,
   "id": "f5037846-2fe3-4560-89d0-04474b6d8897",
   "metadata": {},
   "outputs": [
    {
     "data": {
      "text/plain": [
       "[<matplotlib.lines.Line2D at 0x2940f9b56a0>]"
      ]
     },
     "execution_count": 108,
     "metadata": {},
     "output_type": "execute_result"
    },
    {
     "data": {
      "image/png": "[encoded data removed]",
      "text/plain": [
       "<Figure size 432x288 with 1 Axes>"
      ]
     },
     "metadata": {},
     "output_type": "display_data"
    }
   ],
   "source": [
    "np.random.seed(42)\n",
    "x = np.random.randn(100000)\n",
    "bins = np.linspace(-3, 3, 19)\n",
    "counts = np.zeros(20, dtype='int')\n",
    "i = np.searchsorted(bins, x)\n",
    "np.add.at(counts, i, 1)\n",
    "plt.plot(counts)"
   ]
  },
  {
   "cell_type": "code",
   "execution_count": 109,
   "id": "f9c071be-674d-46eb-8c5d-5a9f473b8b92",
   "metadata": {},
   "outputs": [
    {
     "data": {
      "image/png": "[encoded data removed]",
      "text/plain": [
       "<Figure size 432x288 with 1 Axes>"
      ]
     },
     "metadata": {},
     "output_type": "display_data"
    }
   ],
   "source": [
    "plt.hist(x, bins)\n",
    "plt.show()"
   ]
  },
  {
   "cell_type": "code",
   "execution_count": 110,
   "id": "dbeb932c-4293-49e7-9177-957147be764e",
   "metadata": {},
   "outputs": [
    {
     "name": "stdout",
     "output_type": "stream",
     "text": [
      "5 ms ± 27.6 µs per loop (mean ± std. dev. of 7 runs, 100 loops each)\n",
      "5.55 ms ± 62.1 µs per loop (mean ± std. dev. of 7 runs, 100 loops each)\n"
     ]
    }
   ],
   "source": [
    "% timeit counts, edges = np.histogram(x, bins)\n",
    "% timeit np.add.at(counts, np.searchsorted(bins, x), 1)"
   ]
  },
  {
   "cell_type": "code",
   "execution_count": 111,
   "id": "e3c43ae9-ab35-425e-808f-d4cc6c38fb23",
   "metadata": {},
   "outputs": [
    {
     "name": "stdout",
     "output_type": "stream",
     "text": [
      "5.03 ms ± 14.7 µs per loop (mean ± std. dev. of 7 runs, 100 loops each)\n",
      "5.56 ms ± 152 µs per loop (mean ± std. dev. of 7 runs, 100 loops each)\n"
     ]
    }
   ],
   "source": [
    "x = np.random.randn(100000)\n",
    "% timeit counts, edges = np.histogram(x, bins)\n",
    "% timeit np.add.at(counts, np.searchsorted(bins, x), 1)"
   ]
  },
  {
   "cell_type": "code",
   "execution_count": 112,
   "id": "22252885-9a0b-422e-9f3e-a128ca3045ab",
   "metadata": {},
   "outputs": [
    {
     "data": {
      "text/plain": [
       "(array([  36,   61,  135,  270,  458,  661,  917, 1140, 1338, 1316, 1178,\n",
       "         924,  668,  422,  231,  139,   50,   30], dtype=int64),\n",
       " array([-3.        , -2.66666667, -2.33333333, -2.        , -1.66666667,\n",
       "        -1.33333333, -1.        , -0.66666667, -0.33333333,  0.        ,\n",
       "         0.33333333,  0.66666667,  1.        ,  1.33333333,  1.66666667,\n",
       "         2.        ,  2.33333333,  2.66666667,  3.        ]))"
      ]
     },
     "execution_count": 112,
     "metadata": {},
     "output_type": "execute_result"
    }
   ],
   "source": [
    "x = np.random.randn(10000)\n",
    "counts, edges = np.histogram(x, bins)\n",
    "counts, edges"
   ]
  },
  {
   "cell_type": "markdown",
   "id": "30f4e6a7-d642-40fb-9f76-4eba1ae018eb",
   "metadata": {},
   "source": [
    "### 배열 정렬\n",
    "### NumPy의 빠른 정렬"
   ]
  },
  {
   "cell_type": "code",
   "execution_count": 113,
   "id": "c37d9b85-1d31-44ed-9cde-618272f2befd",
   "metadata": {},
   "outputs": [
    {
     "data": {
      "text/plain": [
       "array([59, 28, 83, 24, 50, 24, 87, 97,  6,  6])"
      ]
     },
     "execution_count": 113,
     "metadata": {},
     "output_type": "execute_result"
    }
   ],
   "source": [
    "x = np.random.randint(100, size=10)\n",
    "x"
   ]
  },
  {
   "cell_type": "code",
   "execution_count": 114,
   "id": "3ddf26c4-9bd8-4ff0-9252-a66ab1879093",
   "metadata": {},
   "outputs": [
    {
     "data": {
      "text/plain": [
       "array([ 6,  6, 24, 24, 28, 50, 59, 83, 87, 97])"
      ]
     },
     "execution_count": 114,
     "metadata": {},
     "output_type": "execute_result"
    }
   ],
   "source": [
    "x_sorted = np.sort(x)\n",
    "x_sorted"
   ]
  },
  {
   "cell_type": "code",
   "execution_count": 115,
   "id": "d0b3b9f4-ee97-46b8-b239-1755e82a0242",
   "metadata": {},
   "outputs": [
    {
     "data": {
      "text/plain": [
       "array([ 6,  6, 24, 24, 28, 50, 59, 83, 87, 97])"
      ]
     },
     "execution_count": 115,
     "metadata": {},
     "output_type": "execute_result"
    }
   ],
   "source": [
    "x.sort()\n",
    "x"
   ]
  },
  {
   "cell_type": "code",
   "execution_count": 116,
   "id": "9207df9f-b528-43a9-a291-bebf169913a0",
   "metadata": {},
   "outputs": [
    {
     "data": {
      "text/plain": [
       "array([0, 5, 3, 6, 9, 8, 7, 4, 2, 1], dtype=int64)"
      ]
     },
     "execution_count": 116,
     "metadata": {},
     "output_type": "execute_result"
    }
   ],
   "source": [
    "x = np.random.randint(100, size=10)\n",
    "i = np.argsort(x)\n",
    "i"
   ]
  },
  {
   "cell_type": "code",
   "execution_count": 117,
   "id": "22ee1769-3935-46ad-acd7-8f037b8c16ef",
   "metadata": {},
   "outputs": [
    {
     "data": {
      "text/plain": [
       "array([ 9, 11, 28, 33, 40, 49, 51, 52, 85, 97])"
      ]
     },
     "execution_count": 117,
     "metadata": {},
     "output_type": "execute_result"
    }
   ],
   "source": [
    "x = x[i]\n",
    "x"
   ]
  },
  {
   "cell_type": "markdown",
   "id": "0b47aae2-0a6e-44e1-a553-1c7d5b248fdf",
   "metadata": {},
   "source": [
    "#### 행이나 열 기준으로 정렬하기"
   ]
  },
  {
   "cell_type": "code",
   "execution_count": 118,
   "id": "9eb3b4a1-705b-4d82-be88-8fe5344087cd",
   "metadata": {},
   "outputs": [
    {
     "data": {
      "text/plain": [
       "array([[6, 3, 7, 4, 6, 9],\n",
       "       [2, 6, 7, 4, 3, 7],\n",
       "       [7, 2, 5, 4, 1, 7],\n",
       "       [5, 1, 4, 0, 9, 5]])"
      ]
     },
     "execution_count": 118,
     "metadata": {},
     "output_type": "execute_result"
    }
   ],
   "source": [
    "rand = np.random.RandomState(42)\n",
    "X = rand.randint(0, 10, (4, 6))\n",
    "X"
   ]
  },
  {
   "cell_type": "code",
   "execution_count": 119,
   "id": "072367cf-002e-4d19-bfe2-60bac3c38266",
   "metadata": {},
   "outputs": [
    {
     "data": {
      "text/plain": [
       "array([[2, 1, 4, 0, 1, 5],\n",
       "       [5, 2, 5, 4, 3, 7],\n",
       "       [6, 3, 7, 4, 6, 7],\n",
       "       [7, 6, 7, 4, 9, 9]])"
      ]
     },
     "execution_count": 119,
     "metadata": {},
     "output_type": "execute_result"
    }
   ],
   "source": [
    "np.sort(X, axis=0)"
   ]
  },
  {
   "cell_type": "code",
   "execution_count": 120,
   "id": "30e2e8e8-d704-4771-9c05-19081b48fb05",
   "metadata": {},
   "outputs": [
    {
     "data": {
      "text/plain": [
       "array([[3, 4, 6, 6, 7, 9],\n",
       "       [2, 3, 4, 6, 7, 7],\n",
       "       [1, 2, 4, 5, 7, 7],\n",
       "       [0, 1, 4, 5, 5, 9]])"
      ]
     },
     "execution_count": 120,
     "metadata": {},
     "output_type": "execute_result"
    }
   ],
   "source": [
    "np.sort(X, axis=1)"
   ]
  },
  {
   "cell_type": "markdown",
   "id": "0a888f5c-270c-447e-a6c4-4eb53f8ca851",
   "metadata": {},
   "source": [
    "### 부분 정렬: 파티션 나누기"
   ]
  },
  {
   "cell_type": "code",
   "execution_count": 121,
   "id": "591130c8-7310-4264-bf6c-1eb3cef327a6",
   "metadata": {},
   "outputs": [
    {
     "data": {
      "text/plain": [
       "array([6, 6, 0, 8, 4, 1, 0, 6, 6, 3])"
      ]
     },
     "execution_count": 121,
     "metadata": {},
     "output_type": "execute_result"
    }
   ],
   "source": [
    "x = np.random.randint(0, 10, 10)\n",
    "x"
   ]
  },
  {
   "cell_type": "code",
   "execution_count": 122,
   "id": "4b6dda8f-2361-4d95-b429-f460438fe0e5",
   "metadata": {},
   "outputs": [
    {
     "data": {
      "text/plain": [
       "array([0, 0, 1, 3, 4, 6, 8, 6, 6, 6])"
      ]
     },
     "execution_count": 122,
     "metadata": {},
     "output_type": "execute_result"
    }
   ],
   "source": [
    "np.partition(x, 3)"
   ]
  },
  {
   "cell_type": "code",
   "execution_count": 123,
   "id": "8ab6cc1b-918b-4b4e-89c2-07be42762cea",
   "metadata": {},
   "outputs": [
    {
     "data": {
      "text/plain": [
       "array([[92, 61, 19, 66, 74,  5],\n",
       "       [14, 43, 26,  6, 15, 87],\n",
       "       [70,  6, 50, 42, 57, 95],\n",
       "       [84, 29, 17, 18, 33, 59]])"
      ]
     },
     "execution_count": 123,
     "metadata": {},
     "output_type": "execute_result"
    }
   ],
   "source": [
    "X = np.random.randint(0, 100, (4, 6))\n",
    "X"
   ]
  },
  {
   "cell_type": "code",
   "execution_count": 124,
   "id": "b62b3ae6-2eb7-455a-bb20-38796c44123c",
   "metadata": {},
   "outputs": [
    {
     "data": {
      "text/plain": [
       "array([[14,  6, 17,  6, 15,  5],\n",
       "       [70, 29, 19, 18, 33, 59],\n",
       "       [84, 43, 26, 42, 57, 87],\n",
       "       [92, 61, 50, 66, 74, 95]])"
      ]
     },
     "execution_count": 124,
     "metadata": {},
     "output_type": "execute_result"
    }
   ],
   "source": [
    "np.partition(X, 2, axis=0)"
   ]
  },
  {
   "cell_type": "code",
   "execution_count": 125,
   "id": "db65a831-dcf0-4ec9-96ab-b04cd0521de7",
   "metadata": {},
   "outputs": [
    {
     "data": {
      "text/plain": [
       "array([[ 5, 19, 61, 66, 74, 92],\n",
       "       [ 6, 14, 15, 26, 43, 87],\n",
       "       [ 6, 42, 50, 57, 70, 95],\n",
       "       [17, 18, 29, 33, 59, 84]])"
      ]
     },
     "execution_count": 125,
     "metadata": {},
     "output_type": "execute_result"
    }
   ],
   "source": [
    "np.partition(X, 3, axis=1)"
   ]
  },
  {
   "cell_type": "markdown",
   "id": "9c9706d0-3506-4691-8814-189252de121e",
   "metadata": {},
   "source": [
    "### 예제: k 최근접 이웃 알고리즘"
   ]
  },
  {
   "cell_type": "code",
   "execution_count": 126,
   "id": "aa7f1f1c-079e-4806-bb28-ef03962af033",
   "metadata": {},
   "outputs": [
    {
     "data": {
      "image/png": "[encoded data removed]",
      "text/plain": [
       "<Figure size 432x288 with 1 Axes>"
      ]
     },
     "metadata": {},
     "output_type": "display_data"
    }
   ],
   "source": [
    "X = np.random.rand(1000, 2)\n",
    "plt.scatter(X[:, 0], X[:, 1], s=10)\n",
    "plt.show()"
   ]
  },
  {
   "cell_type": "code",
   "execution_count": 127,
   "id": "58f78664-8263-49d3-9de7-2df2c0b22510",
   "metadata": {},
   "outputs": [
    {
     "data": {
      "text/plain": [
       "array([[0.        , 0.08388655, 0.2800612 , ..., 0.25360348, 0.41645788,\n",
       "        0.45850273],\n",
       "       [0.08388655, 0.        , 0.05770954, ..., 0.07083253, 0.15900129,\n",
       "        0.18306339],\n",
       "       [0.2800612 , 0.05770954, 0.        , ..., 0.03717258, 0.06088693,\n",
       "        0.09565843],\n",
       "       ...,\n",
       "       [0.25360348, 0.07083253, 0.03717258, ..., 0.        , 0.02009354,\n",
       "        0.25186823],\n",
       "       [0.41645788, 0.15900129, 0.06088693, ..., 0.02009354, 0.        ,\n",
       "        0.28675215],\n",
       "       [0.45850273, 0.18306339, 0.09565843, ..., 0.25186823, 0.28675215,\n",
       "        0.        ]])"
      ]
     },
     "execution_count": 127,
     "metadata": {},
     "output_type": "execute_result"
    }
   ],
   "source": [
    "dist_sq = np.sum((X[:, np.newaxis, :] - X[np.newaxis, :, :]) ** 2, axis=-1)\n",
    "dist_sq"
   ]
  },
  {
   "cell_type": "code",
   "execution_count": 128,
   "id": "84c053a1-9385-402c-ba53-63429ec29f87",
   "metadata": {},
   "outputs": [
    {
     "data": {
      "text/plain": [
       "array([[0.        , 0.08388655, 0.2800612 , ..., 0.25360348, 0.41645788,\n",
       "        0.45850273],\n",
       "       [0.08388655, 0.        , 0.05770954, ..., 0.07083253, 0.15900129,\n",
       "        0.18306339],\n",
       "       [0.2800612 , 0.05770954, 0.        , ..., 0.03717258, 0.06088693,\n",
       "        0.09565843],\n",
       "       ...,\n",
       "       [0.25360348, 0.07083253, 0.03717258, ..., 0.        , 0.02009354,\n",
       "        0.25186823],\n",
       "       [0.41645788, 0.15900129, 0.06088693, ..., 0.02009354, 0.        ,\n",
       "        0.28675215],\n",
       "       [0.45850273, 0.18306339, 0.09565843, ..., 0.25186823, 0.28675215,\n",
       "        0.        ]])"
      ]
     },
     "execution_count": 128,
     "metadata": {},
     "output_type": "execute_result"
    }
   ],
   "source": [
    "differences = X[:, np.newaxis, :] - X[np.newaxis, :, :]\n",
    "sq_differences = differences ** 2\n",
    "dist_sq = sq_differences.sum(-1)\n",
    "dist_sq"
   ]
  },
  {
   "cell_type": "code",
   "execution_count": 129,
   "id": "b622b831-b083-47aa-9a8e-db051a375a4e",
   "metadata": {},
   "outputs": [
    {
     "data": {
      "text/plain": [
       "array([[  0,  99, 560, ..., 674, 317, 958],\n",
       "       [  1, 953, 798, ..., 670, 880, 465],\n",
       "       [  2, 332, 362, ..., 670, 880, 465],\n",
       "       ...,\n",
       "       [997, 114, 612, ...,   7, 692, 878],\n",
       "       [998, 848, 687, ...,   7, 692, 878],\n",
       "       [999, 708, 113, ..., 670, 880, 465]], dtype=int64)"
      ]
     },
     "execution_count": 129,
     "metadata": {},
     "output_type": "execute_result"
    }
   ],
   "source": [
    "nearest = np.argsort(dist_sq, axis=1)\n",
    "nearest"
   ]
  },
  {
   "cell_type": "code",
   "execution_count": 130,
   "id": "f569cd94-3431-44d6-9bd7-e13102f30d61",
   "metadata": {},
   "outputs": [
    {
     "data": {
      "text/plain": [
       "array([[3.92748742e-04, 0.00000000e+00, 3.94430810e-04, ...,\n",
       "        4.67436687e-01, 4.68398570e-01, 4.94375552e-01],\n",
       "       [0.00000000e+00, 6.82065930e-04, 8.17784026e-04, ...,\n",
       "        4.90230558e-01, 3.28283242e-01, 1.90151442e-01],\n",
       "       [0.00000000e+00, 2.96589809e-04, 3.67954659e-04, ...,\n",
       "        3.53568217e-01, 9.86798820e-02, 2.80061202e-01],\n",
       "       ...,\n",
       "       [0.00000000e+00, 8.01615308e-04, 8.91046656e-04, ...,\n",
       "        3.92443081e-01, 9.23220620e-01, 2.53603477e-01],\n",
       "       [0.00000000e+00, 9.47016847e-05, 1.29461872e-04, ...,\n",
       "        5.13901475e-01, 1.20562623e+00, 4.16457881e-01],\n",
       "       [0.00000000e+00, 2.93328916e-04, 4.63195386e-04, ...,\n",
       "        2.51868230e-01, 2.86752145e-01, 4.58502733e-01]])"
      ]
     },
     "execution_count": 130,
     "metadata": {},
     "output_type": "execute_result"
    }
   ],
   "source": [
    "K = 2\n",
    "nearest_partition = np.partition(dist_sq, K + 1, axis=1)\n",
    "nearest_partition"
   ]
  },
  {
   "cell_type": "code",
   "execution_count": 131,
   "id": "dcd0fe84-c7f2-4b19-877a-9842b2e953f0",
   "metadata": {},
   "outputs": [
    {
     "data": {
      "image/png": "[encoded data removed]",
      "text/plain": [
       "<Figure size 432x288 with 1 Axes>"
      ]
     },
     "metadata": {},
     "output_type": "display_data"
    }
   ],
   "source": [
    "K = 5\n",
    "\n",
    "for i in range(X.shape[0]):\n",
    "    for j in nearest[i, 1:K + 1]:\n",
    "        x = np.array([X[i, 0], X[j, 0]])\n",
    "        y = np.array([X[i, 1], X[j, 1]])\n",
    "        plt.plot(x, y, color='red', alpha=0.25)\n",
    "plt.scatter(X[:, 0], X[:, 1], color='blue', s=5)\n",
    "plt.show()"
   ]
  },
  {
   "cell_type": "markdown",
   "id": "57e31769-fc4b-4b8c-9b15-71edb956ebca",
   "metadata": {},
   "source": [
    "## 구조화된 데이터: NumPy의 구조화된 배열"
   ]
  },
  {
   "cell_type": "code",
   "execution_count": 132,
   "id": "af30e9fb-47a7-4023-a5d2-324441644fdf",
   "metadata": {},
   "outputs": [
    {
     "data": {
      "text/plain": [
       "dtype([('name', '<U10'), ('age', '<i4'), ('weight', '<f8')])"
      ]
     },
     "execution_count": 132,
     "metadata": {},
     "output_type": "execute_result"
    }
   ],
   "source": [
    "name = ['Alice', 'Suzie', 'Miwako', 'Liz']\n",
    "age = ['17', '18', '24', '14']\n",
    "weight = ['45.', '54.', '52.', '34.']\n",
    "x = np.zeros(4, dtype=int)\n",
    "data = np.zeros(4, dtype={'names': ('name', 'age', 'weight'),\n",
    "                          'formats': ('U10', 'i4', 'f8')})\n",
    "data.dtype"
   ]
  },
  {
   "cell_type": "code",
   "execution_count": 133,
   "id": "9c189ed1-5903-4aa9-9735-c6322764f183",
   "metadata": {},
   "outputs": [
    {
     "data": {
      "text/plain": [
       "array([('Alice', 17, 45.), ('Suzie', 18, 54.), ('Miwako', 24, 52.),\n",
       "       ('Liz', 14, 34.)],\n",
       "      dtype=[('name', '<U10'), ('age', '<i4'), ('weight', '<f8')])"
      ]
     },
     "execution_count": 133,
     "metadata": {},
     "output_type": "execute_result"
    }
   ],
   "source": [
    "data['name'] = name\n",
    "data['age'] = age\n",
    "data['weight'] = weight\n",
    "data"
   ]
  },
  {
   "cell_type": "code",
   "execution_count": 134,
   "id": "8c27ba66-bad4-4662-9c5b-19d7254302e9",
   "metadata": {},
   "outputs": [
    {
     "data": {
      "text/plain": [
       "('Liz', 14, 34.)"
      ]
     },
     "execution_count": 134,
     "metadata": {},
     "output_type": "execute_result"
    }
   ],
   "source": [
    "data[3]"
   ]
  },
  {
   "cell_type": "code",
   "execution_count": 135,
   "id": "ab80acf5-d6ea-489f-98b9-052956a172e8",
   "metadata": {},
   "outputs": [
    {
     "data": {
      "text/plain": [
       "'Liz'"
      ]
     },
     "execution_count": 135,
     "metadata": {},
     "output_type": "execute_result"
    }
   ],
   "source": [
    "data[-1]['name']"
   ]
  },
  {
   "cell_type": "code",
   "execution_count": 136,
   "id": "c8d786d8-f7e9-4ab3-bfb5-3ee4bfff2b1e",
   "metadata": {},
   "outputs": [
    {
     "data": {
      "text/plain": [
       "array(['Alice', 'Suzie', 'Liz'], dtype='<U10')"
      ]
     },
     "execution_count": 136,
     "metadata": {},
     "output_type": "execute_result"
    }
   ],
   "source": [
    "data[data['age'] < 20]['name']"
   ]
  },
  {
   "cell_type": "markdown",
   "id": "1822e47a-c56e-409e-a388-f921da79e81b",
   "metadata": {},
   "source": [
    "### 구조화된 배열 만들기"
   ]
  },
  {
   "cell_type": "code",
   "execution_count": 137,
   "id": "68d8beb4-1f6c-45ed-973c-930dfeafccad",
   "metadata": {},
   "outputs": [
    {
     "data": {
      "text/plain": [
       "dtype([('name', 'S10'), ('age', '<i4'), ('weight', '<f8')])"
      ]
     },
     "execution_count": 137,
     "metadata": {},
     "output_type": "execute_result"
    }
   ],
   "source": [
    "np.dtype([('name', 'S10'), ('age', 'i4'), ('weight', 'f8')])"
   ]
  },
  {
   "cell_type": "markdown",
   "id": "f278218f-5157-46d3-8a70-f70140d1d0e8",
   "metadata": {},
   "source": [
    "### 고급 복합 타입"
   ]
  },
  {
   "cell_type": "code",
   "execution_count": 138,
   "id": "63b7314d-fece-412b-9d73-bd0a6b0d4d1f",
   "metadata": {},
   "outputs": [
    {
     "data": {
      "text/plain": [
       "((0, [[0., 0., 0.], [0., 0., 0.], [0., 0., 0.]]),\n",
       " array([[0., 0., 0.],\n",
       "        [0., 0., 0.],\n",
       "        [0., 0., 0.]]))"
      ]
     },
     "execution_count": 138,
     "metadata": {},
     "output_type": "execute_result"
    }
   ],
   "source": [
    "tp = np.dtype([('id', 'i8'), ('mat', 'f8', (3, 3))])\n",
    "X = np.zeros(1, dtype=tp)\n",
    "X[0], X['mat'][0]"
   ]
  },
  {
   "cell_type": "markdown",
   "id": "c6c40fa8-311c-4e57-8bd9-a05ead8a172d",
   "metadata": {},
   "source": [
    "### 레코드 배열: 트위스트를 가진 구조화된 배열"
   ]
  },
  {
   "cell_type": "code",
   "execution_count": 139,
   "id": "4e76b452-7ebd-466b-b553-b8bb30efb419",
   "metadata": {},
   "outputs": [
    {
     "data": {
      "text/plain": [
       "array([17, 18, 24, 14])"
      ]
     },
     "execution_count": 139,
     "metadata": {},
     "output_type": "execute_result"
    }
   ],
   "source": [
    "data['age']"
   ]
  },
  {
   "cell_type": "code",
   "execution_count": 140,
   "id": "695eef72-566d-460e-afc4-45f5c2ad5a9b",
   "metadata": {},
   "outputs": [
    {
     "data": {
      "text/plain": [
       "array([17, 18, 24, 14])"
      ]
     },
     "execution_count": 140,
     "metadata": {},
     "output_type": "execute_result"
    }
   ],
   "source": [
    "data_rec = data.view(np.recarray)\n",
    "data_rec.age"
   ]
  },
  {
   "cell_type": "code",
   "execution_count": 141,
   "id": "eb3f7164-6dde-465d-bb52-6002e2c8ff4e",
   "metadata": {},
   "outputs": [
    {
     "name": "stdout",
     "output_type": "stream",
     "text": [
      "72.8 ns ± 0.493 ns per loop (mean ± std. dev. of 7 runs, 10000000 loops each)\n",
      "1.43 µs ± 8.8 ns per loop (mean ± std. dev. of 7 runs, 1000000 loops each)\n",
      "1.99 µs ± 12 ns per loop (mean ± std. dev. of 7 runs, 100000 loops each)\n"
     ]
    }
   ],
   "source": [
    "% timeit data['age']\n",
    "% timeit data_rec['age']\n",
    "% timeit data_rec.age"
   ]
  },
  {
   "cell_type": "markdown",
   "id": "620f243b-7649-4193-964a-a8add281543c",
   "metadata": {},
   "source": [
    "### Pandas로 넘어가며"
   ]
  }
 ],
 "metadata": {
  "kernelspec": {
   "display_name": "Python 3",
   "language": "python",
   "name": "python3"
  },
  "language_info": {
   "codemirror_mode": {
    "name": "ipython",
    "version": 3
   },
   "file_extension": ".py",
   "mimetype": "text/x-python",
   "name": "python",
   "nbconvert_exporter": "python",
   "pygments_lexer": "ipython3",
   "version": "3.8.10"
  }
 },
 "nbformat": 4,
 "nbformat_minor": 5
}
