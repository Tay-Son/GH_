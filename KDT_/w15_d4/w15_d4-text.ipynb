{
 "cells": [
  {
   "cell_type": "markdown",
   "id": "ca3eb474-f0af-41a3-88fe-2ae4b1f81b42",
   "metadata": {},
   "source": [
    "---\n",
    "- 하드웨어\n",
    "    - 코랩은 속도가 느려 기본모델 100 Epoch 돌리는데 9000초가 걸리고\n",
    "    - 심지어 중간에 멈춰버리는 현상도 있어서 불안\n",
    "    - 그래서 본인의 RTX3070으로 하드웨어 환경 구성\n",
    "    - 코랩보다 4배 이상 빠른 속도로 다양한 실험을 안정적으로 할 수 있었음\n",
    "---\n",
    "- 실험환경 코드\n",
    "    - 코드를 수정해서 실험을 쉽게 할 수 있도록 함\n",
    "    - 원시적이나마 모델 별 및 모델 버전관리를 할 수 있게 했음\n",
    "    - 10 Epoch 주기마다 FID 기록\n",
    "    - 시각화 가능하고 과적합되었다고 판단 시에 실험 종료\n",
    "    - 또한 필요시에 하던 실험을 이어서 추가적인 Epoch 실행 가능할 수 있게 했음\n",
    "    - 학습 성능이 좋을 때 모델을 분류별로 자동저장할 수 있게 했음\n",
    "    - 여러 실험을 예약해놓고 본인이 자는 중에도 자동으로 실험을 할 수 있게 했음\n",
    "--- \n",
    "- 큰 Epoch 시도\n",
    "    - 100 Epoch 이상을 시도하니 결과가 좋아짐\n",
    "    - 그러나 일정 Epoch을 넘어서면 향상이 멈추고, 또 오히려 점수가 낮아지는 것도 확인\n",
    "    - 주기적 FID 기록으로 성능이 좋아지는 동안 계속 훈련을 진행\n",
    "---\n",
    "- 데이터 확장\n",
    "    - 우리가 받은 데이터는 훈련 18000개, 테스트 2000개로 이루어져 있고\n",
    "    - 우리는 별 생각 없이 훈련용 18000개만 사용했는데\n",
    "    - 사실 우리가 하는 작업은 훈련/테스트 집합을 나누는 것이 의미가 없기 때문에 테스트데이터까지 훈련용으로 사용해서 2000개 증대\n",
    "    - 이미지 좌우반전만으로 테스트 데이터 40000개로 증대\n",
    "    - 기타 증대기법은 이번 주제랑 안맞는다고 생각했음\n",
    "        - 노이즈\n",
    "        - 기울이기\n",
    "        - 자르기\n",
    "    - 결과:\n",
    "---\n",
    "- 모델 수정\n",
    "    - Relu: G에서는 LLr 안씀 Relu로 수정\n",
    "        - 실행시간 약간 단축하는 부수효과\n",
    "        - 결과:\n",
    "    - ConvTranspose: 일반 업샘플링 대신 ConvT2d 사용\n",
    "        - 연산층 추가하는 효과로 실행시간 올라감\n",
    "        - 결과:\n",
    "    - ConvTranspose + batchNor\n",
    "---\n",
    "- 못한 것\n",
    "    - FID 자체를 손실함수로 사용: 시간 없어서 시도 못함\n",
    "    - 다른 모델 사용: 할 것이 많아 리스크가 크다고 판단"
   ]
  },
  {
   "cell_type": "code",
   "execution_count": null,
   "id": "1ebfbcab-7057-4280-964d-f408fcbf6969",
   "metadata": {},
   "outputs": [],
   "source": []
  }
 ],
 "metadata": {
  "kernelspec": {
   "display_name": "Python 3 (ipykernel)",
   "language": "python",
   "name": "python3"
  },
  "language_info": {
   "codemirror_mode": {
    "name": "ipython",
    "version": 3
   },
   "file_extension": ".py",
   "mimetype": "text/x-python",
   "name": "python",
   "nbconvert_exporter": "python",
   "pygments_lexer": "ipython3",
   "version": "3.8.10"
  },
  "widgets": {
   "application/vnd.jupyter.widget-state+json": {
    "state": {},
    "version_major": 2,
    "version_minor": 0
   }
  }
 },
 "nbformat": 4,
 "nbformat_minor": 5
}
