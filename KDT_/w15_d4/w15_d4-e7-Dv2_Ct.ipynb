{
 "cells": [
  {
   "cell_type": "code",
   "execution_count": 5,
   "metadata": {
    "id": "7K_r_Qv_ruir"
   },
   "outputs": [],
   "source": [
    "# IMPORT\n",
    "import os\n",
    "import time\n",
    "import matplotlib.pyplot as plt\n",
    "from PIL import Image\n",
    "\n",
    "import torch\n",
    "import torch.nn as nn\n",
    "\n",
    "from torchvision import datasets\n",
    "import torchvision.transforms as transforms\n",
    "from torchvision.utils import save_image\n",
    "\n",
    "# DATALOADER\n",
    "transforms_train = transforms.Compose([\n",
    "    transforms.Resize((64, 64)),\n",
    "    transforms.Grayscale(1),\n",
    "    transforms.ToTensor(),\n",
    "    transforms.Normalize((0.5), (0.5)) # normalization\n",
    "])\n",
    "\n",
    "data_dir = './Face-Mask-Classification-20000-Dataset-v2/'\n",
    "train_dataset = datasets.ImageFolder(os.path.join(data_dir), transforms_train)\n",
    "train_dataloader = torch.utils.data.DataLoader(train_dataset, batch_size=64, shuffle=True, num_workers=2)\n",
    "class_names = train_dataset.classes\n",
    "\n",
    "# FID\n",
    "import subprocess\n",
    "\n",
    "def get_fid():\n",
    "    com_a = \"python ./pytorch-frechet-inception-distance/fid.py --path1 ./results/dcgan/without_mask --path2 ./Face-Mask-Classification-20000-Dataset/test/without_mask --batch-size 16\"\n",
    "    com_b = \"python ./pytorch-frechet-inception-distance/fid.py --path1 ./results/dcgan/with_mask --path2 ./Face-Mask-Classification-20000-Dataset/test/with_mask --batch-size 16\"\n",
    "    fid_nm = float(subprocess.check_output(com_a, shell=False)[:-3])\n",
    "    fid_wm = float(subprocess.check_output(com_b, shell=False)[:-3])\n",
    "    \n",
    "    return fid_nm, fid_wm"
   ]
  },
  {
   "cell_type": "code",
   "execution_count": 6,
   "metadata": {
    "id": "kMgPSvFd2n6w"
   },
   "outputs": [],
   "source": [
    "# Model\n",
    "latent_dim = 100\n",
    "n_classes = 2\n",
    "\n",
    "# G\n",
    "class DCGANGenerator(nn.Module):\n",
    "    def __init__(self):\n",
    "        super(DCGANGenerator, self).__init__()\n",
    "        self.label_embed = nn.Embedding(n_classes, n_classes)\n",
    "        self.init_size = 4\n",
    "        self.layer1 = nn.Sequential(nn.Linear(latent_dim + n_classes, 512 * self.init_size * self.init_size))\n",
    "        \n",
    "        self.conv_blocks = nn.Sequential(\n",
    "            nn.BatchNorm2d(512),\n",
    "            nn.ConvTranspose2d(512, 512, kernel_size=2, stride=2, padding=0),\n",
    "            nn.Conv2d(512, 512, kernel_size=3, stride=1, padding=1),\n",
    "            nn.BatchNorm2d(512, 0.8),\n",
    "            nn.LeakyReLU(0.2, inplace=True),\n",
    "\n",
    "            nn.ConvTranspose2d(512, 512, kernel_size=2, stride=2, padding=0),\n",
    "            nn.Conv2d(512, 256, kernel_size=3, stride=1, padding=1),\n",
    "            nn.BatchNorm2d(256, 0.8),\n",
    "            nn.LeakyReLU(0.2, inplace=True),\n",
    "\n",
    "            nn.ConvTranspose2d(256, 256, kernel_size=2, stride=2, padding=0),\n",
    "            nn.Conv2d(256, 128, kernel_size=3, stride=1, padding=1),\n",
    "            nn.BatchNorm2d(128, 0.8),\n",
    "            nn.LeakyReLU(0.2, inplace=True),\n",
    "\n",
    "            nn.ConvTranspose2d(128, 128, kernel_size=2, stride=2, padding=0),\n",
    "            nn.Conv2d(128, 64, kernel_size=3, stride=1, padding=1),\n",
    "            nn.BatchNorm2d(64, 0.8),\n",
    "            nn.LeakyReLU(0.2, inplace=True),\n",
    "            nn.Conv2d(64, 1, kernel_size=3, stride=1, padding=1),\n",
    "            nn.Tanh(),\n",
    "        )\n",
    "\n",
    "    def forward(self, noise, labels):\n",
    "        inputs = torch.cat((noise, self.label_embed(labels)), -1)\n",
    "        output = self.layer1(inputs)\n",
    "        output = output.view(output.size(0), 512, self.init_size, self.init_size)\n",
    "        output = self.conv_blocks(output)\n",
    "        return output\n",
    "\n",
    "\n",
    "# D \n",
    "class DCGANDiscriminator(nn.Module):\n",
    "    def __init__(self):\n",
    "        super(DCGANDiscriminator, self).__init__()\n",
    "\n",
    "        def make_block(in_channels, out_channels, bn=True):\n",
    "            block = [nn.Conv2d(in_channels, out_channels, kernel_size=3, stride=2, padding=1)]\n",
    "            block.append(nn.LeakyReLU(0.2, inplace=True))\n",
    "            block.append(nn.Dropout2d(0.25))\n",
    "            if bn:\n",
    "                block.append(nn.BatchNorm2d(out_channels, 0.8))\n",
    "            return block\n",
    "\n",
    "        self.conv_blocks = nn.Sequential(\n",
    "            *make_block(2, 32, bn=False),\n",
    "            *make_block(32, 64),\n",
    "            *make_block(64, 128),\n",
    "            *make_block(128, 256),\n",
    "            *make_block(256, 512),\n",
    "        )\n",
    "\n",
    "        self.classifier = nn.Sequential(\n",
    "            nn.Linear(512 * 2 * 2, 1),\n",
    "            nn.Sigmoid()\n",
    "        )\n",
    "\n",
    "        self.label_embed = nn.Embedding(n_classes, 1 * 64 * 64)\n",
    "\n",
    "    def forward(self, img, labels):\n",
    "        embed = self.label_embed(labels).view((img.size(0), 1, 64, 64))\n",
    "        inputs = torch.cat((img, embed), 1)\n",
    "        output = self.conv_blocks(inputs)\n",
    "        output = output.view(output.size(0), -1)\n",
    "        output = self.classifier(output)\n",
    "        return output"
   ]
  },
  {
   "cell_type": "code",
   "execution_count": 7,
   "metadata": {
    "id": "clLAUAL53UNh"
   },
   "outputs": [],
   "source": [
    "# PARAMETERS\n",
    "\n",
    "def weights_init_normal(m):\n",
    "    classname = m.__class__.__name__\n",
    "    if classname.find(\"Conv\") != -1:\n",
    "        torch.nn.init.normal_(m.weight.data, 0.0, 0.02)\n",
    "    elif classname.find(\"BatchNorm2d\") != -1:\n",
    "        torch.nn.init.normal_(m.weight.data, 1.0, 0.02)\n",
    "        torch.nn.init.constant_(m.bias.data, 0.0)\n",
    "\n",
    "dcgan_generator = DCGANGenerator()\n",
    "dcgan_generator.cuda()\n",
    "dcgan_generator.apply(weights_init_normal)\n",
    "\n",
    "dcgan_discriminator = DCGANDiscriminator()\n",
    "dcgan_discriminator.cuda()\n",
    "dcgan_discriminator.apply(weights_init_normal)\n",
    "\n",
    "adversarial_loss = nn.MSELoss()\n",
    "adversarial_loss.cuda()\n",
    "\n",
    "lr = 0.0001\n",
    "\n",
    "optimizer_G = torch.optim.Adam(dcgan_generator.parameters(), lr=lr, betas=(0.5, 0.999))\n",
    "optimizer_D = torch.optim.Adam(dcgan_discriminator.parameters(), lr=lr, betas=(0.5, 0.999))"
   ]
  },
  {
   "cell_type": "code",
   "execution_count": 12,
   "metadata": {},
   "outputs": [],
   "source": [
    "# Experiment\n",
    "\n",
    "NAME_EXP = \"Dv2_Ct\"\n",
    "epoch_tot = 0\n",
    "fid_sum_min = 1000.0\n",
    "interval_ = 5\n",
    "lst_fid_nm = []\n",
    "lst_fid_wm = []\n",
    "lst_epoch = []"
   ]
  },
  {
   "cell_type": "code",
   "execution_count": 13,
   "metadata": {
    "collapsed": true,
    "jupyter": {
     "outputs_hidden": true
    },
    "tags": []
   },
   "outputs": [
    {
     "name": "stdout",
     "output_type": "stream",
     "text": [
      "E000 - L_D : 0.24, L_G : 0.28 | TE :    1.1m\n",
      "E001 - L_D : 0.23, L_G : 0.23 | TE :    2.3m\n",
      "E002 - L_D : 0.26, L_G : 0.27 | TE :    3.4m\n",
      "E003 - L_D : 0.22, L_G : 0.24 | TE :    4.5m\n",
      "E004 - L_D : 0.26, L_G : 0.27 | TE :    5.6m FID_NM: 137.70, FID_WM:  75.75, SUM: 213.46\n",
      "E005 - L_D : 0.23, L_G : 0.27 | TE :    7.7m\n",
      "E006 - L_D : 0.26, L_G : 0.24 | TE :    8.8m\n",
      "E007 - L_D : 0.25, L_G : 0.23 | TE :   10.0m\n",
      "E008 - L_D : 0.24, L_G : 0.27 | TE :   11.1m\n",
      "E009 - L_D : 0.26, L_G : 0.26 | TE :   12.2m FID_NM: 145.02, FID_WM:  85.65, SUM: 230.67\n",
      "E010 - L_D : 0.24, L_G : 0.27 | TE :   14.3m\n",
      "E011 - L_D : 0.25, L_G : 0.25 | TE :   15.4m\n",
      "E012 - L_D : 0.24, L_G : 0.24 | TE :   16.6m\n",
      "E013 - L_D : 0.24, L_G : 0.27 | TE :   17.7m\n",
      "E014 - L_D : 0.25, L_G : 0.26 | TE :   18.8m FID_NM: 141.93, FID_WM:  89.54, SUM: 231.48\n",
      "E015 - L_D : 0.25, L_G : 0.26 | TE :   20.9m\n",
      "E016 - L_D : 0.24, L_G : 0.27 | TE :   22.0m\n",
      "E017 - L_D : 0.27, L_G : 0.23 | TE :   23.1m\n",
      "E018 - L_D : 0.26, L_G : 0.25 | TE :   24.3m\n",
      "E019 - L_D : 0.26, L_G : 0.26 | TE :   25.4m FID_NM: 137.18, FID_WM:  67.03, SUM: 204.21\n",
      "E020 - L_D : 0.25, L_G : 0.29 | TE :   27.5m\n",
      "E021 - L_D : 0.25, L_G : 0.29 | TE :   28.6m\n",
      "E022 - L_D : 0.25, L_G : 0.25 | TE :   29.7m\n",
      "E023 - L_D : 0.23, L_G : 0.29 | TE :   30.9m\n",
      "E024 - L_D : 0.25, L_G : 0.25 | TE :   32.0m FID_NM: 142.07, FID_WM:  72.91, SUM: 214.98\n",
      "E025 - L_D : 0.25, L_G : 0.27 | TE :   34.1m\n",
      "E026 - L_D : 0.24, L_G : 0.27 | TE :   35.2m\n",
      "E027 - L_D : 0.24, L_G : 0.25 | TE :   36.3m\n",
      "E028 - L_D : 0.25, L_G : 0.26 | TE :   37.5m\n",
      "E029 - L_D : 0.25, L_G : 0.29 | TE :   38.6m FID_NM: 144.45, FID_WM:  69.69, SUM: 214.15\n",
      "E030 - L_D : 0.24, L_G : 0.26 | TE :   40.7m\n",
      "E031 - L_D : 0.24, L_G : 0.27 | TE :   41.8m\n",
      "E032 - L_D : 0.25, L_G : 0.27 | TE :   42.9m\n",
      "E033 - L_D : 0.26, L_G : 0.24 | TE :   44.1m\n",
      "E034 - L_D : 0.26, L_G : 0.23 | TE :   45.2m FID_NM: 145.28, FID_WM:  70.87, SUM: 216.15\n",
      "E035 - L_D : 0.28, L_G : 0.22 | TE :   47.2m\n",
      "E036 - L_D : 0.23, L_G : 0.31 | TE :   48.3m\n",
      "E037 - L_D : 0.22, L_G : 0.24 | TE :   49.5m\n",
      "E038 - L_D : 0.25, L_G : 0.28 | TE :   50.6m\n",
      "E039 - L_D : 0.25, L_G : 0.29 | TE :   51.8m FID_NM: 139.33, FID_WM:  66.61, SUM: 205.94\n",
      "E040 - L_D : 0.21, L_G : 0.26 | TE :   53.9m\n",
      "E041 - L_D : 0.26, L_G : 0.30 | TE :   55.0m\n",
      "E042 - L_D : 0.25, L_G : 0.24 | TE :   56.2m\n",
      "E043 - L_D : 0.24, L_G : 0.28 | TE :   57.3m\n",
      "E044 - L_D : 0.23, L_G : 0.25 | TE :   58.5m FID_NM: 145.24, FID_WM:  77.12, SUM: 222.36\n",
      "E045 - L_D : 0.24, L_G : 0.29 | TE :   60.6m\n",
      "E046 - L_D : 0.24, L_G : 0.27 | TE :   61.7m\n",
      "E047 - L_D : 0.23, L_G : 0.25 | TE :   62.8m\n",
      "E048 - L_D : 0.24, L_G : 0.26 | TE :   64.0m\n",
      "E049 - L_D : 0.24, L_G : 0.25 | TE :   65.1m FID_NM: 143.90, FID_WM:  67.82, SUM: 211.72\n",
      "E050 - L_D : 0.23, L_G : 0.31 | TE :   67.2m\n",
      "E051 - L_D : 0.23, L_G : 0.26 | TE :   68.3m\n",
      "E052 - L_D : 0.24, L_G : 0.27 | TE :   69.5m\n",
      "E053 - L_D : 0.25, L_G : 0.27 | TE :   70.6m\n",
      "E054 - L_D : 0.23, L_G : 0.29 | TE :   71.7m FID_NM: 142.49, FID_WM:  78.93, SUM: 221.42\n",
      "E055 - L_D : 0.25, L_G : 0.22 | TE :   73.8m\n",
      "E056 - L_D : 0.24, L_G : 0.28 | TE :   75.0m\n",
      "E057 - L_D : 0.25, L_G : 0.24 | TE :   76.1m\n",
      "E058 - L_D : 0.25, L_G : 0.24 | TE :   77.3m\n",
      "E059 - L_D : 0.20, L_G : 0.29 | TE :   78.4m FID_NM: 146.85, FID_WM:  66.44, SUM: 213.29\n",
      "E060 - L_D : 0.23, L_G : 0.30 | TE :   80.5m\n",
      "E061 - L_D : 0.26, L_G : 0.20 | TE :   81.6m\n",
      "E062 - L_D : 0.24, L_G : 0.30 | TE :   82.8m\n",
      "E063 - L_D : 0.25, L_G : 0.26 | TE :   83.9m\n",
      "E064 - L_D : 0.26, L_G : 0.30 | TE :   85.1m FID_NM: 142.10, FID_WM:  78.37, SUM: 220.47\n",
      "E065 - L_D : 0.22, L_G : 0.32 | TE :   87.1m\n",
      "E066 - L_D : 0.22, L_G : 0.32 | TE :   88.3m\n",
      "E067 - L_D : 0.22, L_G : 0.31 | TE :   89.4m\n",
      "E068 - L_D : 0.24, L_G : 0.25 | TE :   90.6m\n",
      "E069 - L_D : 0.23, L_G : 0.32 | TE :   91.7m FID_NM: 138.45, FID_WM:  69.70, SUM: 208.15\n",
      "E070 - L_D : 0.24, L_G : 0.24 | TE :   93.8m\n",
      "E071 - L_D : 0.23, L_G : 0.26 | TE :   94.9m\n",
      "E072 - L_D : 0.23, L_G : 0.33 | TE :   96.0m\n",
      "E073 - L_D : 0.24, L_G : 0.26 | TE :   97.2m\n",
      "E074 - L_D : 0.24, L_G : 0.28 | TE :   98.3m FID_NM: 144.98, FID_WM:  67.07, SUM: 212.05\n",
      "E075 - L_D : 0.22, L_G : 0.29 | TE :  100.4m\n",
      "E076 - L_D : 0.25, L_G : 0.31 | TE :  101.5m\n",
      "E077 - L_D : 0.25, L_G : 0.23 | TE :  102.6m\n",
      "E078 - L_D : 0.23, L_G : 0.27 | TE :  103.7m\n",
      "E079 - L_D : 0.24, L_G : 0.29 | TE :  104.8m FID_NM: 138.11, FID_WM:  73.41, SUM: 211.52\n",
      "E080 - L_D : 0.22, L_G : 0.27 | TE :  106.9m\n",
      "E081 - L_D : 0.25, L_G : 0.25 | TE :  108.0m\n",
      "E082 - L_D : 0.24, L_G : 0.33 | TE :  109.1m\n",
      "E083 - L_D : 0.23, L_G : 0.33 | TE :  110.2m\n",
      "E084 - L_D : 0.27, L_G : 0.25 | TE :  111.4m FID_NM: 138.34, FID_WM:  70.88, SUM: 209.22\n",
      "E085 - L_D : 0.24, L_G : 0.27 | TE :  113.4m\n",
      "E086 - L_D : 0.27, L_G : 0.31 | TE :  114.5m\n",
      "E087 - L_D : 0.23, L_G : 0.30 | TE :  115.6m\n",
      "E088 - L_D : 0.19, L_G : 0.29 | TE :  116.7m\n",
      "E089 - L_D : 0.21, L_G : 0.32 | TE :  117.8m FID_NM: 135.61, FID_WM:  69.59, SUM: 205.20\n",
      "E090 - L_D : 0.23, L_G : 0.22 | TE :  119.9m\n",
      "E091 - L_D : 0.22, L_G : 0.27 | TE :  121.0m\n",
      "E092 - L_D : 0.21, L_G : 0.22 | TE :  122.1m\n",
      "E093 - L_D : 0.25, L_G : 0.27 | TE :  123.2m\n",
      "E094 - L_D : 0.22, L_G : 0.30 | TE :  124.3m FID_NM: 138.11, FID_WM:  78.44, SUM: 216.56\n",
      "E095 - L_D : 0.24, L_G : 0.27 | TE :  126.4m\n",
      "E096 - L_D : 0.24, L_G : 0.31 | TE :  127.5m\n",
      "E097 - L_D : 0.22, L_G : 0.31 | TE :  128.6m\n",
      "E098 - L_D : 0.25, L_G : 0.28 | TE :  129.8m\n",
      "E099 - L_D : 0.26, L_G : 0.20 | TE :  130.9m FID_NM: 137.98, FID_WM:  72.63, SUM: 210.61\n"
     ]
    }
   ],
   "source": [
    "N_EPOCHS = 500\n",
    "\n",
    "start_time = time.time()\n",
    "\n",
    "for _ in range(N_EPOCHS):\n",
    "    for idx_, (imgs, labels) in enumerate(train_dataloader):\n",
    "        real = torch.cuda.FloatTensor(imgs.shape[0], 1).fill_(1.0)\n",
    "        fake = torch.cuda.FloatTensor(imgs.shape[0], 1).fill_(0.0)\n",
    "        real_imgs = imgs.cuda()\n",
    "        labels = labels.cuda()\n",
    "        \n",
    "        # train G\n",
    "        optimizer_G.zero_grad()\n",
    "        generated_labels = torch.randint(0, n_classes, (imgs.shape[0],)).cuda()\n",
    "        z = torch.normal(mean=0, std=1, size=(imgs.shape[0], latent_dim)).cuda()\n",
    "        generated_imgs = dcgan_generator(z, generated_labels)\n",
    "        g_loss = adversarial_loss(dcgan_discriminator(generated_imgs, generated_labels), real)\n",
    "        g_loss.backward()\n",
    "        optimizer_G.step()\n",
    "        \n",
    "        # train D\n",
    "        optimizer_D.zero_grad()\n",
    "        real_loss = adversarial_loss(dcgan_discriminator(real_imgs, labels), real)\n",
    "        fake_loss = adversarial_loss(dcgan_discriminator(generated_imgs.detach(), generated_labels), fake)\n",
    "        d_loss = (real_loss + fake_loss) / 2\n",
    "        d_loss.backward()\n",
    "        optimizer_D.step()\n",
    "    \n",
    "    print(\"E{:>03} - L_D : {:>4.2f}, L_G : {:>4.2f} | TE : {:>6.1f}m\".format(\n",
    "        epoch_tot, \n",
    "        d_loss.item(), \n",
    "        g_loss.item(), \n",
    "        (time.time()-start_time)/60)\n",
    "          ,end=\"\")\n",
    "    epoch_tot += 1\n",
    "    \n",
    "    if not epoch_tot % interval_:\n",
    "        for i in range(10):\n",
    "            z = torch.normal(mean=0, std=1, size=(100, latent_dim)).cuda()\n",
    "            generated_labels = torch.cuda.IntTensor(100).fill_(0)\n",
    "            generated_imgs = dcgan_generator(z, generated_labels)\n",
    "            for j in range(100):\n",
    "                save_image(generated_imgs.data[j], f'./results/dcgan/with_mask/{i * 100 + j}.png', normalize=True)\n",
    "        for i in range(10):\n",
    "            z = torch.normal(mean=0, std=1, size=(100, latent_dim)).cuda()\n",
    "            generated_labels = torch.cuda.IntTensor(100).fill_(1)\n",
    "            generated_imgs = dcgan_generator(z, generated_labels)\n",
    "            for j in range(100):\n",
    "                save_image(generated_imgs.data[j], f'./results/dcgan/without_mask/{i * 100 + j}.png', normalize=True)\n",
    "        \n",
    "        fid_nm, fid_wm = get_fid()\n",
    "        fid_sum = fid_nm + fid_wm\n",
    "        if fid_sum < fid_sum_min:\n",
    "            fid_sum_min = fid_sum\n",
    "            str_ = \"./models/{}-E{:>03}-SUM{:>3}\".format(NAME_EXP, epoch_tot, int(fid_sum_min))\n",
    "            torch.save(dcgan_generator.state_dict(), str_ + \"-G.pt\")\n",
    "            torch.save(dcgan_discriminator.state_dict(), str_ + \"-D.pt\")\n",
    "        \n",
    "        lst_fid_nm.append(fid_nm)\n",
    "        lst_fid_wm.append(fid_wm)\n",
    "        lst_epoch.append(epoch_tot)\n",
    "        print(\" FID_NM: {:>6.2f}, FID_WM: {:>6.2f}, SUM: {:>6.2f}\".format(fid_nm, fid_wm, fid_sum))\n",
    "    else:\n",
    "        print()"
   ]
  },
  {
   "cell_type": "code",
   "execution_count": 22,
   "metadata": {},
   "outputs": [
    {
     "data": {
      "text/plain": [
       "<All keys matched successfully>"
      ]
     },
     "execution_count": 22,
     "metadata": {},
     "output_type": "execute_result"
    }
   ],
   "source": [
    "dcgan_generator = DCGANGenerator()\n",
    "dcgan_generator.cuda()\n",
    "dcgan_generator.load_state_dict(torch.load(\"Dv2_Ct-E350-SUM199-G.pt\"))"
   ]
  },
  {
   "cell_type": "code",
   "execution_count": 20,
   "metadata": {},
   "outputs": [],
   "source": [
    "import pandas as pd\n",
    "import numpy as np\n",
    "df_ = pd.DataFrame()\n",
    "df_['epoch'] = lst_epoch\n",
    "df_['total'] = lst_total\n",
    "str_ = './' + NAME_EXP + '-Rv.csv'\n",
    "df_.to_csv(str_, index=False)"
   ]
  },
  {
   "cell_type": "code",
   "execution_count": 21,
   "metadata": {
    "tags": []
   },
   "outputs": [
    {
     "data": {
      "image/png": "[encoded data removed]",
      "text/plain": [
       "<Figure size 432x288 with 1 Axes>"
      ]
     },
     "metadata": {},
     "output_type": "display_data"
    }
   ],
   "source": [
    "import pandas as pd\n",
    "import matplotlib.pyplot as plt\n",
    "import seaborn as sns\n",
    "\n",
    "str_ = './' + NAME_EXP + '-Rv.csv'\n",
    "df_ = pd.read_csv(str_)\n",
    "\n",
    "sns.set(style='darkgrid')\n",
    "# sns.lineplot(x='epoch', y='with_mask', data=df_)\n",
    "# sns.lineplot(x='epoch', y='without_mask', data=df_)\n",
    "sns.lineplot(x='epoch', y='total', data=df_)\n",
    "\n",
    "plt.show()"
   ]
  },
  {
   "cell_type": "code",
   "execution_count": 29,
   "metadata": {
    "id": "KjrEpHSxYH_k"
   },
   "outputs": [],
   "source": [
    "from IPython.display import Image as Display\n",
    "\n",
    "for i in range(10):\n",
    "    z = torch.normal(mean=0, std=1, size=(100, latent_dim)).cuda()\n",
    "    generated_labels = torch.cuda.IntTensor(100).fill_(0)\n",
    "    generated_imgs = dcgan_generator(z, generated_labels)\n",
    "    for j in range(100):\n",
    "        save_image(generated_imgs.data[j], f'./results/dcgan/with_mask/{i * 100 + j}.png', normalize=True)\n",
    "\n",
    "for i in range(10):\n",
    "    z = torch.normal(mean=0, std=1, size=(100, latent_dim)).cuda()\n",
    "    generated_labels = torch.cuda.IntTensor(100).fill_(1)\n",
    "    generated_imgs = dcgan_generator(z, generated_labels)\n",
    "    for j in range(100):\n",
    "        save_image(generated_imgs.data[j], f'./results/dcgan/without_mask/{i * 100 + j}.png', normalize=True)"
   ]
  },
  {
   "cell_type": "code",
   "execution_count": 30,
   "metadata": {
    "id": "oS7igDGQKWPE"
   },
   "outputs": [
    {
     "name": "stdout",
     "output_type": "stream",
     "text": [
      "136.07009330776168\n"
     ]
    }
   ],
   "source": [
    "!python ./pytorch-frechet-inception-distance/fid.py --path1 ./results/dcgan/without_mask --path2 ./Face-Mask-Classification-20000-Dataset/test/without_mask --batch-size 16"
   ]
  },
  {
   "cell_type": "code",
   "execution_count": 31,
   "metadata": {
    "id": "jRfnIr-SiteR"
   },
   "outputs": [
    {
     "name": "stdout",
     "output_type": "stream",
     "text": [
      "63.36708991865342\n"
     ]
    }
   ],
   "source": [
    "!python ./pytorch-frechet-inception-distance/fid.py --path1 ./results/dcgan/with_mask --path2 ./Face-Mask-Classification-20000-Dataset/test/with_mask --batch-size 16"
   ]
  },
  {
   "cell_type": "code",
   "execution_count": null,
   "metadata": {},
   "outputs": [],
   "source": []
  }
 ],
 "metadata": {
  "accelerator": "GPU",
  "colab": {
   "collapsed_sections": [],
   "name": "w14d4-s0.ipynb",
   "provenance": [],
   "toc_visible": true
  },
  "kernelspec": {
   "display_name": "Python 3 (ipykernel)",
   "language": "python",
   "name": "python3"
  },
  "language_info": {
   "codemirror_mode": {
    "name": "ipython",
    "version": 3
   },
   "file_extension": ".py",
   "mimetype": "text/x-python",
   "name": "python",
   "nbconvert_exporter": "python",
   "pygments_lexer": "ipython3",
   "version": "3.8.10"
  },
  "widgets": {
   "application/vnd.jupyter.widget-state+json": {
    "state": {},
    "version_major": 2,
    "version_minor": 0
   }
  }
 },
 "nbformat": 4,
 "nbformat_minor": 4
}
