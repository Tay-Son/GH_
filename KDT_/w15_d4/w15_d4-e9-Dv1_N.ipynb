{
 "cells": [
  {
   "cell_type": "code",
   "execution_count": 1,
   "metadata": {
    "id": "7K_r_Qv_ruir"
   },
   "outputs": [],
   "source": [
    "# IMPORT\n",
    "import os\n",
    "import time\n",
    "import matplotlib.pyplot as plt\n",
    "from PIL import Image\n",
    "\n",
    "import torch\n",
    "import torch.nn as nn\n",
    "\n",
    "from torchvision import datasets\n",
    "import torchvision.transforms as transforms\n",
    "from torchvision.utils import save_image\n",
    "\n",
    "# DATALOADER\n",
    "transforms_train = transforms.Compose([\n",
    "    transforms.Resize((64, 64)),\n",
    "    transforms.Grayscale(1),\n",
    "    transforms.ToTensor(),\n",
    "    transforms.Normalize((0.5), (0.5)) # normalization\n",
    "])\n",
    "\n",
    "data_dir = './Face-Mask-Classification-20000-Dataset/train/'\n",
    "train_dataset = datasets.ImageFolder(os.path.join(data_dir), transforms_train)\n",
    "train_dataloader = torch.utils.data.DataLoader(train_dataset, batch_size=64, shuffle=True, num_workers=2)\n",
    "class_names = train_dataset.classes\n",
    "\n",
    "# FID\n",
    "import subprocess\n",
    "\n",
    "def get_fid():\n",
    "    com_a = \"python ./pytorch-frechet-inception-distance/fid.py --path1 ./results/dcgan/without_mask --path2 ./Face-Mask-Classification-20000-Dataset/test/without_mask --batch-size 16\"\n",
    "    com_b = \"python ./pytorch-frechet-inception-distance/fid.py --path1 ./results/dcgan/with_mask --path2 ./Face-Mask-Classification-20000-Dataset/test/with_mask --batch-size 16\"\n",
    "    fid_nm = float(subprocess.check_output(com_a, shell=False)[:-3])\n",
    "    fid_wm = float(subprocess.check_output(com_b, shell=False)[:-3])\n",
    "    \n",
    "    return fid_nm, fid_wm"
   ]
  },
  {
   "cell_type": "code",
   "execution_count": 2,
   "metadata": {
    "id": "kMgPSvFd2n6w"
   },
   "outputs": [],
   "source": [
    "# Model\n",
    "latent_dim = 100\n",
    "n_classes = 2\n",
    "\n",
    "# G\n",
    "class DCGANGenerator(nn.Module):\n",
    "    def __init__(self):\n",
    "        super(DCGANGenerator, self).__init__()\n",
    "        self.label_embed = nn.Embedding(n_classes, n_classes)\n",
    "        self.init_size = 4\n",
    "        self.layer1 = nn.Sequential(nn.Linear(latent_dim + n_classes, 512 * self.init_size * self.init_size))\n",
    "        \n",
    "        self.conv_blocks = nn.Sequential(\n",
    "            nn.BatchNorm2d(512),\n",
    "            nn.Upsample(scale_factor=2),\n",
    "            nn.Conv2d(512, 512, kernel_size=3, stride=1, padding=1),\n",
    "            nn.BatchNorm2d(512, 0.8),\n",
    "            nn.LeakyReLU(0.2, inplace=True),\n",
    "\n",
    "            nn.Upsample(scale_factor=2),\n",
    "            nn.Conv2d(512, 256, kernel_size=3, stride=1, padding=1),\n",
    "            nn.BatchNorm2d(256, 0.8),\n",
    "            nn.LeakyReLU(0.2, inplace=True),\n",
    "\n",
    "            nn.Upsample(scale_factor=2),\n",
    "            nn.Conv2d(256, 128, kernel_size=3, stride=1, padding=1),\n",
    "            nn.BatchNorm2d(128, 0.8),\n",
    "            nn.LeakyReLU(0.2, inplace=True),\n",
    "\n",
    "            nn.Upsample(scale_factor=2),\n",
    "            nn.Conv2d(128, 64, kernel_size=3, stride=1, padding=1),\n",
    "            nn.BatchNorm2d(64, 0.8),\n",
    "            nn.LeakyReLU(0.2, inplace=True),\n",
    "            nn.Conv2d(64, 1, kernel_size=3, stride=1, padding=1),\n",
    "            nn.Tanh(),\n",
    "        )\n",
    "\n",
    "    def forward(self, noise, labels):\n",
    "        inputs = torch.cat((noise, self.label_embed(labels)), -1)\n",
    "        output = self.layer1(inputs)\n",
    "        output = output.view(output.size(0), 512, self.init_size, self.init_size)\n",
    "        output = self.conv_blocks(output)\n",
    "        return output\n",
    "\n",
    "\n",
    "# D \n",
    "class DCGANDiscriminator(nn.Module):\n",
    "    def __init__(self):\n",
    "        super(DCGANDiscriminator, self).__init__()\n",
    "\n",
    "        def make_block(in_channels, out_channels, bn=True):\n",
    "            block = [nn.Conv2d(in_channels, out_channels, kernel_size=3, stride=2, padding=1)]\n",
    "            block.append(nn.LeakyReLU(0.2, inplace=True))\n",
    "            block.append(nn.Dropout2d(0.25))\n",
    "            if bn:\n",
    "                block.append(nn.BatchNorm2d(out_channels, 0.8))\n",
    "            return block\n",
    "\n",
    "        self.conv_blocks = nn.Sequential(\n",
    "            *make_block(2, 32, bn=False),\n",
    "            *make_block(32, 64),\n",
    "            *make_block(64, 128),\n",
    "            *make_block(128, 256),\n",
    "            *make_block(256, 512),\n",
    "        )\n",
    "\n",
    "        self.classifier = nn.Sequential(\n",
    "            nn.Linear(512 * 2 * 2, 1),\n",
    "            nn.Sigmoid()\n",
    "        )\n",
    "\n",
    "        self.label_embed = nn.Embedding(n_classes, 1 * 64 * 64)\n",
    "\n",
    "    def forward(self, img, labels):\n",
    "        embed = self.label_embed(labels).view((img.size(0), 1, 64, 64))\n",
    "        inputs = torch.cat((img, embed), 1)\n",
    "        output = self.conv_blocks(inputs)\n",
    "        output = output.view(output.size(0), -1)\n",
    "        output = self.classifier(output)\n",
    "        return output"
   ]
  },
  {
   "cell_type": "code",
   "execution_count": 3,
   "metadata": {
    "id": "clLAUAL53UNh"
   },
   "outputs": [],
   "source": [
    "# PARAMETERS\n",
    "\n",
    "def weights_init_normal(m):\n",
    "    classname = m.__class__.__name__\n",
    "    if classname.find(\"Conv\") != -1:\n",
    "        torch.nn.init.normal_(m.weight.data, 0.0, 0.02)\n",
    "    elif classname.find(\"BatchNorm2d\") != -1:\n",
    "        torch.nn.init.normal_(m.weight.data, 1.0, 0.02)\n",
    "        torch.nn.init.constant_(m.bias.data, 0.0)\n",
    "\n",
    "dcgan_generator = DCGANGenerator()\n",
    "dcgan_generator.cuda()\n",
    "dcgan_generator.apply(weights_init_normal)\n",
    "\n",
    "dcgan_discriminator = DCGANDiscriminator()\n",
    "dcgan_discriminator.cuda()\n",
    "dcgan_discriminator.apply(weights_init_normal)\n",
    "\n",
    "adversarial_loss = nn.MSELoss()\n",
    "adversarial_loss.cuda()\n",
    "\n",
    "lr = 0.0001\n",
    "\n",
    "optimizer_G = torch.optim.Adam(dcgan_generator.parameters(), lr=lr, betas=(0.5, 0.999))\n",
    "optimizer_D = torch.optim.Adam(dcgan_discriminator.parameters(), lr=lr, betas=(0.5, 0.999))"
   ]
  },
  {
   "cell_type": "code",
   "execution_count": 4,
   "metadata": {},
   "outputs": [],
   "source": [
    "# Experiment\n",
    "\n",
    "NAME_EXP = \"Dv1_N\"\n",
    "epoch_tot = 0\n",
    "fid_sum_min = 1000.0\n",
    "interveal_ = 5\n",
    "lst_fid_nm = []\n",
    "lst_fid_wm = []\n",
    "lst_epoch = []"
   ]
  },
  {
   "cell_type": "code",
   "execution_count": 14,
   "metadata": {},
   "outputs": [
    {
     "name": "stdout",
     "output_type": "stream",
     "text": [
      "E100 - L_D : 0.23, L_G : 0.23 | TE :    0.5m\n",
      "E101 - L_D : 0.22, L_G : 0.32 | TE :    0.9m\n",
      "E102 - L_D : 0.26, L_G : 0.24 | TE :    1.4m\n",
      "E103 - L_D : 0.30, L_G : 0.75 | TE :    1.8m\n",
      "E104 - L_D : 0.27, L_G : 0.67 | TE :    2.3m FID_NM: 164.33, FID_WM: 129.67, SUM: 294.00\n",
      "E105 - L_D : 0.09, L_G : 0.22 | TE :    3.7m\n",
      "E106 - L_D : 0.31, L_G : 0.15 | TE :    4.1m\n",
      "E107 - L_D : 0.23, L_G : 0.24 | TE :    4.6m\n",
      "E108 - L_D : 0.23, L_G : 0.47 | TE :    5.0m\n",
      "E109 - L_D : 0.31, L_G : 0.12 | TE :    5.5m FID_NM: 166.22, FID_WM: 119.98, SUM: 286.21\n",
      "E110 - L_D : 0.17, L_G : 0.37 | TE :    6.8m\n",
      "E111 - L_D : 0.26, L_G : 0.38 | TE :    7.3m\n",
      "E112 - L_D : 0.23, L_G : 0.44 | TE :    7.7m\n",
      "E113 - L_D : 0.14, L_G : 0.23 | TE :    8.2m\n",
      "E114 - L_D : 0.26, L_G : 0.38 | TE :    8.6m FID_NM: 169.09, FID_WM: 130.57, SUM: 299.66\n",
      "E115 - L_D : 0.21, L_G : 0.15 | TE :   10.0m\n",
      "E116 - L_D : 0.27, L_G : 0.33 | TE :   10.5m\n",
      "E117 - L_D : 0.27, L_G : 0.21 | TE :   10.9m\n",
      "E118 - L_D : 0.28, L_G : 0.22 | TE :   11.4m\n",
      "E119 - L_D : 0.30, L_G : 0.13 | TE :   11.8m FID_NM: 167.89, FID_WM: 111.72, SUM: 279.61\n",
      "E120 - L_D : 0.25, L_G : 0.44 | TE :   13.2m\n",
      "E121 - L_D : 0.34, L_G : 0.27 | TE :   13.6m\n",
      "E122 - L_D : 0.27, L_G : 0.39 | TE :   14.1m\n",
      "E123 - L_D : 0.36, L_G : 0.30 | TE :   14.5m\n",
      "E124 - L_D : 0.25, L_G : 0.37 | TE :   14.9m FID_NM: 163.24, FID_WM: 121.91, SUM: 285.14\n",
      "E125 - L_D : 0.27, L_G : 0.30 | TE :   16.3m\n",
      "E126 - L_D : 0.39, L_G : 0.26 | TE :   16.8m\n",
      "E127 - L_D : 0.41, L_G : 0.17 | TE :   17.2m\n",
      "E128 - L_D : 0.22, L_G : 0.24 | TE :   17.7m\n",
      "E129 - L_D : 0.25, L_G : 0.41 | TE :   18.1m FID_NM: 165.58, FID_WM: 106.60, SUM: 272.18\n",
      "E130 - L_D : 0.36, L_G : 0.36 | TE :   19.5m\n",
      "E131 - L_D : 0.32, L_G : 0.25 | TE :   20.0m\n",
      "E132 - L_D : 0.22, L_G : 0.17 | TE :   20.4m\n",
      "E133 - L_D : 0.32, L_G : 0.34 | TE :   20.8m\n",
      "E134 - L_D : 0.27, L_G : 0.14 | TE :   21.3m FID_NM: 163.16, FID_WM: 112.56, SUM: 275.72\n",
      "E135 - L_D : 0.21, L_G : 0.64 | TE :   22.7m\n",
      "E136 - L_D : 0.25, L_G : 0.24 | TE :   23.1m\n",
      "E137 - L_D : 0.16, L_G : 0.39 | TE :   23.5m\n",
      "E138 - L_D : 0.35, L_G : 0.38 | TE :   24.0m\n",
      "E139 - L_D : 0.26, L_G : 0.33 | TE :   24.4m FID_NM: 163.55, FID_WM: 120.01, SUM: 283.56\n",
      "E140 - L_D : 0.20, L_G : 0.45 | TE :   25.8m\n",
      "E141 - L_D : 0.23, L_G : 0.21 | TE :   26.3m\n",
      "E142 - L_D : 0.23, L_G : 0.15 | TE :   26.7m\n",
      "E143 - L_D : 0.29, L_G : 0.36 | TE :   27.2m\n",
      "E144 - L_D : 0.24, L_G : 0.27 | TE :   27.6m FID_NM: 164.67, FID_WM: 103.23, SUM: 267.90\n",
      "E145 - L_D : 0.26, L_G : 0.44 | TE :   29.0m\n",
      "E146 - L_D : 0.20, L_G : 0.18 | TE :   29.4m\n",
      "E147 - L_D : 0.33, L_G : 0.45 | TE :   29.9m\n",
      "E148 - L_D : 0.21, L_G : 0.21 | TE :   30.3m\n",
      "E149 - L_D : 0.29, L_G : 0.24 | TE :   30.8m FID_NM: 164.33, FID_WM: 113.57, SUM: 277.90\n"
     ]
    }
   ],
   "source": [
    "N_EPOCHS = 50\n",
    "\n",
    "start_time = time.time()\n",
    "\n",
    "for _ in range(N_EPOCHS):\n",
    "    for idx_, (imgs, labels) in enumerate(train_dataloader):\n",
    "        real = torch.cuda.FloatTensor(imgs.shape[0], 1).fill_(1.0)\n",
    "        fake = torch.cuda.FloatTensor(imgs.shape[0], 1).fill_(0.0)\n",
    "        real_imgs = imgs.cuda()\n",
    "        labels = labels.cuda()\n",
    "        \n",
    "        # train G\n",
    "        optimizer_G.zero_grad()\n",
    "        generated_labels = torch.randint(0, n_classes, (imgs.shape[0],)).cuda()\n",
    "        z = torch.normal(mean=0, std=1, size=(imgs.shape[0], latent_dim)).cuda()\n",
    "        generated_imgs = dcgan_generator(z, generated_labels)\n",
    "        g_loss = adversarial_loss(dcgan_discriminator(generated_imgs, generated_labels), real)\n",
    "        g_loss.backward()\n",
    "        optimizer_G.step()\n",
    "        \n",
    "        # train D\n",
    "        optimizer_D.zero_grad()\n",
    "        real_loss = adversarial_loss(dcgan_discriminator(real_imgs, labels), real)\n",
    "        fake_loss = adversarial_loss(dcgan_discriminator(generated_imgs.detach(), generated_labels), fake)\n",
    "        d_loss = (real_loss + fake_loss) / 2\n",
    "        d_loss.backward()\n",
    "        optimizer_D.step()\n",
    "    \n",
    "    print(\"E{:>03} - L_D : {:>4.2f}, L_G : {:>4.2f} | TE : {:>6.1f}m\".format(\n",
    "        epoch_tot, \n",
    "        d_loss.item(), \n",
    "        g_loss.item(), \n",
    "        (time.time()-start_time)/60)\n",
    "          ,end=\"\")\n",
    "    epoch_tot += 1\n",
    "    \n",
    "    if not epoch_tot % interveal_:\n",
    "        for i in range(10):\n",
    "            z = torch.normal(mean=0, std=1, size=(100, latent_dim)).cuda()\n",
    "            generated_labels = torch.cuda.IntTensor(100).fill_(0)\n",
    "            generated_imgs = dcgan_generator(z, generated_labels)\n",
    "            for j in range(100):\n",
    "                save_image(generated_imgs.data[j], f'./results/dcgan/with_mask/{i * 100 + j}.png', normalize=True)\n",
    "        for i in range(10):\n",
    "            z = torch.normal(mean=0, std=1, size=(100, latent_dim)).cuda()\n",
    "            generated_labels = torch.cuda.IntTensor(100).fill_(1)\n",
    "            generated_imgs = dcgan_generator(z, generated_labels)\n",
    "            for j in range(100):\n",
    "                save_image(generated_imgs.data[j], f'./results/dcgan/without_mask/{i * 100 + j}.png', normalize=True)\n",
    "        \n",
    "        fid_nm, fid_wm = get_fid()\n",
    "        fid_sum = fid_nm + fid_wm\n",
    "        if fid_sum < fid_sum_min:\n",
    "            fid_sum_min = fid_sum\n",
    "            str_ = \"./models/{}-E{:>03}-SUM{:>3}\".format(NAME_EXP, epoch_tot, int(fid_sum_min))\n",
    "            torch.save(dcgan_generator.state_dict(), str_ + \"-G.pt\")\n",
    "            torch.save(dcgan_discriminator.state_dict(), str_ + \"-D.pt\")\n",
    "        \n",
    "        lst_fid_nm.append(fid_nm)\n",
    "        lst_fid_wm.append(fid_wm)\n",
    "        lst_epoch.append(epoch_tot)\n",
    "        print(\" FID_NM: {:>6.2f}, FID_WM: {:>6.2f}, SUM: {:>6.2f}\".format(fid_nm, fid_wm, fid_sum))\n",
    "    else:\n",
    "        print()"
   ]
  },
  {
   "cell_type": "code",
   "execution_count": 15,
   "metadata": {},
   "outputs": [],
   "source": [
    "import pandas as pd\n",
    "import numpy as np\n",
    "df_ = pd.DataFrame()\n",
    "df_['epoch'] = lst_epoch\n",
    "df_['with_mask'] = lst_fid_wm\n",
    "df_['without_mask'] = lst_fid_nm\n",
    "df_['total'] = df_['with_mask'] + df_['without_mask']\n",
    "str_ = './' + NAME_EXP + '-R.csv'\n",
    "df_.to_csv(str_, index=False)"
   ]
  },
  {
   "cell_type": "code",
   "execution_count": 16,
   "metadata": {},
   "outputs": [
    {
     "data": {
      "image/png": "[encoded data removed]",
      "text/plain": [
       "<Figure size 432x288 with 1 Axes>"
      ]
     },
     "metadata": {},
     "output_type": "display_data"
    }
   ],
   "source": [
    "import pandas as pd\n",
    "import matplotlib.pyplot as plt\n",
    "import seaborn as sns\n",
    "\n",
    "str_ = './' + NAME_EXP + '-R.csv'\n",
    "df_ = pd.read_csv(str_)\n",
    "\n",
    "sns.set(style='darkgrid')\n",
    "sns.lineplot(x='epoch', y='with_mask', data=df_)\n",
    "sns.lineplot(x='epoch', y='without_mask', data=df_)\n",
    "sns.lineplot(x='epoch', y='total', data=df_)\n",
    "\n",
    "plt.show()"
   ]
  },
  {
   "cell_type": "code",
   "execution_count": 13,
   "metadata": {},
   "outputs": [
    {
     "name": "stderr",
     "output_type": "stream",
     "text": [
      "No artists with labels found to put in legend.  Note that artists whose label start with an underscore are ignored when legend() is called with no argument.\n"
     ]
    },
    {
     "data": {
      "image/png": "[encoded data removed]",
      "text/plain": [
       "<Figure size 432x288 with 1 Axes>"
      ]
     },
     "metadata": {},
     "output_type": "display_data"
    }
   ],
   "source": [
    "import pandas as pd\n",
    "import matplotlib.pyplot as plt\n",
    "import seaborn as sns\n",
    "\n",
    "str_ = './' + NAME_EXP + '-R.csv'\n",
    "df_ = pd.read_csv(str_)\n",
    "df_['epoch'] = df_['epoch'] * 18000\n",
    "df_2 = pd.read_csv(\"./Dv2_N-R.csv\")\n",
    "df_2['epoch'] = df_2['epoch'] * 40000\n",
    "\n",
    "sns.set(style='darkgrid')\n",
    "# sns.lineplot(x='epoch', y='with_mask', data=df_)\n",
    "# sns.lineplot(x='epoch', y='without_mask', data=df_)\n",
    "sns.lineplot(x='epoch', y='total', data=df_)\n",
    "\n",
    "\n",
    "# sns.lineplot(x='epoch', y='with_mask', data=df_2)\n",
    "# sns.lineplot(x='epoch', y='without_mask', data=df_2)\n",
    "sns.lineplot(x='epoch', y='total', data=df_2)\n",
    "plt.legend()\n",
    "\n",
    "plt.show()"
   ]
  },
  {
   "cell_type": "code",
   "execution_count": 9,
   "metadata": {
    "id": "KjrEpHSxYH_k"
   },
   "outputs": [
    {
     "ename": "SyntaxError",
     "evalue": "invalid syntax (3972072340.py, line 7)",
     "output_type": "error",
     "traceback": [
      "\u001b[1;36m  Input \u001b[1;32mIn [9]\u001b[1;36m\u001b[0m\n\u001b[1;33m    for j in range(100):\u001b[0m\n\u001b[1;37m                       ^\u001b[0m\n\u001b[1;31mSyntaxError\u001b[0m\u001b[1;31m:\u001b[0m invalid syntax\n"
     ]
    }
   ],
   "source": [
    "from IPython.display import Image as Display\n",
    "\n",
    "for i in range(10):\n",
    "    z = torch.normal(mean=0, std=1, size=(100, latent_dim)).cuda()\n",
    "    generated_labels = torch.cuda.IntTensor(100).fill_(0)\n",
    "    generated_imgs = dcgan_generator(z, generated_labels)\n",
    "    for j in range(100):\n",
    "        save_image(generated_imgs.data[j], f'./results/dcgan/with_mask/{i * 100 + j}.png', normalize=True)\n",
    "\n",
    "for i in range(10):\n",
    "    z = torch.normal(mean=0, std=1, size=(100, latent_dim)).cuda()\n",
    "    generated_labels = torch.cuda.IntTensor(100).fill_(1)\n",
    "    generated_imgs = dcgan_generator(z, generated_labels)\n",
    "    for j in range(100):\n",
    "        save_image(generated_imgs.data[j], f'./results/dcgan/without_mask/{i * 100 + j}.png', normalize=True)"
   ]
  },
  {
   "cell_type": "code",
   "execution_count": null,
   "metadata": {
    "id": "oS7igDGQKWPE"
   },
   "outputs": [],
   "source": [
    "!python ./pytorch-frechet-inception-distance/fid.py --path1 ./results/dcgan/without_mask --path2 ./Face-Mask-Classification-20000-Dataset/test/without_mask --batch-size 16"
   ]
  },
  {
   "cell_type": "code",
   "execution_count": null,
   "metadata": {
    "id": "jRfnIr-SiteR"
   },
   "outputs": [],
   "source": [
    "!python ./pytorch-frechet-inception-distance/fid.py --path1 ./results/dcgan/with_mask --path2 ./Face-Mask-Classification-20000-Dataset/test/with_mask --batch-size 16"
   ]
  },
  {
   "cell_type": "code",
   "execution_count": null,
   "metadata": {},
   "outputs": [],
   "source": []
  },
  {
   "cell_type": "code",
   "execution_count": null,
   "metadata": {
    "id": "SqwVe5mv87MB"
   },
   "outputs": [],
   "source": [
    "!zip ./results.zip -r ./results/custom/*"
   ]
  }
 ],
 "metadata": {
  "accelerator": "GPU",
  "colab": {
   "collapsed_sections": [],
   "name": "w14d4-s0.ipynb",
   "provenance": [],
   "toc_visible": true
  },
  "kernelspec": {
   "display_name": "Python 3 (ipykernel)",
   "language": "python",
   "name": "python3"
  },
  "language_info": {
   "codemirror_mode": {
    "name": "ipython",
    "version": 3
   },
   "file_extension": ".py",
   "mimetype": "text/x-python",
   "name": "python",
   "nbconvert_exporter": "python",
   "pygments_lexer": "ipython3",
   "version": "3.8.10"
  },
  "widgets": {
   "application/vnd.jupyter.widget-state+json": {
    "state": {},
    "version_major": 2,
    "version_minor": 0
   }
  }
 },
 "nbformat": 4,
 "nbformat_minor": 4
}
