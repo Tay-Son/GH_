{
 "cells": [
  {
   "cell_type": "code",
   "execution_count": 1,
   "metadata": {},
   "outputs": [],
   "source": [
    "import os\n",
    "from PIL import Image\n",
    "# import cv2"
   ]
  },
  {
   "cell_type": "code",
   "execution_count": 4,
   "metadata": {},
   "outputs": [],
   "source": [
    "dir_data_old = \"./Face-Mask-Classification-20000-Dataset/\"\n",
    "dir_data_new = \"./Face-Mask-Classification-20000-Dataset-v2/\"\n",
    "\n",
    "# \n",
    "for str_t in ['with_mask/', 'without_mask/']:\n",
    "    cnt_ = 0\n",
    "    dir_i = dir_data_new + str_t\n",
    "    for str_d in ['test/', 'train/']:\n",
    "        dir_o = dir_data_old + str_d + str_t\n",
    "        for file_ in os.listdir(dir_o):\n",
    "            img_o = Image.open(dir_o + file_)\n",
    "            img_o = img_o.resize((64, 64), Image.LANCZOS)\n",
    "            file_n = str(cnt_).zfill(5)\n",
    "            img_o.save(dir_i + file_n + '.png')\n",
    "            \n",
    "            cnt_ += 1\n",
    "            img_i = img_o.transpose(Image.FLIP_LEFT_RIGHT)\n",
    "            file_n = str(cnt_).zfill(5)\n",
    "            img_i.save(dir_i + file_n + '.png')\n",
    "            \n",
    "            cnt_ += 1"
   ]
  }
 ],
 "metadata": {
  "accelerator": "GPU",
  "colab": {
   "collapsed_sections": [],
   "name": "w14d4-s0.ipynb",
   "provenance": [],
   "toc_visible": true
  },
  "kernelspec": {
   "display_name": "Python 3 (ipykernel)",
   "language": "python",
   "name": "python3"
  },
  "language_info": {
   "codemirror_mode": {
    "name": "ipython",
    "version": 3
   },
   "file_extension": ".py",
   "mimetype": "text/x-python",
   "name": "python",
   "nbconvert_exporter": "python",
   "pygments_lexer": "ipython3",
   "version": "3.8.10"
  },
  "widgets": {
   "application/vnd.jupyter.widget-state+json": {
    "state": {},
    "version_major": 2,
    "version_minor": 0
   }
  }
 },
 "nbformat": 4,
 "nbformat_minor": 4
}
