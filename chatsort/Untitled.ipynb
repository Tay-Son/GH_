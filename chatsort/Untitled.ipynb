{
 "cells": [
  {
   "cell_type": "code",
   "execution_count": 2,
   "id": "edfc6b8a-8871-42af-8046-807282fe73b0",
   "metadata": {},
   "outputs": [],
   "source": [
    "# Notebook 출력설정\n",
    "# 주요 라이브러리 임포트\n",
    "\n",
    "import warnings\n",
    "warnings.filterwarnings('ignore')\n",
    "\n",
    "import numpy as np\n",
    "import pandas as pd\n",
    "pd.set_option('display.max_colwidth', -1)\n",
    "pd.set_option('display.max_rows', 1000)\n",
    "pd.set_option('display.max_columns', 500)\n",
    "pd.set_option('display.width', 1000)\n",
    "\n",
    "%matplotlib inline\n",
    "import matplotlib.pylab as plt\n",
    "plt.rcParams[\"figure.figsize\"] = (15,5)\n",
    "plt.rcParams['lines.linewidth'] = 1\n",
    "plt.rcParams['axes.grid'] = True\n",
    "import seaborn as sns\n",
    "\n",
    "import numpy as np\n",
    "import pandas as pd\n",
    "from numpy import dot\n",
    "from numpy.linalg import norm\n",
    "import urllib.request\n",
    "\n",
    "import os\n",
    "import time"
   ]
  },
  {
   "cell_type": "code",
   "execution_count": 3,
   "id": "af495d19-368b-4851-82c9-f186c91b5396",
   "metadata": {},
   "outputs": [],
   "source": [
    "from sentence_transformers import SentenceTransformer"
   ]
  },
  {
   "cell_type": "code",
   "execution_count": 4,
   "id": "ae4e5211-b0ee-4422-a1b0-c59ead525f14",
   "metadata": {},
   "outputs": [],
   "source": [
    "model_ = SentenceTransformer('sentence-transformers/all-distilroberta-v1')"
   ]
  },
  {
   "cell_type": "code",
   "execution_count": 216,
   "id": "9f4d2981-4a14-4c3e-9897-8839de90615d",
   "metadata": {},
   "outputs": [
    {
     "name": "stdout",
     "output_type": "stream",
     "text": [
      "<class 'pandas.core.frame.DataFrame'>\n",
      "Int64Index: 105946 entries, 1 to 108305\n",
      "Data columns (total 3 columns):\n",
      " #   Column  Non-Null Count   Dtype  \n",
      "---  ------  --------------   -----  \n",
      " 0   aut     105946 non-null  object \n",
      " 1   msg     105946 non-null  object \n",
      " 2   tis     105946 non-null  float64\n",
      "dtypes: float64(1), object(2)\n",
      "memory usage: 3.2+ MB\n"
     ]
    },
    {
     "data": {
      "text/html": [
       "<div>\n",
       "<style scoped>\n",
       "    .dataframe tbody tr th:only-of-type {\n",
       "        vertical-align: middle;\n",
       "    }\n",
       "\n",
       "    .dataframe tbody tr th {\n",
       "        vertical-align: top;\n",
       "    }\n",
       "\n",
       "    .dataframe thead th {\n",
       "        text-align: right;\n",
       "    }\n",
       "</style>\n",
       "<table border=\"1\" class=\"dataframe\">\n",
       "  <thead>\n",
       "    <tr style=\"text-align: right;\">\n",
       "      <th></th>\n",
       "      <th>aut</th>\n",
       "      <th>msg</th>\n",
       "      <th>tis</th>\n",
       "    </tr>\n",
       "  </thead>\n",
       "  <tbody>\n",
       "    <tr>\n",
       "      <th>1</th>\n",
       "      <td>UCi7ZTmWUeUH5igELD-aTuvg</td>\n",
       "      <td>THE GAME AWARDS 2021: Official Livestream Today, 7:30p ET / 4:30p PT / 12:30a GMT</td>\n",
       "      <td>0.0</td>\n",
       "    </tr>\n",
       "    <tr>\n",
       "      <th>2</th>\n",
       "      <td>UC1fxm9h8JAN24W7vAKxw7zA</td>\n",
       "      <td>RE Village GOTY</td>\n",
       "      <td>1.0</td>\n",
       "    </tr>\n",
       "    <tr>\n",
       "      <th>3</th>\n",
       "      <td>UCGw59eolmwA7c126brUFtsA</td>\n",
       "      <td>guys check ign</td>\n",
       "      <td>1.0</td>\n",
       "    </tr>\n",
       "    <tr>\n",
       "      <th>4</th>\n",
       "      <td>UCx5HjN20OpFz6AvMTCmPgeg</td>\n",
       "      <td>CAN'T WAIT FOR ALUL'S REWARD STOPPER DANCE THE VIDEO GAME YEEEEEET</td>\n",
       "      <td>1.0</td>\n",
       "    </tr>\n",
       "    <tr>\n",
       "      <th>5</th>\n",
       "      <td>UCeXuMmT_qB-NmtgKSm0tvqw</td>\n",
       "      <td>gex is what we need!</td>\n",
       "      <td>1.0</td>\n",
       "    </tr>\n",
       "  </tbody>\n",
       "</table>\n",
       "</div>"
      ],
      "text/plain": [
       "                        aut                                                                                msg  tis\n",
       "1  UCi7ZTmWUeUH5igELD-aTuvg  THE GAME AWARDS 2021: Official Livestream Today, 7:30p ET / 4:30p PT / 12:30a GMT  0.0\n",
       "2  UC1fxm9h8JAN24W7vAKxw7zA  RE Village GOTY                                                                    1.0\n",
       "3  UCGw59eolmwA7c126brUFtsA  guys check ign                                                                     1.0\n",
       "4  UCx5HjN20OpFz6AvMTCmPgeg  CAN'T WAIT FOR ALUL'S REWARD STOPPER DANCE THE VIDEO GAME YEEEEEET                 1.0\n",
       "5  UCeXuMmT_qB-NmtgKSm0tvqw  gex is what we need!                                                               1.0"
      ]
     },
     "execution_count": 216,
     "metadata": {},
     "output_type": "execute_result"
    }
   ],
   "source": [
    "#data-tga\n",
    "\n",
    "df_ = pd.read_csv('tga.csv', encoding='utf-8')\n",
    "df_.dropna(inplace=True)\n",
    "df_ = df_[~df_['time_in_seconds'].str.contains(':')]\n",
    "df_ = df_[~df_['time_in_seconds'].str.contains('text_message')]\n",
    "\n",
    "df_['tis'] = df_['time_in_seconds'].apply(float)\n",
    "df_['tis'] -= min(df_['tis'])\n",
    "\n",
    "df_tga = pd.DataFrame()\n",
    "df_tga['aut'] = df_['author.id']\n",
    "df_tga['msg'] = df_['message']\n",
    "df_tga['tis'] = df_['tis']\n",
    "\n",
    "# df_[df_['time_in_seconds'].str.contains(':')]['time_in_seconds']\n",
    "df_tga.info()\n",
    "df_tga.head()"
   ]
  },
  {
   "cell_type": "code",
   "execution_count": 221,
   "id": "c0df4499-630a-4e86-9a27-45043f39b7b6",
   "metadata": {},
   "outputs": [
    {
     "data": {
      "application/vnd.jupyter.widget-view+json": {
       "model_id": "43613d363ca94d6a9e3a6d481f3ec1eb",
       "version_major": 2,
       "version_minor": 0
      },
      "text/plain": [
       "Batches:   0%|          | 0/3311 [00:00<?, ?it/s]"
      ]
     },
     "metadata": {},
     "output_type": "display_data"
    }
   ],
   "source": [
    "from collections import deque\n",
    "\n",
    "df_ = df_tga\n",
    "\n",
    "lst_author = df_['aut'].apply(str).values\n",
    "lst_message = df_['msg'].apply(str).values\n",
    "lst_tis = df_['tis'].values\n",
    "\n",
    "lst_encode = model_.encode(lst_message, convert_to_numpy=True, show_progress_bar=True)\n",
    "\n",
    "que_ = deque(zip(lst_author, lst_message, lst_tis, lst_encode))"
   ]
  },
  {
   "cell_type": "code",
   "execution_count": null,
   "id": "04033f18-dac1-47de-8527-72547a319525",
   "metadata": {},
   "outputs": [],
   "source": [
    "#options\n",
    "\n",
    "SIZE_WINDOW = 500\n",
    "MAX_VIEW = 10\n",
    "THRESHOLD_ = .0\n",
    "\n",
    "MAG_TIME = 1."
   ]
  },
  {
   "cell_type": "code",
   "execution_count": 185,
   "id": "4217d4ef-337c-4135-895b-6a19321f84e1",
   "metadata": {},
   "outputs": [],
   "source": [
    "\n",
    "cnt_ = 0 \n",
    "window_mes = ['' for _ in range(SIZE_WINDOW)]\n",
    "window_mat = [[0 for _ in range(SIZE_WINDOW)] for _ in range(SIZE_WINDOW)]\n",
    "window_tot = [0 for _ in range(SIZE_WINDOW)]\n",
    "\n",
    "def window_insert():\n",
    "    \n"
   ]
  },
  {
   "cell_type": "code",
   "execution_count": 182,
   "id": "be0e0dd8-b175-4116-ae18-a5a8fc70f852",
   "metadata": {},
   "outputs": [],
   "source": [
    "def func_score(idx_a, idx_b):\n",
    "    encode_a, encode_b = lst_encode[idx_a], lst_encode[idx_b]\n",
    "    score_ = float(util.cos_sim(encode_a, encode_b)[0][0])\n",
    "    score_ = max(0, score_)\n",
    "    return score_"
   ]
  },
  {
   "cell_type": "code",
   "execution_count": 183,
   "id": "60357c10-3e36-4e45-830c-2704b6142eca",
   "metadata": {},
   "outputs": [
    {
     "ename": "SyntaxError",
     "evalue": "unexpected EOF while parsing (4034490306.py, line 5)",
     "output_type": "error",
     "traceback": [
      "\u001b[1;36m  Input \u001b[1;32mIn [183]\u001b[1;36m\u001b[0m\n\u001b[1;33m    \u001b[0m\n\u001b[1;37m    ^\u001b[0m\n\u001b[1;31mSyntaxError\u001b[0m\u001b[1;31m:\u001b[0m unexpected EOF while parsing\n"
     ]
    }
   ],
   "source": [
    "from IPython.display import clear_output\n",
    "import time\n",
    "\n",
    "time_s = time.time()\n",
    "\n",
    "while que_:\n",
    "    time_t = time.time() - time_s\n",
    "    while que_ and que_[0][3] <= time_t:\n",
    "        aut_, mes_, tis_, encode_ = que_.pop()\n",
    "        window_insert(mes_)\n"
   ]
  },
  {
   "cell_type": "code",
   "execution_count": 186,
   "id": "ec74273f-af03-4652-8619-8b5da802f806",
   "metadata": {},
   "outputs": [
    {
     "name": "stdout",
     "output_type": "stream",
     "text": [
      "round 2025\n"
     ]
    },
    {
     "ename": "KeyboardInterrupt",
     "evalue": "",
     "output_type": "error",
     "traceback": [
      "\u001b[1;31m---------------------------------------------------------------------------\u001b[0m",
      "\u001b[1;31mKeyboardInterrupt\u001b[0m                         Traceback (most recent call last)",
      "Input \u001b[1;32mIn [186]\u001b[0m, in \u001b[0;36m<cell line: 5>\u001b[1;34m()\u001b[0m\n\u001b[0;32m     17\u001b[0m     score_ \u001b[38;5;241m=\u001b[39m \u001b[38;5;241m0.0\u001b[39m\n\u001b[0;32m     18\u001b[0m \u001b[38;5;28;01melse\u001b[39;00m:\n\u001b[1;32m---> 19\u001b[0m     score_ \u001b[38;5;241m=\u001b[39m \u001b[43mfunc_score\u001b[49m\u001b[43m(\u001b[49m\u001b[43midx_\u001b[49m\u001b[43m,\u001b[49m\u001b[43m \u001b[49m\u001b[43midx_sub\u001b[49m\u001b[43m)\u001b[49m\n\u001b[0;32m     21\u001b[0m window_mat[idx_window][idx_window_sub] \u001b[38;5;241m=\u001b[39m score_\n\u001b[0;32m     22\u001b[0m window_mat[idx_window_sub][idx_window] \u001b[38;5;241m=\u001b[39m score_\n",
      "Input \u001b[1;32mIn [182]\u001b[0m, in \u001b[0;36mfunc_score\u001b[1;34m(idx_a, idx_b)\u001b[0m\n\u001b[0;32m      1\u001b[0m \u001b[38;5;28;01mdef\u001b[39;00m \u001b[38;5;21mfunc_score\u001b[39m(idx_a, idx_b):\n\u001b[0;32m      2\u001b[0m     encode_a, encode_b \u001b[38;5;241m=\u001b[39m lst_encode[idx_a], lst_encode[idx_b]\n\u001b[1;32m----> 3\u001b[0m     score_ \u001b[38;5;241m=\u001b[39m \u001b[38;5;28mfloat\u001b[39m(\u001b[43mutil\u001b[49m\u001b[38;5;241;43m.\u001b[39;49m\u001b[43mcos_sim\u001b[49m\u001b[43m(\u001b[49m\u001b[43mencode_a\u001b[49m\u001b[43m,\u001b[49m\u001b[43m \u001b[49m\u001b[43mencode_b\u001b[49m\u001b[43m)\u001b[49m[\u001b[38;5;241m0\u001b[39m][\u001b[38;5;241m0\u001b[39m])\n\u001b[0;32m      4\u001b[0m     score_ \u001b[38;5;241m=\u001b[39m \u001b[38;5;28mmax\u001b[39m(\u001b[38;5;241m0\u001b[39m, score_)\n\u001b[0;32m      5\u001b[0m     \u001b[38;5;28;01mreturn\u001b[39;00m score_\n",
      "File \u001b[1;32m~\\anaconda3\\lib\\site-packages\\sentence_transformers\\util.py:40\u001b[0m, in \u001b[0;36mcos_sim\u001b[1;34m(a, b)\u001b[0m\n\u001b[0;32m     37\u001b[0m \u001b[38;5;28;01mif\u001b[39;00m \u001b[38;5;28mlen\u001b[39m(b\u001b[38;5;241m.\u001b[39mshape) \u001b[38;5;241m==\u001b[39m \u001b[38;5;241m1\u001b[39m:\n\u001b[0;32m     38\u001b[0m     b \u001b[38;5;241m=\u001b[39m b\u001b[38;5;241m.\u001b[39munsqueeze(\u001b[38;5;241m0\u001b[39m)\n\u001b[1;32m---> 40\u001b[0m a_norm \u001b[38;5;241m=\u001b[39m \u001b[43mtorch\u001b[49m\u001b[38;5;241;43m.\u001b[39;49m\u001b[43mnn\u001b[49m\u001b[38;5;241;43m.\u001b[39;49m\u001b[43mfunctional\u001b[49m\u001b[38;5;241;43m.\u001b[39;49m\u001b[43mnormalize\u001b[49m\u001b[43m(\u001b[49m\u001b[43ma\u001b[49m\u001b[43m,\u001b[49m\u001b[43m \u001b[49m\u001b[43mp\u001b[49m\u001b[38;5;241;43m=\u001b[39;49m\u001b[38;5;241;43m2\u001b[39;49m\u001b[43m,\u001b[49m\u001b[43m \u001b[49m\u001b[43mdim\u001b[49m\u001b[38;5;241;43m=\u001b[39;49m\u001b[38;5;241;43m1\u001b[39;49m\u001b[43m)\u001b[49m\n\u001b[0;32m     41\u001b[0m b_norm \u001b[38;5;241m=\u001b[39m torch\u001b[38;5;241m.\u001b[39mnn\u001b[38;5;241m.\u001b[39mfunctional\u001b[38;5;241m.\u001b[39mnormalize(b, p\u001b[38;5;241m=\u001b[39m\u001b[38;5;241m2\u001b[39m, dim\u001b[38;5;241m=\u001b[39m\u001b[38;5;241m1\u001b[39m)\n\u001b[0;32m     42\u001b[0m \u001b[38;5;28;01mreturn\u001b[39;00m torch\u001b[38;5;241m.\u001b[39mmm(a_norm, b_norm\u001b[38;5;241m.\u001b[39mtranspose(\u001b[38;5;241m0\u001b[39m, \u001b[38;5;241m1\u001b[39m))\n",
      "File \u001b[1;32m~\\anaconda3\\lib\\site-packages\\torch\\nn\\functional.py:4447\u001b[0m, in \u001b[0;36mnormalize\u001b[1;34m(input, p, dim, eps, out)\u001b[0m\n\u001b[0;32m   4445\u001b[0m     \u001b[38;5;28;01mreturn\u001b[39;00m handle_torch_function(normalize, (\u001b[38;5;28minput\u001b[39m, out), \u001b[38;5;28minput\u001b[39m, p\u001b[38;5;241m=\u001b[39mp, dim\u001b[38;5;241m=\u001b[39mdim, eps\u001b[38;5;241m=\u001b[39meps, out\u001b[38;5;241m=\u001b[39mout)\n\u001b[0;32m   4446\u001b[0m \u001b[38;5;28;01mif\u001b[39;00m out \u001b[38;5;129;01mis\u001b[39;00m \u001b[38;5;28;01mNone\u001b[39;00m:\n\u001b[1;32m-> 4447\u001b[0m     denom \u001b[38;5;241m=\u001b[39m \u001b[38;5;28;43minput\u001b[39;49m\u001b[38;5;241;43m.\u001b[39;49m\u001b[43mnorm\u001b[49m\u001b[43m(\u001b[49m\u001b[43mp\u001b[49m\u001b[43m,\u001b[49m\u001b[43m \u001b[49m\u001b[43mdim\u001b[49m\u001b[43m,\u001b[49m\u001b[43m \u001b[49m\u001b[43mkeepdim\u001b[49m\u001b[38;5;241;43m=\u001b[39;49m\u001b[38;5;28;43;01mTrue\u001b[39;49;00m\u001b[43m)\u001b[49m\u001b[38;5;241;43m.\u001b[39;49m\u001b[43mclamp_min\u001b[49m\u001b[43m(\u001b[49m\u001b[43meps\u001b[49m\u001b[43m)\u001b[49m\u001b[38;5;241m.\u001b[39mexpand_as(\u001b[38;5;28minput\u001b[39m)\n\u001b[0;32m   4448\u001b[0m     \u001b[38;5;28;01mreturn\u001b[39;00m \u001b[38;5;28minput\u001b[39m \u001b[38;5;241m/\u001b[39m denom\n\u001b[0;32m   4449\u001b[0m \u001b[38;5;28;01melse\u001b[39;00m:\n",
      "\u001b[1;31mKeyboardInterrupt\u001b[0m: "
     ]
    }
   ],
   "source": [
    "from IPython.display import clear_output\n",
    "\n",
    "import time\n",
    "\n",
    "for idx_round in range(len(lst_corpus)):\n",
    "    clear_output(wait=True)\n",
    "    print(\"round\", idx_round)\n",
    "    \n",
    "    idx_window = idx_round % SIZE_WINDOW\n",
    "    window_idx[idx_window] = idx_round\n",
    "    for idx_window_sub in range(SIZE_WINDOW):\n",
    "        idx_sub = window_idx[idx_window_sub]\n",
    "        val_old = window_mat[idx_window][idx_window_sub]\n",
    "        window_tot[idx_window_sub] -= val_old\n",
    "        \n",
    "        if idx_sub == -1:\n",
    "            score_ = 0.0\n",
    "        else:\n",
    "            score_ = func_score(idx_, idx_sub)\n",
    "        \n",
    "        window_mat[idx_window][idx_window_sub] = score_\n",
    "        window_mat[idx_window_sub][idx_window] = score_\n",
    "        window_tot[idx_window] += score_\n",
    "        \n",
    "#     for idx_, each_ in enumerate(window_mat):\n",
    "        \n",
    "        \n",
    "#         print(' '.join(map(lambda x:str(round(x, 2)), each_)), end=' ')\n",
    "#         print('tot=' window_tot[idx_])\n",
    "    \n",
    "    lst_printed = [] \n",
    "    lst_c = [idx_ for _, idx_ in sorted(zip(window_tot, range(SIZE_WINDOW)), reverse=True)]\n",
    "    for idx_window in lst_c:\n",
    "        for idx_printed in lst_printed:\n",
    "            if window_mat[idx_window][idx_printed] > THRESHOLD_:\n",
    "                break\n",
    "        else:\n",
    "            idx_ = window_idx[idx_window]\n",
    "            corpus_ = lst_corpus[idx_]\n",
    "            print(corpus_, window_tot[idx_window])\n",
    "            lst_printed.append(idx_window)\n",
    "            if len(lst_printed) == MAX_VIEW:\n",
    "                break\n",
    "\n",
    "    time.sleep(.01)"
   ]
  },
  {
   "cell_type": "code",
   "execution_count": null,
   "id": "2f1f2745-b7e9-46c1-a66c-0d928e3782e8",
   "metadata": {},
   "outputs": [],
   "source": [
    "from sentence_transformers import util\n",
    "time_s = time.time()\n",
    "clusters_ = util.community_detection(encodes_[2000:4000],threshold=0.9, min_community_size=5, init_max_size=100)\n",
    "print(time.time()-time_s)"
   ]
  },
  {
   "cell_type": "code",
   "execution_count": 59,
   "id": "e0929317-e5d0-41d1-b68f-b6fd501ef790",
   "metadata": {},
   "outputs": [
    {
     "name": "stdout",
     "output_type": "stream",
     "text": [
      "Cluster  1\n",
      "['hi', 'Hallo', 'hello', '흢훳k휌', 'Gang', 'nakamuraFallKaru', 'bro chess is so much more fun when you just flag people', '!candidates', 'nakamuraAha', 'how long to wait', 'Hikaru has a brand new TikTok! Keep up on highlights and clips at https://tiktok.com/@hikaruGM', '!shoes', \"@JxA__ New sub goal! If we hit 8000 subs before The Candidates, Hikaru'll wear these ?뜊?몶 https://www.fillingpieces.com/collections/men-new-arrivals-footwear/products/loafer-ananas-black ?뵦 We're at 6667\", 'good morning from snowwy Calgary', 'I might sub', 'peepoHey', 'ResidentSleeper', '@pataricky link your twitch account to your amazon prime account', '@pataricky Do you have an amazon prime account :)', 'hi hikaru', \"I think I'm right\", 'I am currently in class rn lol', 'And good morning everyone', 'morninggg', 'that was a sick overlay', 'MELEEEEEE !', 'pogger', '@benedict_jojo Thank you, kind sir.', 'pog', \"@pataricky I bet you're not\", '8 candidate is Ding Liren obviously', '@yoyoiyoo Hikaru has been streaming for 15m 24s', 'No e4??got it!!', 'bongcloud for unblocking the secret character', 'what is this speedrun?', 'hi chat, today we will win all the games', \"IMPORTANT??? Chat doesn't care CoolCat\", 'Alireza taking notes', 'gothFeels', 'Must be Nf3', '!speedrun', '!shoes', 'gothKkomrade', '!shoes', 'Is this just a garbage speedrun', 'open with f3', \"500 subs, for Pokimane's channel? modCheck\", '@BlindingDarknes with the 1 year subscription! CoolCat', 'hikaru are yo u going to play in Titled Twosday', 'hey', 'What gambit is this?', 'botez gambit is not a opening', \"200 IQ Hikaru is just acting like he won't play these openings in the candidates\", '@bayvis with the Prime sub! CoolCat', '!speedrun', 'D:', 'i like the reti for white but im struggling for finding a good opening for black. im hoping to be inspired in this stream', \"do you think if you win the candidates and become world champion it'd be one of the biggest chess achievements by anyone given how much time you still dedicate to streaming?\", '?\\x80\\x80', 'subs!', '500 is worth it', '@ChaeDoc POG', 'That checkmate was brutal wow', '!speedrun', '2 .. Na6 in the CK is batsh*t crazy KEKW', 'is Na6 suppose to be bad on move 2', 'Hello', 'what are books?', 'free juicer!', '!subs', 'Thanks for subscribing for 3 months, @bliejken HeyGuys', 'Thanks for subbing, @TreDemetri <3', 'PINEAPPLE PIZZA ALSO SIR?', 'Why does the picture of Duda look like a completely different person', 'I thought those were carrot shoes lmao', '!speedrun', \"I'm new to twitch\", \"Cool that the girl in the bottom right is also joining! I haven't seen a lot of girls in these tourneys!\", 'why not Rc2 there?', 'I am 700', '!shoes', 'smoke screens.  I like it', \"isn't telling what you aren't playing also info to give away?\", \"i don't understand, why is this speedrun different?\", '!song', 'is alireza an easy w', '! speedrun', \"is fabiano'd always the most prepped?\", 'Does this 500 sub bet include any opening or the specific variation? Like this is Caro kann or w/ Na6?', 'that seems like an advantage for you guys or nah?', 'If fabi the best player other than you in this tournament?', '@chess_master65390 but levy is gm no?', '@ch0rdal subscribing', 'how many times have you played in the candidates?', 'in the old days Kappa', \"It's a double round Robin, I think everyone knows the pairings\", 'roll with it', 'no, it gets fuzzy often', 'mitchr6HYPE mitchr6HYPE mitchr6HYPE mitchr6HYPE mitchr6HYPE', 'uBlock Origin should remove ads', 'its coooold there', \"@croestt New sub goal! If we hit 8000 subs before The Candidates, Hikaru'll wear these ?뜊?몶 https://www.fillingpieces.com/collections/men-new-arrivals-footwear/products/loafer-ananas-black ?뵦 We're at 6689\", \"he's partying too much\", 'imagine trying to checkmate supergm with qh5', 'what do you teach beginners?', \"@theroute313 It's a regular 500-3000, however he has to gift 500 subs to the community if he uses any of the openings he played in this speedrun\", 'Is the friend GFuel? LUL', 'at your age maybe a walker will help with your back', 'I thought you drink green tea', 'how many moves should be equal for you to lose the bet?', \"I dlnt understand, what's the concept of the speed run? @gmhikaru\", 'Krappa', 'Kappa', 'Kappa', 'COPIUM', '@ChaeDoc thank you so much', 'M defence', 'HYPERPOGO', 'P1 pog', 'is this guy even good?', 'nakamuraCmonMan nakamuraCmonMan', 'Dutch Is wonderful', 'WHO IS HE ?', 'WHO DAT', 'whats this speedrun about?', 'DMAA probably took a few years off my life, but the alternative was worse.', 'PogChamp', 'whats this speedrun about?', 'levon PepeHands', 'How do you usually approach opening in competition? Strategy, adjusting to your oponents, etc.. .?', 'hello from Romania!', \"why didn't you take rook after check?\", 'How do I participate', 'Of the official world champions -GM Mikhail Botvinnik is best known for employing the Dutch!!!', '@Kurtymckurt he wanted another mate i guess', 'you forgot to mark the next 300 games as wins', 'LUL', 'i have to say speedruns are fun content', 'D: ur not gonna play benco in candidates?', '@bevishjg258 Currently playing on spotify: Luscious Jackson - Naked Eye', 'am back lil doggy', '@GMHikaru dont you worry a little by revealing what youre not playing they can narrow down your repertoire?', 'Wont this out your prep to some extent? @gmhikaru', '@GMHikaru Will you play the bongcloud?', \"@kaynan_l This is the Botez Gambit Speedrun! Inspired by a classic meme, Hikaru'll be sacrificing his queen every game. This is an official Chess.com Speedrun Account, so all points from this account are refunded at the end!\", 'nakamuraTakes', 'this Firouzka picture is so old KEKW', '@GMHikaru who do u think will be the 8th candidate?', 'this is peak Game theory', 'play a ruy lopez next', 'Poor Fabi', 'gifting subs to yourself is just moving money from one pocket to another right?', 'blobDance blobDance blobDance blobDance', 'Do you even play melee? Has Leffen given you training?', \"nah am GMNEXTFISHERMANE u can't beat me\", 'D5 botez gambit?', 'Many layers of *psychosis here', 'DING is cheating', 'is the draw counter not working?', '135fe58b-d29a-4e09-b18b-3c13aeea5a1b', \"@thetawelle This is the Botez Gambit Speedrun! Inspired by a classic meme, Hikaru'll be sacrificing his queen every game. This is an official Chess.com Speedrun Account, so all points from this account are refunded at the end!\", \"Go with Grob's Attack please. BlessRNG\", \"It's not cheating.  It's gaming the system.\", 'inspect element YEP', 'if hes one of the best, which he is, he should be there. shouldnt be punished because his country was more conservative in their COVID response', 'Chat is life', 'I want to send a link :(', \"@gmhikaru what's the idea of this Speedrun\", 'grob against caruana confirmed', 'whats the theme of the speedrun guys?', '@gmhikaru I hope you and Sam Shankland crush it with the prep!', 'bong cloud game 1 against magnus?! lol', \"it's not like it's easy to gain all that elo in such short time\", 'candidates prep speedrun is such a flex lol', 'KEKW', 'actually true, crushed the field. much respect', 'PogO', 'Hey can you pleay me', '@ChaeDoc gets it', 'The smash bros aesthetic is awesome', 'what about a cat', 'Doggg', 'You said ?쐂og??and my dogs started going crazy', 'i think you have the field shaking in their boots after the grand prix. You are their worst nightmare', 'Why the Interogation mark, I mean we all know Ding Liren will be in the candidate!', 'lil doggy get good am saying', 'how much do you think u will win?', '!shoes', 'Click here for MASSIVE Elo Boost - also to sub to Hikaru on Youtube! https://www.youtube.com/c/gmhikaru?sub_confirmation=1', 'losing position', 'how are you so good', \"@karsonnny This is the Botez Gambit Speedrun! Inspired by a classic meme, Hikaru'll be sacrificing his queen every game. This is an official Chess.com Speedrun Account, so all points from this account are refunded at the end!\", 'a french would be very cool!', '436 KEKW', 'did Qa5+ win a piece?', '!speedrun', '@gmhikaru can you explain this Speedrun', '@GMHikaru can we fix the boxes so they align?', 'who would win Fernando_Torres vs Garth_Rooks', 'New Speedrun!', '@gmhikaru Are you planning to play titled Tuesday?', '!shoes', 'this is pog', 'so what is this speedrun', 'when will the last spot be given to a player?', 'NICE KKona', '!speedrun', 'can someone eli5 this speed run', 'my favorite song KKona', 'Nepo face...', 'I always listen to country CLAP', 'I also liked country. I think Eminem was a great contributor to the genre', 'nakamuraSpinHeart nakamuraSpinHeart nakamuraSpinHeart', 'assistant to the regional manager?', \"@kvasdasd New sub goal! If we hit 8000 subs before The Candidates, Hikaru'll wear these ?뜊?몶 https://www.fillingpieces.com/collections/men-new-arrivals-footwear/products/loafer-ananas-black ?뵦 We're at 6690\", 'assistant to the manager LUL was it Swight Schrute', 'his in chat now?']\n",
      "\n",
      "Cluster  2\n",
      "['@bigrockthrow me 2', 'Bakelite', 'Europe gang', \"it's ok\", 'i carry the gang', 'YEAHBUT7TV', 'ratJAM', 'nakamuraHi', 'A while', 'nice layout', 'Click here for MASSIVE Elo Boost - also to sub to Hikaru on Youtube! https://www.youtube.com/c/gmhikaru?sub_confirmation=1', \"considering it because I'm new to twitch\", 'Gotta watch LPL while waiting', '@pataricky give Jeff monees', 'Hikaru is worth 50 million, he wants you to give him more monies nao YEP', 'BRAND NEW MERCH DESIGNS!! Limited Quantities! https://merch.streamlabs.com/gmhikaru/merch', 'hes alive Pog', 'who is in colllege rn', 'w13Cozy  Me ready to watch another kijaru stream', 'Pog wtf was that', '!shoes', 'melee!', \"I'm in Australia, good night\", 'OOOHH SPEEDRUNN', 'Pog', 'LESSSGOO', 'holy POGGERS', 'EZ', 'based and hikarupilled', 'Not playing these openings COPIUM', 'Pog', 'Pog', 'Bongcloud central', 'this poor 512 lol', ':00', 'Click here for MASSIVE Elo Boost - also to sub to Hikaru on Youtube! https://www.youtube.com/c/gmhikaru?sub_confirmation=1', '500 POGGErssssssss', 'HI    HI    HI', 'Hello!', 'May be f3 is misclick', 'we are pog', 'Will play the Berlin against a 550 YEP', 'nice idea', 'DID HE SAY FIVE HUNDRED SUBS?', 'this speedrun will not contain the bongcloud :DD', 'i play my bone cloud', 'gg', 'when candidates tournoment starts?', 'he said 5000 subs', '@Drixhen with the Prime sub! CoolCat', \"@paperboy_x New sub goal! If we hit 8000 subs before The Candidates, Hikaru'll wear these ?뜊?몶 https://www.fillingpieces.com/collections/men-new-arrivals-footwear/products/loafer-ananas-black ?뵦 We're at 6670\", 'same YEP', 'Hey hikaru thoughts on Mikhail tal chess style?', \"then the rest of the openings that you wouldn't played would result to your opponent preparing for the rest, no?\", 'the grob Kreygasm', '!shoes', 'is this a huge smoke screen', 'are you gonna say things?', 'Opening is first move I am guessing?  I know its a stupid question but new to the world of chess', \"@jolanene New sub goal! If we hit 8000 subs before The Candidates, Hikaru'll wear these ?뜊?몶 https://www.fillingpieces.com/collections/men-new-arrivals-footwear/products/loafer-ananas-black ?뵦 We're at 6671\", '!command', 'if you play two titled tuesdays, does it make the second one a titled toosday?', \"these days it's more like 20-25 moves\", '@gmhikaru do you prefer Rapport with long or short hair?', 'Thoughts on Stockholm?', \"what's the speedrun?\", 'Doggg', 'why do you play players who have that low elo?', 'BRAND NEW MERCH DESIGNS!! Limited Quantities! https://merch.streamlabs.com/gmhikaru/merch', 'chess style kinda like Mikhail tal', 'how many openings are there in the history of chess?', 'Hikaru is going London 100% every game for the candinates YEP', 'I watched a couple of your very first YouTube videos yesterday. A lot has changed since then ^^ YEP', 'Is it 500 per opening used or is it one time only?', '@GMHikaru please do a 1b4 speedrun', '@milkymooose doing well, not busy yet, hbu?', \"@sinterklaashd This is the Botez Gambit Speedrun! Inspired by a classic meme, Hikaru'll be sacrificing his queen every game. This is an official Chess.com Speedrun Account, so all points from this account are refunded at the end!\", 'monkaS books ?', '!book', 'could someone explain the speedrun?', 'Good morning Hikaru from Chicago!', 'whacha drinking there Hik', \"You're in Florida, Hikaru. Aren't books banned there?\", '@washyourcup KEKW', '<3', \"@colaexotic New sub goal! If we hit 8000 subs before The Candidates, Hikaru'll wear these ?뜊?몶 https://www.fillingpieces.com/collections/men-new-arrivals-footwear/products/loafer-ananas-black ?뵦 We're at 6672\", '!shoes', '@gmhikaru where can we buy the pineapple shoes at?', 'Thanks for the support, @pataricky <3', 'who picked the picture for nepo', 'hasnt ding in the candiates if he isnt then who has chances rather than ding to qualify for candidates', 'prep speedrun? whose prep?', 'Kappa', '@giancarlo_2711 he plays random openings which he will not play at candidates', 'Naka what do you think about genetically engineered mosquitoes being released in FLORIDA?', 'Win/lose ratio is gone from the screen @GMHikaru', '*announcer voice* 짬 This game?셲 winner is ??HIKARU ! 쨩', 'seconds are sweating rn', 'LEAKED KEKW', 'COGGERS', 'Pog', 'are you focusing more on tactics and game plan here? @gmhikaru', '500 ?!', 'fabi KEKW', 'imagine this whole speedrun is just to confuse the other candidates', \"I have to say @gmhikaru you're a legend, the place at which you read chat and respond while playing chess is unprecedented\", 'brain rotting confirmed', 'oof good luck', 'MAKES SENSE', '!shoes', 'why dont they let you know all the rounds?', 'Whats the speedrun guys', 'Kappa', \"what's your favorite opening/defense?\", 'how do i stop the ads?', 'are you play tactical tasks', \"what's the twist in this speedrun\", '@starcontroller With small setting changes it will block all ads', \"oh god i just noticed nepo and alireza aren't lined up with the rest\", \"@scallopchess Currently playing on spotify: The Script - The Man Who Can't Be Moved\", 'DAE le what is the speedrun??? BatChest DAE le what is the speedrun??? BatChest DAE le what is the speedrun??? BatChest', 'COPIUM', 'bye', 'Instant Coffee is better than ground coffee', 'ship a tempurpedic to madrid', 'Kappa', 'Clueless right', 'Kappa', 'Littlejohn is tearing his hair out right now LUL', '@ChaeDoc ?삜?삜?삜', 'h5', 'Play the alekhine', 'PogO', 'Is it time to revolutionise the Polish opening as well?', 'Never heard of him', 'Doesn?셳 Magnus play the Dutch?', 'PogO never heard of him', 'Revolution!!!!!', 'Oh i Have heard of magnus', 'Who?셲 that', '1b4 is stronger', 'nakamuraAha', 'knight d2 was a queen fork', 'Do you agree with Radjabov being in the Canadates', 'Is this speedrun not giving way too much information to the other Candidates?', 'maybe matching the speedrun clock green?', \"@ChaeDoc its opponent's move LUL\", 'who are you most scared of playin gin the candidates?', 'i hope rapport wins', 'nc6', 'Stalling I hate stallers', \"@himanshu434 he's playing fun openings to prep for the candidates ;)\", 'what is the speedrun about횋', \"magnus's cousin monkaW\", '!speedrun', 'Fabi is just gonna force one of these openings somehow and not even care about the result', 'mods, pls fix the !speedrun command?', 'Im 700 and want to participate. How do i', '@Creamsicle Pog', 'miss watching Hikaru so much ?ㅲ씍??491227aa-d45d-4c14-8f52-7069463e7748', '!speedrun', '!New Speedrun', '5Head', '@rubickerG yes he is showing us all his candidate preparation', 'yeah that is WAYTOODANK', 'isnt the Benko close to lost at super GM level?', 'losing to a 600 LUL', 'how many subs is a win in the candidates worth thene?', 'the mind games are in another level', 'DANCE DANCE DANCE DANCE', 'I?쁬 so confused lmao', \"Rapport's hair looks glorious in that pic.\", 'lol 500 subs is a drop in a bucket for Hikaru', 'hikaru are you going to play a bongcloud', 'is that a radiohead mug ?', '@BigX23 twitch takes a cut', 'slightly cheesy', 'I will gift 500 subs if you play the bongcloud against alireza', 'What if Gary did that?', 'can we challenge Hikaru?', 'levy is in your team?', 'KEKW', 'modCheck', 'Why is nepo in candidates?  He didn?셳 win a single game', \"streaming 6hrs a day and playing 500's to prep for the candidates. Garychess would be so proud of you.\", '@gmhikaru just make the text slightly smaller??', 'he hasn?셳 played botez gambit yet pog', \"what's this speedrun about???\", 'eulers in chat are busy proving theorems', '!Speedrun', 'Fabiano has a hole book on grob', 'Bongcloud coming?', 'is this theory', 'PogO fk im hot sh!t', 'PogO', '#pogo', 'he hasn?셳 played botez gambit yet pog', '@prydz_fan no', '!shoes', '@GMHikaru have you seen what is happening Shanghai China? @GMHikaru', 'Lil doggy', 'Speedrun=Smurfing?', \"Get a cat so that they'll only resent your presence rather than absence.\", '@deeznutz69fart KEKWait', 'what about cats!!!', '@ChaeDoc tell that to my cats they constantly beg for attention', 'Dog walker for lady gaga monkaH', \"@karsonnny New sub goal! If we hit 8000 subs before The Candidates, Hikaru'll wear these ?뜊?몶 https://www.fillingpieces.com/collections/men-new-arrivals-footwear/products/loafer-ananas-black ?뵦 We're at 6689\", 'who do you think is the hottest in the candidates (besides you)? ;)', 'isn?쁳 that sandbagging?', 'Garth rooks lol', 'hes playing for a win lmao', \"@Slxteen_ New sub goal! If we hit 8000 subs before The Candidates, Hikaru'll wear these ?뜊?몶 https://www.fillingpieces.com/collections/men-new-arrivals-footwear/products/loafer-ananas-black ?뵦 We're at 6689\", 'Garth Rooks LUL', 'BUDAPEST GAMBIT @GMHikaru', 'garth rooks, what a name', 'how can I get better', 'Pun City!', \"...but he didn't sac his queen? what is this speedrun?\", '@11shawn97 no', 'yessss love garth rooks', 'pepeJAMMER', 'BRAND NEW MERCH DESIGNS!! Limited Quantities! https://merch.streamlabs.com/gmhikaru/merch', 'speedrun!', 'D:', \"what's a good chess set to buy hikaru?\", 'No we respect every genre']\n",
      "\n",
      "Cluster  3\n",
      "['Gang gang', 'kekw', 'caro kann noooo', '!speedrun', 'just use engine DUDE', 'doo da ratJAM', \"@maych New sub goal! If we hit 8000 subs before The Candidates, Hikaru'll wear these ?뜊?몶 https://www.fillingpieces.com/collections/men-new-arrivals-footwear/products/loafer-ananas-black ?뵦 We're at 6677\", 'play bongloud', 'KEKW', 'leaked', 'little beat', '@AnAnonymousGifter Tack f철r prenumerationsg책van!', 'KEKW', 'big brain', 'Honestly this is a great tactic. \"Leaking\" a different opening prep every couple of hours just to throw off the opponents', 'do you think that Alireza is following the Caruana method for preparing for the canadates. Radio Silence. didnt work', 'I LOVE the Smash Bros Character select!!!', 'what speedrun is this', 'What is this speed run? @gmhikaru', 'fabiano has spent thousands of hours analyzing the bongcloud with a supercomputer', 'alireza is the best of this 7', '@ch0rdal sub Kappa', 'ALWAYS THE RUSSIANS', 'Plebs KEKW', 'American Cup is super Strong. Levon, Wesley, Fabi, Dominguez, Shankland...', '@chess_master65390 i just checked last  time he was gm am i missing something', '@session_two thanks!', 'sheeesh', 'LUL', 'What is this speedrun? Could you explain?', 'we speak american brother', 'American?', 'Kreygasm Kreygasm Kreygasm', \"Ooh new speedrun Pog . What's the theme? Solid openings?\", 'did you see the link', \"@ravalesh This is the Botez Gambit Speedrun! Inspired by a classic meme, Hikaru'll be sacrificing his queen every game. This is an official Chess.com Speedrun Account, so all points from this account are refunded at the end!\", 'will you do the speedrun witout loosing a game?', 'LUL', '\"we speak american if it?셲 wrong it?셲 wrong?╈\\x80?it?셲 right\" nakamuraClap nakamuraClap nakamuraClap', 'gambit the bong', '!shoes', 'Get the Purple Mattress', 'they are let', '!shoes', 'Meth', 'coke', 'Coffee is life', 'lit', 'Crystal meth YEP', 'Old school Jack3d was my no-sleep aid', '@GMHikaru what is this speedrun about?', 'HYPERPOGO HYPERPOGO HYPERPOGO HYPERPOGO', 'WH OMEGALUL', 'KEKW', 'PogO', 'short?', 'who?', 'PogO revolutionized eh?', 'I dunno... The Dutch has a good record against Duda!!!', 'HYPERPOGO', 'nakamuraThinks nakamuraThinks nakamuraThinks', 'oh...that guy..forgot about him..', 'HYPERPOGHYPERPOGHYPERPOG HYPERPOG HYPERPOG', 'fruitNote', 'Hello just tuned in. Why is this called candidates prep speedrun?', '@GMHikaru What are the rules of the speedrun?', 'he knows theory', 'I think you will play marshall defence in the candidates?삙', \"@lavvvvvy This is the Botez Gambit Speedrun! Inspired by a classic meme, Hikaru'll be sacrificing his queen every game. This is an official Chess.com Speedrun Account, so all points from this account are refunded at the end!\", 'PLAY THE RUY LOPEZ AND ITALIAN SO NO MORE DRAWS IN CANDIDATES LUL LUL LUL', 'be careful with mouse slip', 'Hikaru you have a hair on your shoulder', 'Do you think Andrea Botez will make GM', 'which diagonal?', 'the benoni sideswipe', '!speedrun', 'The vertical*', 'monkaS', 'process of elimination Kappa', 'no u didnt', 'Lol Hikaru is big trolling haha', \"@CoreyZapin means? he's using his prep to speedrun?\", 'imagine you have to gift 500 subs and are -2.5 after that exact opening LUL @GMHikaru', 'GM level mind games', '?뮸', 'VirtualHug', 'How to challenge Hikaru', 'mods i think your !speedrun command might be outdated', 'rating manipulation', 'no grob Sadge', 'lol', 'Stick to the bird, its more solid', 'Can I play you', 'just make him play chess', 'poor doggo', 'do you think Magnus should immediately have a spot at the world championship or should he earn his spot through tournaments as well?', '@curling_biceps Garth Brooks is a famous person', 'Garth rooks gigachad name', 'can yo u play scandinavian?', 'play stafford gambit Kappa', 'Garth rooks LUL', 'Plz tell me', '@fxjuxdoe no', 'Normal pool?', 'oh no this is worldle all over again', 'banger', 'I know one \"Garbage\" song \"I think I\\'m Paranoid\" it was in Rock Band', '!song', 'mods make a command with explanation what this speedrun is', 'KKona Howdy brother', '!shoes', 'yep,no more respect Kappa']\n",
      "\n",
      "Cluster  4\n",
      "['yo', 'Hello', 'First', 'nakamuraWeirdChamp', 'good morning', 'Thumbnail gang', 'Too man', 'Hi hikaru', 'gj', 'gk', 'its 6pm here', 'i want to make friend with someone!', 'friend with yourself', '@bombilla1024  haha nice', 'friend chicken', 'It?셲 9 am here', '3pm here :)', '!discord', '@encsnoob Hikaru\\'s Discord is called \"Naka\\'s PogUniversity\" - click here https://discord.gg/aeaqK6g and connect it with your Twitch to see subscriber only channels', 'It?셲 14:50 here', 'same', 'im from vietnam', 'Belgium', 'NOTI GANGG', 'Isn?셳 hikaru in LA it?셲 not even 6am here', 'Poop', 'bruh', 'Notification', '@groceriesrevenge moved to florida', 'chat, where does Hikaru live?', 'thanks owiq', 'We live in Florida', 'Hey', 'hikaru can U reply?', 'Roy Orbison, rocking it', \"@pataricky He's not at his computer yet would be my guess\", '@pataricky do u have twitch prime>', \"@cefw97 New sub goal! If we hit 8000 subs before The Candidates, Hikaru'll wear these ?뜊?몶 https://www.fillingpieces.com/collections/men-new-arrivals-footwear/products/loafer-ananas-black ?뵦 We're at 6668\", 'Follow me on twitter at https://twitter.com/GMHikaru and sub to my youtube channel at https://www.youtube.com/c/gmhikaru?sub_confirmation=1 and instagram https://www.instagram.com/gmhikaru/', 'just fail the quiz', 'yoooooooooooo', \"Simon Williams' game is wild PogChamp\", 'Hikaru vs Rosen in tennis, the people want to see it!!! gladdSLAM', 'Classic throat clearing', 'Hope ur chillingggggggggggggggggggg', 'PetTheHikaru peepoHey', 'my friend needs help with his quiz', 'Hikaru is still prepping his hair YEP', 'your chess  style is weird remember that video', 'how is your day @GMHikaru', 'hikauu are you playing in titled Twosdays', '!song', 'We see yo sir', \"@simmo777 New sub goal! If we hit 8000 subs before The Candidates, Hikaru'll wear these ?뜊?몶 https://www.fillingpieces.com/collections/men-new-arrivals-footwear/products/loafer-ananas-black ?뵦 We're at 6668\", 'hikaruJAM', ':3', 'biiiii', \"What's cooking champ\", '@starcontroller fade into you by mazzy star', 'LUL LUL LUL', 'hiiiii', 'Pog', 'Good morning', 'Pog', 'Hikaru and dr.disrespect got the best thumbnails by farrrrrr', 'KEKW', 'Pog', 'lets go Grob', 'sick scene ...Kudos to designer..', 'leaked Pog', '!uprime', 'The Kappa Candidate', 'super smash Pog', 'wassup hikaru', '509 Pog', 'leaked no danish gambit in candidates YEP Kappa', 'qd5?', 'Make sure not to play the Budapest gambit then :)', \"@lnyo This is the Botez Gambit Speedrun! Inspired by a classic meme, Hikaru'll be sacrificing his queen every game. This is an official Chess.com Speedrun Account, so all points from this account are refunded at the end!\", 'play a najdorf, to guarantee your opponents that they dont need to prep for it!', '500 subs? That?셲 a lotta sandwiches!', 'What?셲 for breakfast???', 'do they give the points back to these new guys lol', 'sorry just got here, how does this speed run work?', 'PepeLaugh', 'Polish Speed Run?', 'Good morning everyone!', 'I am in Tucson,', 'Python KEKW', '..', '@TheZenTryhard London? peepoRiot', 'make it bigger', 'Learn a real programming language like HTML', 'Big = Good', \"will you play the queen's indian in the candidates?\", 'look at hikaru rating. first time my rating is higher than his Kappa', 'very tongue and cheek speedrun. love the idea!', 'are you using chess.com api with python?', 'widepeepoHappy', 'Looks alright', 'Please SIR Na3', 'alekhine?', '!shoes', \"I bet you're not gonna play the grunfeld in the candidates\", '@hoangkhoi7795 ah yes very true', '...', 'Beginners play e5 f5', \"@scrubidiot64732 That kind of hate speech won't be tolerated.\", '@GMHikaru what if he took your knight?', 'you plan on using the blackmar-diemer gambit? monkaS', ':O', 'monkaS', 'KKEW', 'what is the theme behind this speedrun? different openings?@chaedoc', 'with all of these speedruns you will end up playing the entire world lol', '!shoes', \"He's playing the London and French monkaW\", '@GMHikaru what is this speedrun? :O', 'Will Hikaru buy a beach house if he wins the Candidates?', '!speedrun', '!speedrun', '!shoes', 'Just to be clear lol', 'are you exposing ur prep?', 'you have only one minute in the daily game', '!speedrun', \"@unknownchessp1ayer This is the Botez Gambit Speedrun! Inspired by a classic meme, Hikaru'll be sacrificing his queen every game. This is an official Chess.com Speedrun Account, so all points from this account are refunded at the end!\", 'nakamuraCmonMan', '@chaedoc Kappa', 'PepoG', 'what are these \"books\"?', 'whats a book', 'Click here for MASSIVE Elo Boost - also to sub to Hikaru on Youtube! https://www.youtube.com/c/gmhikaru?sub_confirmation=1', 'he normally does not play the London', 'books DansGame', 'This was played in the game Nakamura vs Wang Yue', 'hey there Hikaru,how are you doing?', '!shoes', 'books Kappa', \"@softpastel New sub goal! If we hit 8000 subs before The Candidates, Hikaru'll wear these ?뜊?몶 https://www.fillingpieces.com/collections/men-new-arrivals-footwear/products/loafer-ananas-black ?뵦 We're at 6671\", '!speedrun', \"i can't read KKona\", 'Thanks for subscribing for 2 months, @mattishere31 HeyGuys', 'I?셫 surprised the name ?쏷heCandidate??isn?셳 taken already lol', 'imagine knowing what books are LULW', 'KKona I have a bookie, does that count?', 'MrDestructoid what is Na6', '!shoes', 'Books are extremely interesting pieces of material with quality and interesting thoughts condensed into readable form to take on the GOOOOOOOOOOOoo', 'that smash bros overlay is pure fire', 'I missed the start. What is the point in this speedrun?', 'bookie ghostg74Kekw', '!song', '@alongelo_ Currently playing on spotify: Young Mc - Bust A Move', '@Radar_cs Hikaru has 6560 Subs', 'Did he SaCRIFICE KNIGHT SIR?', 'someone please explain the speedrun', 'hasnt ding in  the candiates if he isnt then who has chances  rather than ding to qualify for candidates', 'Finally, I?셫 here for a stream', '!shoes', 'fahrenheit 450-florida', 'Pog PINEAPPLE', '@mattishere31 with 5 mystery gift subs! <3 <3', '@ChaeDoc ghostg74Kekw yeah I am in Florida too, everything is banned', 'nakamuraFlower', 'KEKW', 'pls update this is not botez Gambit speedrun', 'uni100 uni100 uni100', 'he says no YEP', 'hi', \"the box reminds me of tekken's characters\", \"@moobot let's goo\", 'Naka what do you think about genetically engineered mosquitoes being released in FLORIDA?', 'Naka, death metal or black metal?', 'Doing candidates prep against 400 player?', 'ghostg74Kekw death', 'pog', '400 is strong', 'oh im just stupid', 'YEP', 'alireza and fabiano look like they could be brothers from those pictures', 'what', 'BRAND NEW MERCH DESIGNS!! Limited Quantities! https://merch.streamlabs.com/gmhikaru/merch', 'SAC KNIGHT', '@ngheeeeee anyone he wins against will be refunded their ELO as well so no harm done', 'PepeLa', 'was that first win of the speeltuin,', 'bongloud', 'KEKW', 'PLAYING POKER DURING THE GAME', 'play bongcloud @GMHikaru', 'leaked KEKW', 'hikaru is a savage for that', 'KEKW', 'KEKW', \"Littlejohn's reaction when he logs into twitch and sees the new speedrun: nakamuraShock\", \"what's your favorite/preferred opening/defense?\", 'lol', 'do you think the other candidates watch your streams?', 'Hello hikaru, always nice to see you streaming :)', 'Thanks for the mystery gift sub @pataricky <3', 'lol :D', 'Rapport is watching right now and is like \"these are bad?\"', 'YAAAS', 'Who do you think is a greater tv sitcom. The Big Bang Theory or FRIENDS?', '@CrMart with the Prime sub! CoolCat', 'lol great idea confusing them', 'jarome gambit in candidates', 'I heard Fabiano smokes a lot of weed', \"so obviously hikaru has bird's opening and grobs opening planned for the candidates LUL\", 'gg', 'Are these sub games?', 'What is this speed run? @gmhikaru', 'Can a good second be the difference in winning or losing?', \"the number of wins can't be seen\", '!speedrun', \"@masd3009 This is the Botez Gambit Speedrun! Inspired by a classic meme, Hikaru'll be sacrificing his queen every game. This is an official Chess.com Speedrun Account, so all points from this account are refunded at the end!\", 'do you have bro', 'is alireza the youngest candidates player? do you know who was if not?', 'yoy will prepare more for fabiano that the rest of the oponents?', 'Support the stream and learn more from Insights, Lessons and Game Review through getting your premium membership at: https://go.chess.com/hikaru . Give the gift of chess improvement to someone else here: https://www.chess.com/membership/gift?ref_id=15448422', '!song', 'its just like hikaru to accidentally play c6 na6 in candidates', '!speedrun', '!speedrun', 'how does that prevent collusion', \"Do you think it's possible for 50 year old to get to be FM if interested in studying and time is not an issue? No? 2000 rating maybe?\", 'do you think u are more american than japan', 'Fabiano Marihuana should be easy you could smoke him even', \"what's the difference if it's your 1st oponent or last?\", 'seems like it would make prepping a bit easier overall', '!speedrun', 'TRUE', 'wait what is this speedrun :D', 'It?셲 cause of Russia', 'Kappa', 'player cheating? never on Earth! Kappa', '!shoes', \"How much of madrid will you get to enjoy while you're there\", 'what opponents will be the tougher and easier ones in the candidates in your opinion hikaru?', '!speedrun', 'WHAT IS THIS Speedrun', '@scrubidiot64732 no he is not you check his fide profile', 'Russia forever cheating lol', 'we love the ads', 'Dang it, Bezos!', \"Yep, totally relate man, I haven't played the candidates in years\", 'stream gets fuzzy every so often ?', 'some of these ads are awful :X, ok i will subscribe', 'get stable internet + ad blcok and you should be good', 'i heard they used to cheat at the olympics too way back in the day', 'All more the reason to subscribe!', 'ads?', 'Naka black metal or death metal? @gmhikaru', '!speedrun', \"@achillchess This is the Botez Gambit Speedrun! Inspired by a classic meme, Hikaru'll be sacrificing his queen every game. This is an official Chess.com Speedrun Account, so all points from this account are refunded at the end!\", 'hikaru do you think chess will get an update', 'Hikaru, why is Hans having a hard time in Iceland?', 'Nintendo is way behind on the updates', 'KEKW', 'Is this botez gambit speedrun or some other kind?', \"@ngheeeeee It doesn't affect in-stream ads.\", 'kruis not kruif lol', 'Qh5 LUL', 'nakamuraFallKaru_SG', 'Whats the speedrun about', \"@chess_master65390 i can't see the link\", 'Van Kruif vs St. George YEP', '!newspeenrun', 'BRAND NEW MERCH DESIGNS!! Limited Quantities! https://merch.streamlabs.com/gmhikaru/merch', '99% of the time e3 is a mouse slip', '@scrubidiot64732 https://ratings.fide.com/profile/2039877', 'that was cruyff', 'A6 kek', 'Tony van Queef', 'HELL YEAH KKona', 'KKona', 'stopping bc4 lmao', 'american KKona', 'is there no theme to this speedrun and no one wants to answer', 'This is classic 500 play, I love it', \"if it's wrong it's still right, if it's right it's still wrong.\", 'KKona language', \"@kwesiquest New sub goal! If we hit 8000 subs before The Candidates, Hikaru'll wear these ?뜊?몶 https://www.fillingpieces.com/collections/men-new-arrivals-footwear/products/loafer-ananas-black ?뵦 We're at 6689\", '@gmhikaru whats the speedrun about', 'im a doubter YEP', '@GMHikaru what is this speedrun?', 'our man who has only moved his queen KEKW', 'Unapologetic American. Love it', '!speedrun', \"@noflame_1 This is the Botez Gambit Speedrun! Inspired by a classic meme, Hikaru'll be sacrificing his queen every game. This is an official Chess.com Speedrun Account, so all points from this account are refunded at the end!\", 'Lol prediction', 'What is this speedrun?', '!speedrun', 'just bongcloud every game', '!song', '!shoes', 'Are you really serious about trying to confuse the candidates with this speedrun?', \"He'll never return\", 'the player is Johan Cruyff', '!speedrun', 'chat how do you get better at openings', 'posture check', 'Kappa', '!speedrun', 'Back bothering you ?? Kappa', 'our friend from Colombia', 'are we done with chessle?', 'someone please update the speedrun command', 'ACID BABYYTT', '@LAN3__ force yourself to try to remember them as often as possible', 'Whats this speedrun about?', 'Cocaine?', 'Hikaru should invest in a pog mattress to aid his sleep leading up to the candidate', '!speedrun', \"@Ephelia0 This is the Botez Gambit Speedrun! Inspired by a classic meme, Hikaru'll be sacrificing his queen every game. This is an official Chess.com Speedrun Account, so all points from this account are refunded at the end!\", '@ChaeDoc psychopathy', 'LICKED', 'D:', 'what is your favourite european country', 'Or will he Kapp', '-2500 KEKW', 'Kappa', '@The0rchid based', 'Kappa', 'wink wink nudge nudge', 'got it', 'CONGRATS TO THE WINNERS OF THE PREDICTION', 'Kappa', 'guys i smell some subs', 'I dunno... The Dutch has a good record against duda!!!', 'Who the f** plays the dutch at high level?', 'Reverse psychology?', 'right???', 'Mental games being played.', 'what is the point of this speed run mods?', '!speedrun', 'is okay lets jebait fabiano Kappa', 'BOOBA', 'Stonewall Jackson @GMHikaru', '!whatisthisspeedrun', 'Does chess.com let you smurf? @GMHikaru', 'nan', '@sunzoyo Hikaru and Fabiano have played quite a bit of it', 'LUL M', 'PogO', 'gm levy rozman Kappa', '@happybisha official accounts are protected and the player he beats gets their points back', 'HYPERPOGO HYPERPOGO HYPERPOGO HYPERPOGO HYPERPOGO', 'TRUEEE', \"I've heard of that guy before\", 'TRUE', 'HYPERPOGO  who asked ?', 'PogO im revolutionary', 'POGO', 'never heard of him', 'HYPERPOGO', 'Magnus also played the dutch sometimes', '1 guy', 'lmao', 'HYPERPOGO revolutionized eh?', 'Hm what a pogchamp this nakamura is', 'who is that', 'who is this hikaru guy', 'HYPERPOGO', '*Fabiano taking note*', 'nakamuraCmonMan nakamuraCmonMan nakamuraCmonMan', 'PogO uhhh... yeah... PogO', '@gmhikaru can you update the speedrun command?', 'slay', 'what a chad player', 'Clap', 'HeyGuys', 'who is this guy ? Kappa', 'CiGrip', 'just tuned in.. this is hilarious', 'Speedrun!', 'was this hikaru guy ever a world champion or is he just some noname?', 'Hikapoleon!', 'imagine following an opening recommended by a variety streamer @GMHikaru', \"That's cool ngl\", 'some random 2800 guy', 'That guy has the same name as you', 'love the pinapple light', 'MODS', 'hence orange wall', 'p1', 'i think Dutch  u played vs Levon', 'TT today?', '!speedrun', 'hikaruJAM', 'what is special about this speedrun i dont understand', 'that was like 40 years ago right?', \"It's a shame he's only playing opening he won't play at the Candidates because we're not going to see 1.b3 in this speedrun. Sadge\", 'How do I participate', \"@theroute313 It's a regular 500-3000, however he has to gift 500 subs to the community if he uses any of the openings he plays in this speedrun\", '@GMHikaru  what is this speedrun about?', 'Is it sad that all the openings have been taken and you can?셳 get one named after you @gmhikaru', 'Lol I get blown off the board when i play the Dutch. I probably need to look into the theory lol', 'nakamura popularized the dutch? never heard of him, sounds made up', '?ㅲ씍??8013f9de-3434-44ca-82c3-9bdf09846609', 'The Dutch is a bad opening for a 1200 rated?', '@Radar_cs Thanks! <3', 'mind games', 'no botez gambit???', 'Right? Kapp', \"what's this?\", 'what is this speedrun?', '@GMHikaru You have a hair on your right shoulder', 'do you ever play checkers?', 'what is this speedrun', 'Already with the 5D strategies', 'NODDERS purple board', 'light green?', 'he lost 2k elo over night so he farm it back now', 'HypeLUL', \"@kwesiquest This is the Botez Gambit Speedrun! Inspired by a classic meme, Hikaru'll be sacrificing his queen every game. This is an official Chess.com Speedrun Account, so all points from this account are refunded at the end!\", 'I like this color, I play with this one', 'who made the smash bros style picture above your head?', 'you always have fancy board and pieces for your speedrun - why not this time? @GMHikaru', 'Hikaru, the boomer, has finally gotten the latest emote extension from 7tv. Go to https://7tv.app/ and get the extension for chrome, brave, firefox, chatterino, mobile etc for yourself and play with the new emotes!', 'LUL', 'PepeLaugh', 'Of the official world champions -GM Mikhail Botvinnik is best known for employing the Dutch!', \"If you have back pain I'd reccomend some back focused exercises.  Really helped mine.\", '0_0', 'lmao', 'you are going to play benko in candidates lol', 'monkaW', 'MODS WHATS SPECIAL ABOUT THIS SPEEDRUN', 'maybe hippo next game?', \"is this just a 'serious opening' speedrun ??\", 'Bro Hikaru is playing some GM level mind games today KEKW', 'hikaru playing mindgames with everyone', 'we need a ! speedrun for the !candidates speedrun', '@mods the speedrun command is outdated', \"@gufifeg It's a race from 500-3000, however he has to gift 500 subs to the community if he uses any of the openings he plays in this speedrun\", 'Hikaru do you think level of candidates is the same as the other?', 'pretty structure', '@lavvvvvy needs update', '@lavvvvvy incorrect', '!speedrun modCheck', '@gmhikaru I would love  to see you play against the evans gambit. Or use it!!', 'leaking all the prep PepeHands', 'Hikaru play smart dumb dumb', 'will you be playing the jerome? Kappa', 'nah', 'Favorite coffee brand?', 'Thanks for subbing for 7 months, @DeNBangBang <3', 'Norwegian 600, El Magnito smurf monkaS', 'naw your good no leak', 'Halloween Gambit???', 'hikaru playing the long con.  every opening he plays this speedrun will actually be main prep in the candidates Kappa', 'mind games OMEGALUL', '@gmhikaru can always play bongcloud and bail out', 'brain hurts', 'yep, maybe 500 subs is worth it to distract their prep', 'Hikki implied he would play the grunfeld lol', '!speedrun', \"You realize how strong these openings are vs 600 rated players so try it in candidates. I don't see what could go wrong\", 'its an investment', \"can someone expain what's this new speedrun?\", 'But the clout is worth more than a candidates win', '@alongelo_ Currently playing on spotify: Sugababes - Round Round', 'Thanks for subbing for 7 months, @feldryn <3', '!sheos', 'pls play qgd', \"@NikeSlapzz New sub goal! If we hit 8000 subs before The Candidates, Hikaru'll wear these ?뜊?몶 https://www.fillingpieces.com/collections/men-new-arrivals-footwear/products/loafer-ananas-black ?뵦 We're at 6689\", '!speedrun', 'chat can someone tell me what this Speedrun is?', 'last one is deng in candidates??', 'play a Berlin plz! no draws in the candidates', '!shoes', 'That?셲 what I was thinking and it?셲 not lying either because you said not that you won?셳 play it', 'is levy on your team? Kappa', '!speedrun', 'it is kinda', \"9 more games for Ding LETS'S GOOOOO\", 'someone please tell me what this Speedrun is', '!shoes', \"@goeigan New sub goal! If we hit 8000 subs before The Candidates, Hikaru'll wear these ?뜊?몶 https://www.fillingpieces.com/collections/men-new-arrivals-footwear/products/loafer-ananas-black ?뵦 We're at 6689\", 'why no bortnyk', 'stupid D:', 'black background behind the yellow font instead?', \"Why doesn't Magnus set up his own tournament(s) to get to a 2900 rating???\", 'PogO', '!peedrun', 'sacrifice a peice', '!speedrun', 'Grob is solid', '@11shawn97 I was wondering the same thing', \"it's legal but it's not LUL\", 'Do I have to streamsnipe???', 'any oilers? modCheck', 'We have a 2nd YouTube channel - Please sub <3 https://www.youtube.com/channel/UC57kv9u2zRWk6n8sTrhgIUg?sub_confirmation=1', \"What's the difference between what Ding is doing and what MAgnus could do??? weird\", 'LOL', 'what is this Speedrun @gmhikaru', '\"Ding is cheating not playing top players\" BabyRage While Hikaru speed runs against 500s', 'KEKW', 'definitely playing grob PepeLaugh', 'lol', \"@iluvmahem New sub goal! If we hit 8000 subs before The Candidates, Hikaru'll wear these ?뜊?몶 https://www.fillingpieces.com/collections/men-new-arrivals-footwear/products/loafer-ananas-black ?뵦 We're at 6689\", 'im trying to streamsnipe hehe', 'Shouldn?셳 candidates be too 10 ratings?  Why was rank 42 artimez in candidates and gave free win to nepo last year', \"@the_cycl0ps It's a race from 500-3000, however Hikaru will have to gift 500 subs to the community if he uses any of the openings he plays in this speedrun\", 'Would you get draws against a 2500 in a 100 game match? @gmhikaru', 'tbf to Ding though Covid has made it hard for himself', 'shoes?! Daddy needs new shoes?', 'Englund gambit every time against 1. d4', '!permit smirnster', '@Creamsicle @smirnster will not get timed out for the next 3m (@Creamsicle)', 'Hi Fabi in chat', 'What is this speedrun', 'How to play u', 'BRAND NEW MERCH DESIGNS!! Limited Quantities! https://merch.streamlabs.com/gmhikaru/merch', '!shoes', 'Can I play you so that I can get higher rank', '@Creamsicle <3', 'catJAM', '@Creamsicle thank you', 'HYPERPOGO', 'Oh boy that link', 'o', 'PogO', 'PogO', 'chat did he do chessle yet?', 'PogO', 'How much of your grand prix form do you attribute to your mental space and not caring so much?', 'GIGACHAD', \"@amirreza_abd98 HIKARU HAS LOCKED A CANDIDATES SPOT!! LETSGO He'll be playing in an 8 player tournament in Madrid Jun 16-Jul 5, the winner of which challenges Magnus ?㎠ for the WORLD CHAMPIONSHIP! https://www.chess.com/article/view/fide-candidates-chess-tournament-2022\", 'Hikaru get good lil doggy', \"If you make candidates just based on ratings, you'll have the GMs playing against 2100s like we've been talking about KEKW\", 'How to play against Hikaru???', '!shoes', 'D: WHY', \"he's a dog person\", '!speedrun', \"@furkan200066 This is the Botez Gambit Speedrun! Inspired by a classic meme, Hikaru'll be sacrificing his queen every game. This is an official Chess.com Speedrun Account, so all points from this account are refunded at the end!\", 'CAT = DOG', 'play the orangutan?', 'True you?셱e right', '@GMHikaru how about a fixed amount of wins against high rated players? to qualify and no rating req.', 'That Nepo pic is funny', 'Sam shankland is a huge doggo person', 'Rent a dog.', 'a japanese dog?', 'How about a \"pocket\" doggy??? Could take it everywhere! LOL', 'he hasn?셳 played botez gambit yet it?셲 official prep', '@GMHikaru What breed would you get if you would get a doggo', 'widepeepoHappy', 'I wanna get rolled!', 'How?', 'CorgiDerp', 'Who let the dogs out? Woof, woof, woof, woof.', '?맯', 'are you a dog person or a cat person? @GMHikaru', 'cutest opponent in candidates?', 'whats a good dishonest way to make a living', \"@hikarunakamura_v2pointo This is the Botez Gambit Speedrun! Inspired by a classic meme, Hikaru'll be sacrificing his queen every game. This is an official Chess.com Speedrun Account, so all points from this account are refunded at the end!\", 'he hasn?셳 played botez gambit yet it?셲 official prep', 'holly*', 'hi chat HeyGuys', 'How to think faster in chess?', \"What's this speedrun?\", '!speedrun', '!shoes', \"It's too long already a month of grueling chess\", '!speedrun', 'who is garth rooks', \"also garth brooks, gets bombed my YMH's fans\", 'Thunder road', 'whats the speedrun?', 'Garbage Sadge', 'Where are the bodies garth?????', 'your walk out song', 'Can i change player 2 Kappa', 'Banger alert', 'could i queue up some pink floyd after?', 'this speedrun will go up until which rating? @GMHikaru', '@smirnster Currently playing on spotify: The Sounds Of Garth Brooks - Friends In Low Places', '@mtn_dru @jobins30 nah', '!speedrun', 'KKona', 'How long does a speedrun usually take?', 'KKonaW', \"@gmhikaru the !speedrun command says you're sacking your queen...?\", 'its not updated', 'can you explain this Speedrun @gmhikaru', 'Hikaru u eat meatball subs brother', 'very solid 400 LOL', 'KKona', '@GMHikaru can we fix the boxes so they align?', 'not Garth', \"@nemesis_ab19 This is the Candidates Speedrun! Hikaru'll be playing a bunch of offbeat openings to diversify his prep, if any of the openings he plays here get used at The Candidates, he'll donate 500 subs to chat!\", 'KKona  CHILLS', 'KEKW', 'is there a woblehead of you I can buy?', 'i still do KKona Clap', 'country music is great', 'Nice taste', 'country music is popular in USA', 'Who?셲 your favourite chess commentator?', \"I don't like this particular tune\", 'KKona', 'Marty Robbins?', 'KKona Clap', 'I wanna see Hikaru as a challenger. It?셲 gonna be awesome', 'KKona trucks n steaks', 'D: f respect (jk)', 'respect for saying it', 'HILBILLY NAKAMURA', 'Kappa Kappa Kappa Kappa Kappa Kappa', 'publix the walmart knock off?', 'i know just wanna mate in four', 'how dare you like what you like hikaru so much lost respect LUL', 'assistant to the manager, or assistant manager?', '?쏷here are only two kinds of music: good and bad?앪\\x80?duke ellington']\n",
      "\n",
      "Cluster  5\n",
      "['均棘', 'yoooooo', 'Hello', 'Sup', 'Leeeesss ggooo', 'HIIIII', 'nice to meet u', '?剋逵勻逵 叫克?逵?戟?', 'How yall doing?', 'HEE HEE', 'hello', '1st Kappa', 'morning fellows', 'gg', 'Yoooooo', 'Wooooo', 'hey hikaru had a good sleep?', 'gh', 'just kidding its 9 pm here in ph', 'It?셲 4.20pm somewhere', 'its 3pm here', 'Its 10pm here', '@bigrockthrow go outside', 'TWO!!', '3pm gang!', 'ok bye', 'u', '5:21 here', 'its 19:51', '8:51', '3:51', 'australia gang?', 'Not I bang', 'Gang', 'what is noti', 'dadadadadada', 'SeemsGood', \"@thomas_to_3000 HIKARU HAS LOCKED A CANDIDATES SPOT!! LETSGO He'll be playing in an 8 player tournament in Madrid Jun 16-Jul 5, the winner of which challenges Magnus ?㎠ for the WORLD CHAMPIONSHIP! https://www.chess.com/article/view/fide-candidates-chess-tournament-2022\", 'BRAND NEW MERCH DESIGNS!! Limited Quantities! https://merch.streamlabs.com/gmhikaru/merch', 'ayo', 'titled twosdays', 'how long to wait any one know please tell me', \"Hikaru!! Here to entertain me when I'm sick and miserable\", 'When is this thing starting', '@loongmaze with the Prime sub! CoolCat', 'Thanks for subscribing for 5 months, @Radar_cs HeyGuys', '!shoes', \"@stew42 New sub goal! If we hit 8000 subs before The Candidates, Hikaru'll wear these ?뜊?몶 https://www.fillingpieces.com/collections/men-new-arrivals-footwear/products/loafer-ananas-black ?뵦 We're at 6668\", 'yooo', 'Stream taking too long to start, time to riot peepoRiot', 'cool shoes', 'how do I subscribe?', 'i got it', 'Poop', '!shoes', \"@ItzSpikeh New sub goal! If we hit 8000 subs before The Candidates, Hikaru'll wear these ?뜊?몶 https://www.fillingpieces.com/collections/men-new-arrivals-footwear/products/loafer-ananas-black ?뵦 We're at 6668\", 'beep', 'How are you Hilaru', '@pataricky or use your monthly free prime sub', 'Hikaru verified meme lord', 'Good morning all from Toronto!', '@ixequta who', 'how do I use free sub', 'Good morning Toronto! /Sthlm', 'I have no idea how twitch works sorry guys', '!shoes', 'nakamuraFlower', \"Canadians monkaW we're being invaded\", 'no just default', 'forsen1 forsen2', 'forsen3 forsen4', \"@pataricky If you don't have one of those, you can't get a free sub :(\", 'HI GUYS do any of you know how to tell if its a false proposition', '@radar_cs  okay thanks for letting me know', 'Too long! (@theogopogo) (warning)', 'Ratio', '!song', '@bhdpn Currently playing on spotify: Roy Orbison - You Got It', '@mudora231 with the 22 months re-sub! <3', 'hi', 'Hello stockholm!', 'Omg the thumb nails', 'I thought gifted subs were for anyone to receive', 'YOOOOOOOOO Mr. NAKAMAMA I HEARD U BOSS!!', 'HOW U DOING TODAY SIR?', 'Good morning', 'Hello', 'hikaru?', 'TWO titled tuesdays??!', 'Yekaterinburg is here.', 'kekw', 'HeyGuys', 'Good morning nakamuraSpinHeart', 'good morning', 'classic triangle', 'Anddddddddddddddddddddddddddddd', 'These photoshops are 10 steps ahead.', 'nakamuraSpam alessiaSCREAM nakamuraToGive cbrahOoh cbrahKO whyyyyMocked2 cbrahPepePride', 'GOOD MORNING SIR', 'Pog setup', 'hikaruJAM', 'Wait what happened', '@starcontroller Currently playing on spotify: Mazzy Star - Fade Into You', 'MUTEDddddddddddddddddd', \"we don't see you sir\", 'Morning hik', 'BOXerrrrrrrrrrrr', 'we see you sir YEP', 'toosday', 'I saw that was so cool', 'hemlo', 'Pog Pog', \"I'm gonna subscribe\", 'New speedrun', 'that thumbnail gothKkomrade KEKW', 'hikaru fake opening prep to confuse future opponents!', 'new speedrun!', 'Bonjour 횪 tous', 'Irregular openings?', 'PepeLaugh ?', 'bongcloud', 'Anti prep?', 'just from the white side? or both sides?', 'Not playing e4 at all lepNOTED', 'Thank you for subscribing, @pataricky! :D', '!uptime', \"Isn't telling everyone what openings you are not playing the same thing as telling everyone what openings you are playing\", 'LASSS GOOOOO', '@MajorAlphaWhisky I have faith in our lil 512', '@teufelhunden__ with the 41 months re-sub! <3', 'Te amo Nakamura', '@GMHikaru why is it called candidates prep speedrun?', \"Minor comment for editors: Recent Grishuk youtube video with footage from Hikaru's stream and the Chess.com stream would be better if it replayed certain interesting parts of the game with both commentary.\", 'hype train', 'E.g. Say game is 20 minutes in true time. We see t=0s to t=30s of Yasser and Naroditsky, then we see t=15s to t=50s of Hikaru. Provides more continuity, and is very interesting to see what both casts say about the same move sometimes.', 'yay he acknowledged me', 'my wish is complete', 'you better not be playing the Bong Cloud.', 'how many moves is an opening', \"@flamgor New sub goal! If we hit 8000 subs before The Candidates, Hikaru'll wear these ?뜊?몶 https://www.fillingpieces.com/collections/men-new-arrivals-footwear/products/loafer-ananas-black ?뵦 We're at 6669\", 'Easy bait and switch.', 'is the botez gambit speedrun done @GMHikaru ?', '!speedrun', 'Yup he said 500 subs lol', 'when u start prepping for candies?', '@HerrSpaten yep', 'That would cut into the 50 million', 'fork', 'lol at the username', 'you better not play the botez gambit lol', 'Check out the newest video on the newest Hikaru Youtube Channel just for clips!! Hikaru Almost Blunders Everything - youtu.be/4lJsw4YtvgE', 'FeelsRainMan', '@Creamsicle thanks <3', '!shoes', 'are visitors allowed?', \"What's this new speed run about?\", 'if candidates were to start now and assuming ding makes it, who would be the favourite?', 'bongcloud is a great opening for candidates Kappa', '!shoes', 'What ELO did you reach in the Botez gambit speed run?', 'would be cool to see it in person', 'When is the next big st.Louis tournament?', 'yup', 'lol', '!shoes', 'our usernames look kinda similar', 'have you been to madrid before?', 'you vs Caruana?', \"@crazy__ape This is the Botez Gambit Speedrun! Inspired by a classic meme, Hikaru'll be sacrificing his queen every game. This is an official Chess.com Speedrun Account, so all points from this account are refunded at the end!\", 'Hikaru are u gonna play the Catalan', 'will you win all the games?', 'how did you learn to play chess so good', 'how is botez the new Speedrun ?', \"yo chat what's the new command for the speedrun\", 'cant play the catalan in madrid', 'will you play the Spanish in Spain?', 'even misdirection is information in poker', 'free subs', 'A win in the candidates is worth way more than 500 subs..so maybe you will ...', 'How many openings do you prepare', 'speedrun?', 'tilted Tuesday?', 'whats the new speedrun', 'Including e4?', '@theroute313 yes', '@milkymooose morning', 'just got here, whats happenin', 'did you write python?', 'what rules does this new speedrun have?', 'wait what? Python he created LUL', 'or CSS', 'DUDE can u play Na3 and Nh3 OPENINGS? These are extremely effective in FLANK ATTACK!!', '@SuzanneNchillea how are we doing today!? Busy day?', 'mods? is there a new command for this speedrun?', 'Hikaru can code POG', 'python >>>', \"will you play the queen's indian in the candidates? @gmhikaru\", \"Hikaru learned Python 2.0, he doens't know KEKW\", '!speed', \"@niwlliwi New sub goal! If we hit 8000 subs before The Candidates, Hikaru'll wear these ?뜊?몶 https://www.fillingpieces.com/collections/men-new-arrivals-footwear/products/loafer-ananas-black ?뵦 We're at 6671\", \"@ChaeDoc But html and css aren't programming languages\", '!speedrun', \"@hoangkhoi7795 This is the Botez Gambit Speedrun! Inspired by a classic meme, Hikaru'll be sacrificing his queen every game. This is an official Chess.com Speedrun Account, so all points from this account are refunded at the end!\", 'Alekhine always cool', 'POG melee!', 'yoo', '@ChaeDoc Gottem suck on deez pookas', 'Kappa', 'SeemsGood', 'no carokann in candidates ?D:', 'London', 'YASSSSSSSSSSSSSSSSErrrrrrrrrrrrrrrr', 'Clueless', 'c6 Na6 is extremely solid', 'levy would be proud', 'cbrahYaz', '!speedrun', '!speedrun', 'Did he play that in Standard GAMES?', '@turhhuhu these are his opening for the Candidates', '@SuzanneNchillea ah same same just chillng for rn right now', '@TheZenTryhard peepoRiot', 'nakamuraCmonMan nakamuraCmonMan nakamuraCmonMan', 'books OMEGALOL', 'DansGame', 'This just a standard speedrun?', 'Books = courses', 'The latest video up on More GMHikaru is: Charity Stream - Ukraine Crisis Fund - 9+ Hours of FUN! Click to watch: youtu.be/Oe2aq9fWF08', 'The command speedrun needs to be updated i think', 'you have only one minute in the daily game', 'what is this picture of Nepo LUL', 'Doing candidates prep against 400 player?', '!speedrun', \"@Cqzen This is the Botez Gambit Speedrun! Inspired by a classic meme, Hikaru'll be sacrificing his queen every game. This is an official Chess.com Speedrun Account, so all points from this account are refunded at the end!\", 'smurf smh', 'lemme help with that goal one sec', '!shoes', 'if you lost, we buying the apple shoes', \"@19crimson This is the Botez Gambit Speedrun! Inspired by a classic meme, Hikaru'll be sacrificing his queen every game. This is an official Chess.com Speedrun Account, so all points from this account are refunded at the end!\", 'Why does the picture of Duda look like a completely different person', 'think !speedrun command needs an update', 'DUDA IS THE MANnnnnnnnnnnnnnnnnnnnnnnnnnn', 'can someone explain the speedrun pls?', 'are you friends with Duda?', 'twitch is fun I like it now I understand', 'What are you doing?', 'how does playing <1000 rated players make any sense for you?', 'KEKW', 'We all start somewhere', 'KEKW', 'plupS', 'whose top form has the best chance against Magnus in a match?', 'PauseChamp', 'LEAKED LEAKED LEAKED', '\\\\ B) / @Anonymous with 10 mystery gift subs! \\\\ B) /', 'are you focusing more on tactics and game plan here?', ':00 yepp', 'using world championship prep on a 550 player', 'noone can defeat the magneto', 'Pog', '!speedrun', \"@outyk This is the Botez Gambit Speedrun! Inspired by a classic meme, Hikaru'll be sacrificing his queen every game. This is an official Chess.com Speedrun Account, so all points from this account are refunded at the end!\", 'Pog', 'leakaru', 'LICKED', 'LMAO leaked', 'was that first win of the speedrun?', 'mitchr6HYPE', '12 thousand mutant mosquitoes are being released in FLORIDA !', 'hasnt ding in the candiates if he isnt then who has chances rather than ding to qualify for candidates', '@AnAnonymousGifter Thanks for the gift sub!', 'Y isn?셳 Magnus Carlson going to be in the event', 'LOL', 'So what?셲 the focus of this speed run @gmhikaru?', '5Head', 'fabiano gonna prepare 24 moves against the bongcloud', 'mine games', \"if you dont do botez gambit opening - there are chances you'll do it in the candidates, right? @GMHikaru\", 'Thank you for the subscription Anonymous', 'Fabiano Marijuana, his brain already rotten Kappa', 'today i drew with agm', '@gmhikaru Caruana creating ?쐒andom hikaru bs??file in chessbase right now', '@bensbr0 LUL', 'psychological warfare before candidates with multiple speedruns..5head move', 'i meant youngest ever', \"@ngheeeeee Currently playing on spotify: The Beatles - Sgt. Pepper's Lonely Hearts Club Band - Remix\", 'Is this sub games?', 'whats the speedrun', 'love the username... Kappa', \"@martossss This is the Botez Gambit Speedrun! Inspired by a classic meme, Hikaru'll be sacrificing his queen every game. This is an official Chess.com Speedrun Account, so all points from this account are refunded at the end!\", '!sppedrun', '!speedrun', 'alirez', \"When you've got enough talent that you can afk 15 seconds in a blitz match to fix your stream\", 'what is the theme', 'Do you think it would make sense to expand the candidates field? Would have loved to see MVL, Wesley, Lebron...', 'a mod needs to change the !speedrun command?', '@gmhikaru do you know if you have black or white in the first round vs fabi?', 'Gift 50 subs if doesn?셳 win 50-0?', 'How did the pineapple theme start?', 'Click here for MASSIVE Elo Boost - also to sub to Hikaru on Youtube! https://www.youtube.com/c/gmhikaru?sub_confirmation=1', \"@11them11 New sub goal! If we hit 8000 subs before The Candidates, Hikaru'll wear these ?뜊?몶 https://www.fillingpieces.com/collections/men-new-arrivals-footwear/products/loafer-ananas-black ?뵦 We're at 6689\", 'you are gonna crach fabiano. he will be shaking of fear', 'you got this', \"@aadi____23 This is the Botez Gambit Speedrun! Inspired by a classic meme, Hikaru'll be sacrificing his queen every game. This is an official Chess.com Speedrun Account, so all points from this account are refunded at the end!\", 'Is it wise to \"try hard\" with black? or just be solid.', 'this country rule seems like an archaic rule when chess was a political thing', 'This is not Botez gambit what is this?', 'so P2 should be fabiano in the box', \"hope you're gonna beat fabiano\", 'Beeline draw game 1', 'If levy will became gm whole world will think its fake', 'when you find those good moves, do you find them consiusly (mind processing) or unconsciously (cache memory)', 'new speedrun!', 'Is it boring and playing this lowrated?', \"@Mr__Knister New sub goal! If we hit 8000 subs before The Candidates, Hikaru'll wear these ?뜊?몶 https://www.fillingpieces.com/collections/men-new-arrivals-footwear/products/loafer-ananas-black ?뵦 We're at 6689\", 'bobby was too saucy for them', '!shoes', \"@MatejDugi This is the Botez Gambit Speedrun! Inspired by a classic meme, Hikaru'll be sacrificing his queen every game. This is an official Chess.com Speedrun Account, so all points from this account are refunded at the end!\", 'LUL', '#ad', 'ads nakamuraModLove', '!speedrun', 'what ads Kappa', 'Guys whats the speedrun', 'I do not get ads', 'Do you feel like you appreciate your first US Championship win??? Or were yu a little too young???', \"guys what's the speedrun\", 'how many times have you played in the candidates @GMHikaru ?', 'do you think Ding will make it into the candidates?', 'this player has done really well for a 520', '@mattishere31 once, 2016', 'Why do I always see Wendy?셲 ads when watching your vids?', 'GG', 'what is the schedule for today?', '@scrubidiot64732 see this: https://ratings.fide.com/profile/2039877', 'will you make a fruit cake if you win candied dates?', 'what is this speedrun? @gmhikaru', 'the grob !', '!shoes', 'netherlands CiGrip', \"@ngheeeeee well somehow I don't get any tho\", '@ngheeeeee it does', 'Van who?', 'this is theory PepoG', 'JOHAN cruyf', 'Cruyff was a Dutch football player', 'kekw', 'american?', 'JOHAN CRUYFF', '@gmhikaru Bro you are hilarious without trying.', 'Cruijff = KREWFSHG', 'KKona freedom language', 'I?셶e been trying to play chess recently (700), how do I git gud', 'se pronuncia Queso', 'KKona my pronounciation is right', 'this poor player only can move the queen?!', '!shoes', 'KEKW', '!sppedrun', 'Hans?', 'GAMBA KEKW', \"what is today's schedule?\", '!.e3 a6 new chess meta chat nakamura5Head', 'is theory overated for begginers?', 'ANY DOUBTERS?', \"what's the speedrun format?\", '@VIPbiscuit KEKW', '-25 LULW', '!speedrun', 'nice catch :O', 'DOUBTER YEP', \"@redroyalcucumber New sub goal! If we hit 8000 subs before The Candidates, Hikaru'll wear these ?뜊?몶 https://www.fillingpieces.com/collections/men-new-arrivals-footwear/products/loafer-ananas-black ?뵦 We're at 6689\", 'you look tired, getting enough sleep?', 'modcheck? what is speeddun?', 'To tip GM Hikaru and support the growth of this channel use this link https://streamlabs.com/gmhikaru - TTS is $3 and up.', '@Radar_cs thank you so much! Now I get it', '2500 will 100% be lost', 'whats special about this speedrun gmhikaru', 'What is the speedrun?', 'is it possible to make it 2700+? on botez gambit?', 'RUY LOPEZ CONFIRMED', 'Prince valium?', 'pepsi', 'Kreygasm ;)', 'what is that hikaru?', 'Hot chocolate?', 'Rum', 'COFFEE', 'The Italian is on the board.', 'are you play tactical tasks?', 'What?셲 the theme of this speed run?', 'Cobain?', 'Back hurts because of max deadlifts?', 'coffee mjinxShake', 'coffee', 'Speedrun!', 'kingdom cm Kappa', 'what rating should you start studying openings theory?', '!speedrun', '@ChaeDoc You are baiting', 'why u r playing so bold against 500 they will definately report u if u play like this', 'KEKW', 'Do you do yoga to take care of your body? Its important to the candidates de physical fit?', 'dutch leaked YEP', 'no queen sacrifice?', 'LOL', 'your grandparents used to drink green tea only', 'Hikaru are you investing in the Rare Fish market?', 'Kapp', 'Kappa', 'Kappa', '@GMHikaru how much is your bench max?', '@GMHikaru What is this speedrun?', 'noted KEKW', '!speedrun', 'Kappa', 'Kappa', 'Bro this smash bros setup is SICK!', 'Kapp', 'Hikaru you tricky man KEKW', \"@ChaeDoc what's the theme of this speedrun? He's just playing openings he wont play in the candidates?\", 'Hikaru, your editors are very creative. They put a lot of effort on details. Hope they are well rewarded.', 'Kappa', 'Right? Kapp', 'LEAKED!', 'Leaked!!', 'Kappa', \"he's going to play the Dutch in the candidates?\", '@bud961 basically', 'the M defence', 'DUTCH CONFIRMED', \"@mogzybagues This is the Botez Gambit Speedrun! Inspired by a classic meme, Hikaru'll be sacrificing his queen every game. This is an official Chess.com Speedrun Account, so all points from this account are refunded at the end!\", 'Jebaited easy bait', 'stonewall', 'McDonalds M Pog', 'Click here for MASSIVE Elo Boost - also to sub to Hikaru on Youtube! https://www.youtube.com/c/gmhikaru?sub_confirmation=1', 'M', 'HYPERPOGO', '!speedrun', 'nan', '@spieshideout can you fix the !speedrun command?', 'REVOLUTIONISED', 'Who the heck is Hikaru Nakamura?', 'WH OMEGALUL', 'HYPERPOGO', 'this top 11 guy KEKW', 'You should have him on stream Kapp', 'HYPERPOGO', 'gg', 'who is that guy', 'Hikaru Trolling the Chess World. Classic', \"Hikaru's sense of humor is absolutely top notch, change my mind\", 'nakamuraPout nakamuraPout nakamuraPout nakamuraPout nakamuraPout nakamuraPout nakamuraPout nakamuraPout nakamuraPout nakamuraPout nakamuraPout nakamuraPout nakamuraWeirdChamp nakamuraWeirdChamp nakamuraWeirdChamp nakamuraWeirdChamp nakamuraWeirdChamp nakamuraWeirdChamp nakamuraWeirdChamp nakamuraWeirdChamp nakamuraWeirdChamp nakamuraWeirdChamp nakamuraWeirdChamp nakamuraWeirdChamp nakamuraWeirdChamp nakamuraWeirdChamp nakamuraWeirdChamp nakamuraWeirdChamp nakamuraWeirdChamp nakamuraWeirdChamp na', 'what is this stonewall dutch LUL', 'XD', '@gmhikaru Jeffrey Xiong having nightmarws', 'fabi is cool PogU', 'This is quite an aggressive 500', \"@lucasgronki This is the Botez Gambit Speedrun! Inspired by a classic meme, Hikaru'll be sacrificing his queen every game. This is an official Chess.com Speedrun Account, so all points from this account are refunded at the end!\", 'Irish Gambit?', '!shoes', \"@Tekaa1 New sub goal! If we hit 8000 subs before The Candidates, Hikaru'll wear these ?뜊?몶 https://www.fillingpieces.com/collections/men-new-arrivals-footwear/products/loafer-ananas-black ?뵦 We're at 6689\", 'When is titled Tuesday starting?', \"Check out the OTB/IRL chess Hikaru played at the @coffeechess channel's players in California before leaving: https://youtube.com/playlist?list=PL4KCWZ5Ti2H6aOessfgMl3O5bpsnuHYxm\", 'modCheck  modCheck  modCheck', 'whats ur opinion on nvidias stock', '!speedrun', \"@kwesiquest This is the Botez Gambit Speedrun! Inspired by a classic meme, Hikaru'll be sacrificing his queen every game. This is an official Chess.com Speedrun Account, so all points from this account are refunded at the end!\", 'PowerUpL nakamuraMonkaS PowerUpR', 'tilted tues :D', 'Can you change the color and type of board plz', 'PepeLaugh', 'right??', 'will u play a scandi?', 'PepeLaugh 1.b3', 'when will see Queens gambit declined', '!shoes', \"@jungergottnr1 New sub goal! If we hit 8000 subs before The Candidates, Hikaru'll wear these ?뜊?몶 https://www.fillingpieces.com/collections/men-new-arrivals-footwear/products/loafer-ananas-black ?뵦 We're at 6689\", '!shoes', \"how many rematches do you do against someone you've been losing to until you give up\", 'he is playing jedi mind tricks, these are all the openings he intend to play on candidates LUL', 'im in range to queue into you :D', 'well see queens indiam', '@GMHikaru add sponsors too to the top of the board', '@GMHikaru you think you will win candidates?', '@chickenman_the_god what is wrong with the board?', 'human with a computer level skills!!!!!!', 'yellow', 'red', 'What are the rules of the speedrun?', 'opponent is reporting him for stalling rn', 'Dutch Oven defnse YEP', 'Really good YEP', 'Same as clock color green', 'BRAND NEW MERCH DESIGNS!! Limited Quantities! https://merch.streamlabs.com/gmhikaru/merch', 'yella KKona', '!speedrun', 'hoi hikaru~', 'yellow is the warmest color', 'He wants everything, not just the rook :3', 'pineapple colour', '@Creamsicle whats the speedrun about', 'guys hikaru was on a terrible tilt yesterday and dropped to 600 elo', \"@ChaeDoc let's pretend i knew that\", 'benoni maybe Kappa', 'Why does he only play black', 'Benko PepeLaugh', 'PepeLaugh', 'speedrun?', 'LUL', 'benko gambit in the candidates confirmed', '!shoes', \"@awayne007 New sub goal! If we hit 8000 subs before The Candidates, Hikaru'll wear these ?뜊?몶 https://www.fillingpieces.com/collections/men-new-arrivals-footwear/products/loafer-ananas-black ?뵦 We're at 6689\", '!speedrun', \"@gufifeg This is the Botez Gambit Speedrun! Inspired by a classic meme, Hikaru'll be sacrificing his queen every game. This is an official Chess.com Speedrun Account, so all points from this account are refunded at the end!\", '@drjammy99 I hated him in the Sonic the Hedgehog games', 'Pog he will play the benoni', 'Woah WOah Woah be careful', 'the smokescreens Kreygasm', '559 rating?! woah', '!song', '@gmhikaru do you think James canty will make GM?', 'what is this Speedrun @gmhikaru', 'Lmao GRUNFELD CONFIRMED', 'What your opening strategy in competition?', 'you just revealed an opening prep for the candidates', \"@happybisha It's a regular 500-3000, however he has to gift 500 subs to the community if he uses any of the openings he plays in this speedrun\", '!shoes', '!shoes', \"@storm2709 New sub goal! If we hit 8000 subs before The Candidates, Hikaru'll wear these ?뜊?몶 https://www.fillingpieces.com/collections/men-new-arrivals-footwear/products/loafer-ananas-black ?뵦 We're at 6689\", 'diagonal ? XD', 'I hope you are only playing main line opening prep in this speedrun', 'what is this speedrun chat?', 'we opened the a-diagonal SeemsGood', 'who made the smash bros style picture above your head?', '@samupek +', 'That is big info, this gambit is great', '@rubickerG he is speedrunning his candidate preparation', 'issa joke FailFish', 'mouse slip is something you need to be careful of', 'I was being sarcastic lol', 'leanking prep = everything but benoni', 'Are you excited to see Ding in candidates?', 'YEP This speedrun is just entirely candidates prep', 'nah chat just being silly', 'Will you play evans gambit? Prayge', \"saying you're not going to play these openings to stop your opponents from prepping for them 5Head\", 'benko is my favourite opening', 'GM level trolling confirmed Kappa', 'SeemsGood', 'many layers of psychology here.', 'Click here for MASSIVE Elo Boost - also to sub to Hikaru on Youtube! https://www.youtube.com/c/gmhikaru?sub_confirmation=1', 'chess psy ops in full motion', '!song', 'Sports Psychologist?', 'Hikaru is planning at depth 30', 'Is your team settled?', '@Nocturnedd ding', 'what is this Speedrun @gmhikaru', '!shoes', \"@rg_gupta This is the Botez Gambit Speedrun! Inspired by a classic meme, Hikaru'll be sacrificing his queen every game. This is an official Chess.com Speedrun Account, so all points from this account are refunded at the end!\", 'did you see I saw the devil? @GMHikaru', \"@kaynan_l It's a race from 500-3000, however Hikaru will have to gift 500 subs to the community if he uses any of the openings he plays in this speedrun\", '*FABIANO GETS CONFUSED*', 'how many subs is a win in the candidates worth thene? @GMHikaru', 'will you reveal the team after the candidates is over?', '@GMHikaru did you read the article about nigel short in the guardian?', 'How to participate or do I have to streamsnipe', 'forsencd', 'who is they? china?', 'do you like being Hikaru? @gmhikaru', '@thetawelle modCheck', '\"ding is cheating because he\\'s beating people 200 elo below him\" Pepega', 'he called us stupid chat', '!board', '@GMHikaru who is the least favorite for the Candidates tournament?', 'D:', \"Not cheating it's a legal loophole\", \"@fredjhs Hikaru's regular board is Icy Sea and the pieces are Glass.\", \"It's still legit games, he's just not playing top players\", '!shoes', '@gmhikaru how do you intend to prep if you?셱e not going to do a training camp?', '@GMHikaru Will you play the bongcloud', 'right click inspect and delete in code', 'We are the stupid chat ????', 'what is this \"P1\"?', '!speedrun', \"@delra1 This is the Botez Gambit Speedrun! Inspired by a classic meme, Hikaru'll be sacrificing his queen every game. This is an official Chess.com Speedrun Account, so all points from this account are refunded at the end!\", \"he's making lots of draws it's not cheating Poor Ding\", 'How many subs is a win in the candidates worth @GMHikaru ? :)', \"What's your opening strategy in competition?\", 'YEP', \"woah, what's this speedrun\", 'He fought strong players', 'Why not?', 'play orangutan', 'what kind of speedrun is this?', \"It wouldn't be a respected ranking\", 'Why do you already have a bunch of losses on this account?', 'Bongcloud in candidates comfirmed? @GMHikaru', '!speedrun', \"@the_cycl0ps This is the Botez Gambit Speedrun! Inspired by a classic meme, Hikaru'll be sacrificing his queen every game. This is an official Chess.com Speedrun Account, so all points from this account are refunded at the end!\", \"It's bad taste chat\", '!shoes', 'p', '@creamsicle what is this Speedrun', 'I am pregnant with pineapple', 'does fide has a problem with the ding ting', '@Creamsicle can i post a link?', '@Creamsicle we need a speedrun command i think', 'The Grob is actually the only opening that looses by force in engine selfplay', 'Can you help me get a higher rank in Chess', 'It?셲 like masterbating on an airplane. No illegal, but frowned upon', 'Subs subs and more subs', 'he hasn?셳 played botez gambit yet pog', '@GMHikaru Did Mark The Duck teach you the theory of the Grob?', '100% they are.', 'https://www.theguardian.com/world/2015/apr/20/nigel-short-uk-grandmaster-men-hardwired-better-chess-players-women', 'They might set someone', '@GMHikaru Bongcloud time baby yes sir lets go', 'hikaru is 11th KEKW', '@OneOfTheSmurfs yeah sure on it', 'reveal your team like magnus', 'Thanks for subscribing for 4 months, @skillbo_bagginzs HeyGuys', \"who's your second?\", '@Radar_cs Thanks!', 'EZ', 'casually crushed every1', 'PogO', 'They would just look at the games on chesscom ..why would they watch the stream?', 'I want to play you so that I can get a higher rank', '@GMHikaru king walk', 'PogO', 'PogO crushed the field', 'who makes gm first levy eric or james? this is assuming you get the wc title', 'Very true but artimez?  Is not hikaru ?쁻', \"Nah it shouldn't be top ten\", 'Use queen gambit in low ELO xqcHead', '!candidates', '@GMHikaru Who do you expect to struggle most at the Candidates?', 'is there anything special about this speedrun?', 'the fact is that the top 10 are not really top 10', \"@g00ch_tv New sub goal! If we hit 8000 subs before The Candidates, Hikaru'll wear these ?뜊?몶 https://www.fillingpieces.com/collections/men-new-arrivals-footwear/products/loafer-ananas-black ?뵦 We're at 6689\", 'botez gambit next game>?', '@prydz_fan thx', 'is hikaru just playing normal vs 600 rating....?', 'Hey hikaru, any chance you could play a french?', 'invites should be based on tweet ratio', 'hooooows', 'never... maybe now', 'Hikaru doesn?셳 have time for a dog', 'Cats > Dogs', 'oh', 'so is the botez gambit speedrun over? It was so good', 'They need to do it like college football.', 'cat >>>>>>> dog', 'good morning hikaru and chess fans1', 'nah am saying get good', 'Do you play on lichess?  Are the ratings on that site inflated compared to chess.com?', 'TRUE', 'Bring the dog', 'he hasn?셳 played botez gambit yet it?셲 official prep', '@GMHikaru Do you expect Rapport to play wild openings in the Candidates?', 'Dogs >>>>>>>>>>>>> cats', 'My cats are the same as a dog but I can travel easier', 'Bring the dog to tournament', 'shud just go FGC style, open tournament with pools and double elimination. Kappa Kappa', '!shoes', \"@jomandterrys New sub goal! If we hit 8000 subs before The Candidates, Hikaru'll wear these ?뜊?몶 https://www.fillingpieces.com/collections/men-new-arrivals-footwear/products/loafer-ananas-black ?뵦 We're at 6689\", 'what about a bird', 'What breed?', 'is hikaru single?', 'Same lol', \"what's this speedrun about?\", 'JUST GET A RACOON, ACTS LIKE A CAT LOOKS LIKE A DOG 4Head', 'Play the DOG OPENING', 'New Speedrun!', 'I started watching Billions because of @gmhikaru and finally saw the episode you appeared on, I almost forgot why I started watching the show', 'kekw', 'a cat dissatisfied is better than a dog satisfied', 'you did Nepo dirty with that photo.', 'Why do you have 25 losses on this account?', 'who rents a dog KEKW', '?됥굥??ad4f6a8e-5142-4102-a51b-efbcab718bd0', 'r/AntiWork LUL', 'wdym candidates prep speedrun :)', 'Moderate r/antiwork while youre at it :)', 'holy from king of queens LUL', '!speedrun', 'Who do you think will play the most aggressive chess at the Candidates?', 'this smash layout is awesome whoever came up with that', 'who do you think is the favorite for the candidates?', '@deeznutz69fart i mean a dog  breed from japan? since hes from japan', \"@GMHikaru Why don't they just have a huge elimination bracket with the top 64. Then just do a round robin of the top  8?\", 'How does this speedrun work?', 'what is this Speedrun', \"I'll let you walk my goats\", 'hello', '!shoes', 'HYPERPOGO PREMOVES', 'speedrun this is what', 'Hikaru get good , lil doggy', '@GMHikaru Play the Englund', '@Crog15s9 Practice.  Lots of practice.', 'i literally have no clue how this speedrun works ive just joined streamed', '!speedrun', 'His opponents get the points back. Not sandbagging.', 'nice one', 'How can I participate in the speedrun', 'Are you the top rated overall player on chess.com?', \"I don't get the name. Explain please\", 'what rooks?', '!shoes', 'watermelon juice man guy get good', 'what is this PogChamp PogChamp', 'garth rooks KEKW', \"he's Got openings in LOW places\", 'i heard there was a COCKA IN GAMBIT', 'What do you think about Magnus saying he will only play Alireza????', \"@mkayybob This is the Botez Gambit Speedrun! Inspired by a classic meme, Hikaru'll be sacrificing his queen every game. This is an official Chess.com Speedrun Account, so all points from this account are refunded at the end!\", '@GMHikaru Who plays the most aggressive chess from the candidates?', '@LethalBacon46 play in the pool and hope', \"Memers, fan art fans, makers of all things silly, please go to https://www.reddit.com/r/HikaruNakamura/ and submit and we'll have Hikaru do reddit recaps when we have enough. Thanks!!\", '!speedrun', \"garth ain't on spotify Sadge\", '!shoes', \"@nulle_dud New sub goal! If we hit 8000 subs before The Candidates, Hikaru'll wear these ?뜊?몶 https://www.fillingpieces.com/collections/men-new-arrivals-footwear/products/loafer-ananas-black ?뵦 We're at 6689\", '@Winterminator with the Prime sub! CoolCat', '@I__kugelblitz__I no bishop protects', 'made mistake with rookies ?ㄳ', 'garth rooks is actually fabi', 'gargle on gambit', 'will hikaru be playing both tilted tuesdays?', 'UNBLOCK TOM GARTH!', 'i had no clue budapest was solid enough :O', 'New speedrun? Pog Is this real life?! Pog', 'you had checkmate in 34', 'some interesting opening', 'time to turn up', '@GMHikaru can we fix the boxes so they align?', 'is this playlist dmca ok? i want to start streaming and im looking for music.', 'Rip Beatles', 'Who would name their kid barf?', \"@kaloyanbogoslovov This is the Botez Gambit Speedrun! Inspired by a classic meme, Hikaru'll be sacrificing his queen every game. This is an official Chess.com Speedrun Account, so all points from this account are refunded at the end!\", 'Play ?쏧 don?셳 need your rockin chair??9605983e-d337-4bab-ba85-ed1d0aac766f', '!speedrun', 'catJAM', \"@mylu__ New sub goal! If we hit 8000 subs before The Candidates, Hikaru'll wear these ?뜊?몶 https://www.fillingpieces.com/collections/men-new-arrivals-footwear/products/loafer-ananas-black ?뵦 We're at 6690\", \"g3 doesn't work here?\", \"I've got rooks in low places\", 'do you think danya is a good coach?', 'KkonaW', 'DANKIES', \"play the O'neil gambit e4 b5\", 'smelting iron ore', 'whats the speedrun', 'Should wear a cowboy hat.', '@gmhikaru what are your thoughts on Magnus saying he will only play Alireza??', 'can you do e4/e5 speedrun', 'oasis is a famous restaurant in  austin', 'did g3 not work their for your oppenent?', 'one of the redneck anthems, this song. blehhh', 'KKona song', 'eww', 'D:', 'me too', 'my boy KKona', 'KKona', 'Do you think you need to be an extrovert to be a streamer?', 'We love country', 'LUL', '!spedrun', '-2 respect', 'Kkona', 'LA days long gone, HIkaru now full Florida man again', 'KKona My guy', 'you look like it', '@gmhikaru can you play the bongcloud in this? Or are you saving it for the candidates?', 'country is pog', 'this is a cover. not garth brooks', 'respect = lost', 'viewers immediately drop from 9,000 to 7,000', 'Love country music.', 'gained respect', 'mad respect', 'country is great', 'It is a great genre', 'i love country music', 'when he was younger country music was just called music', 'KKona', 'bdc12eca-a578-4167-9252-982b0c9f6e46', 'Dear God by Avenged sevenfold', '90s Country is S tier', 'I lost', 'What respect', 'WHY U SACKED ROOK', '!speedrun', '?쏷here are on', 'lose respect? Are you serious?????', 'i only listen to 60s-70s country', 'pop figure', 'i would not have guessed you listened to country hahaha', 'can you do e4/e5 speedrun', 'KEKW  why would you admit that', '@hikarufanboy42064 nothing but meatball subs on this channel', '!speedrun', \"@AlyoshaFyodorovitch This is the Candidates Speedrun! Hikaru'll be playing a bunch of offbeat openings to diversify his prep, if any of the openings he plays here get used at The Candidates, he'll donate 500 subs to chat!\", '@burkmd Song name please', 'KKona THATS OUR BOY', 'nothing wrong about country music', 'I do YEP', 'You are her to entertain us, not ideas.', 'the people at coffeechess respect you :)', '\"Three chords and the truth\" Hikaru', 'cant get no respect', 'i  remeber hikaru once started laughing after someone brought cochrane gambit and every started calling it cok in gambit', 'you are highly respected. So is country music', 'mmm publix', 'PogO', 'Hahaha nice SOLD', 'PogO', 'Garth Rooks married Bishop Yearwood', 'Do you stream everyday??', '!shoes', 'i love country ?렧']\n",
      "\n"
     ]
    }
   ],
   "source": [
    "str_ = df_['message'].apply(str).values\n",
    "\n",
    "from sentence_transformers import SentenceTransformer\n",
    "from sklearn.cluster import KMeans\n",
    "\n",
    "num_clusters = 5\n",
    "clustering_model = KMeans(n_clusters=num_clusters,)\n",
    "clustering_model.fit(encodes_[10000:12000])\n",
    "cluster_assignment = clustering_model.labels_\n",
    "\n",
    "clustered_sentences = [[] for i in range(num_clusters)]\n",
    "for sentence_id, cluster_id in enumerate(cluster_assignment):\n",
    "    clustered_sentences[cluster_id].append(str_[sentence_id])\n",
    "\n",
    "for i, cluster in enumerate(clustered_sentences):\n",
    "    print(\"Cluster \", i+1)\n",
    "    print(cluster)\n",
    "    print(\"\")"
   ]
  },
  {
   "cell_type": "code",
   "execution_count": 56,
   "id": "0b694f1e-26e6-44bf-9362-ac1061787750",
   "metadata": {},
   "outputs": [
    {
     "name": "stdout",
     "output_type": "stream",
     "text": [
      "Gang gang\n",
      "good morning\n",
      "i want to make friend with someone!\n",
      "8:51\n",
      "Poop\n",
      "Click here for MASSIVE Elo Boost - also to sub to Hikaru on Youtube! https://www.youtube.com/c/gmhikaru?sub_confirmation=1\n",
      "Good morning all from Toronto!\n",
      "@pataricky He's not at his computer yet would be my guess\n",
      "ResidentSleeper\n",
      "@pataricky link your twitch account to your amazon prime account\n",
      "@radar_cs  okay thanks for letting me know\n",
      "Good morning\n",
      "MUTEDddddddddddddddddd\n",
      "Pog wtf was that\n",
      "BOXerrrrrrrrrrrr\n",
      "I'm gonna subscribe\n",
      "Pog\n",
      "Not playing e4 at all lepNOTED\n",
      "!speedrun\n",
      "!speedrun\n",
      "then the rest of the openings that you wouldn't played would result to your opponent preparing for the rest, no?\n",
      "yup\n",
      "@gmhikaru do you prefer Rapport with long or short hair?\n",
      "Polish Speed Run?\n",
      "i like the reti for white but im struggling for finding a good opening for black. im hoping to be inspired in this stream\n",
      "speedrun?\n",
      "@milkymooose morning\n",
      "caro kann noooo\n",
      "...\n",
      "is Na6 suppose to be bad on move 2\n",
      "@unknownchessp1ayer This is the Botez Gambit Speedrun! Inspired by a classic meme, Hikaru'll be sacrificing his queen every game. This is an official Chess.com Speedrun Account, so all points from this account are refunded at the end!\n",
      "monkaS books ?\n",
      "Click here for MASSIVE Elo Boost - also to sub to Hikaru on Youtube! https://www.youtube.com/c/gmhikaru?sub_confirmation=1\n",
      "This was played in the game Nakamura vs Wang Yue\n",
      "I?셫 surprised the name ?쏷heCandidate??isn?셳 taken already lol\n",
      "imagine knowing what books are LULW\n",
      "!speedrun\n",
      "pog\n",
      "KEKW\n",
      "oh im just stupid\n",
      "KEKW\n",
      "KEKW\n",
      "today i drew with agm\n",
      "@ngheeeeee Currently playing on spotify: The Beatles - Sgt. Pepper's Lonely Hearts Club Band - Remix\n",
      "!speedrun\n",
      "Is it wise to \"try hard\" with black? or just be solid.\n",
      "how do i stop the ads?\n",
      "ads nakamuraModLove\n",
      "hikaru do you think chess will get an update\n",
      "@croestt New sub goal! If we hit 8000 subs before The Candidates, Hikaru'll wear these ?뜊?몶 https://www.fillingpieces.com/collections/men-new-arrivals-footwear/products/loafer-ananas-black ?뵦 We're at 6689\n",
      "Qh5 LUL\n",
      "Van who?\n",
      "I?셶e been trying to play chess recently (700), how do I git gud\n",
      "!shoes\n",
      "someone please update the speedrun command\n",
      "@Ephelia0 This is the Botez Gambit Speedrun! Inspired by a classic meme, Hikaru'll be sacrificing his queen every game. This is an official Chess.com Speedrun Account, so all points from this account are refunded at the end!\n",
      "Hikaru, your editors are very creative. They put a lot of effort on details. Hope they are well rewarded.\n",
      "right???\n",
      "McDonalds M Pog\n",
      "KEKW\n",
      "I've heard of that guy before\n",
      "1 guy\n",
      "nakamuraPout nakamuraPout nakamuraPout nakamuraPout nakamuraPout nakamuraPout nakamuraPout nakamuraPout nakamuraPout nakamuraPout nakamuraPout nakamuraPout nakamuraWeirdChamp nakamuraWeirdChamp nakamuraWeirdChamp nakamuraWeirdChamp nakamuraWeirdChamp nakamuraWeirdChamp nakamuraWeirdChamp nakamuraWeirdChamp nakamuraWeirdChamp nakamuraWeirdChamp nakamuraWeirdChamp nakamuraWeirdChamp nakamuraWeirdChamp nakamuraWeirdChamp nakamuraWeirdChamp nakamuraWeirdChamp nakamuraWeirdChamp nakamuraWeirdChamp na\n",
      "When is titled Tuesday starting?\n",
      "@chickenman_the_god what is wrong with the board?\n",
      "How do I participate\n",
      "yellow is the warmest color\n",
      "I like this color, I play with this one\n",
      "He wants everything, not just the rook :3\n",
      "you forgot to mark the next 300 games as wins\n",
      "Hikaru, the boomer, has finally gotten the latest emote extension from 7tv. Go to https://7tv.app/ and get the extension for chrome, brave, firefox, chatterino, mobile etc for yourself and play with the new emotes!\n",
      "what is this Speedrun @gmhikaru\n",
      "issa joke FailFish\n",
      "isnt the Benko close to lost at super GM level?\n",
      "someone please tell me what this Speedrun is\n",
      "if hes one of the best, which he is, he should be there. shouldnt be punished because his country was more conservative in their COVID response\n",
      "How to challenge Hikaru\n",
      "he's making lots of draws it's not cheating Poor Ding\n",
      "What's your opening strategy in competition?\n",
      "streaming 6hrs a day and playing 500's to prep for the candidates. Garychess would be so proud of you.\n",
      "what's this speedrun about???\n",
      "@11shawn97 I was wondering the same thing\n",
      "What's the difference between what Ding is doing and what MAgnus could do??? weird\n",
      "I am pregnant with pineapple\n",
      "The Grob is actually the only opening that looses by force in engine selfplay\n",
      "!Speedrun\n",
      "@GMHikaru Did Mark The Duck teach you the theory of the Grob?\n",
      "https://www.theguardian.com/world/2015/apr/20/nigel-short-uk-grandmaster-men-hardwired-better-chess-players-women\n",
      "reveal your team like magnus\n",
      "HYPERPOGO\n",
      "@Radar_cs Thanks!\n",
      "How much of your grand prix form do you attribute to your mental space and not caring so much?\n",
      "who makes gm first levy eric or james? this is assuming you get the wc title\n",
      "Cats > Dogs\n",
      "shud just go FGC style, open tournament with pools and double elimination. Kappa Kappa\n",
      "!shoes\n",
      "what about a bird\n",
      "I wanna get rolled!\n",
      "Dog walker for lady gaga monkaH\n",
      "!speedrun\n",
      "@kaloyanbogoslovov This is the Botez Gambit Speedrun! Inspired by a classic meme, Hikaru'll be sacrificing his queen every game. This is an official Chess.com Speedrun Account, so all points from this account are refunded at the end!\n",
      "can you do e4/e5 speedrun\n",
      "i still do KKona Clap\n",
      "Nice taste\n",
      "mad respect\n",
      "Marty Robbins?\n",
      "!shoes\n",
      "\n",
      "HIIIII\n",
      "@GMHikaru You have a hair on your right shoulder\n",
      "KEKW\n",
      "@Cqzen This is the Botez Gambit Speedrun! Inspired by a classic meme, Hikaru'll be sacrificing his queen every game. This is an official Chess.com Speedrun Account, so all points from this account are refunded at the end!\n",
      "Play ?쏧 don?셳 need your rockin chair??9605983e-d337-4bab-ba85-ed1d0aac766f\n",
      "who are you most scared of playin gin the candidates?\n",
      "KEKW\n",
      "KEKW\n",
      "this poor 512 lol\n",
      "!speedrun\n",
      "how is botez the new Speedrun ?\n",
      "can someone eli5 this speed run\n",
      "bruh\n",
      "kingdom cm Kappa\n",
      "nakamuraCmonMan\n",
      "OOOHH SPEEDRUNN\n",
      "whats a good dishonest way to make a living\n",
      "jarome gambit in candidates\n",
      "this country rule seems like an archaic rule when chess was a political thing\n",
      "CiGrip\n",
      "PogO revolutionized eh?\n",
      "!shoes\n",
      "It?셲 4.20pm somewhere\n",
      "Hello\n",
      "@kvasdasd New sub goal! If we hit 8000 subs before The Candidates, Hikaru'll wear these ?뜊?몶 https://www.fillingpieces.com/collections/men-new-arrivals-footwear/products/loafer-ananas-black ?뵦 We're at 6690\n",
      "oh\n",
      "hikaru playing mindgames with everyone\n",
      "@martossss This is the Botez Gambit Speedrun! Inspired by a classic meme, Hikaru'll be sacrificing his queen every game. This is an official Chess.com Speedrun Account, so all points from this account are refunded at the end!\n",
      "Never heard of him\n",
      "get stable internet + ad blcok and you should be good\n",
      "do you think if you win the candidates and become world champion it'd be one of the biggest chess achievements by anyone given how much time you still dedicate to streaming?\n",
      "se pronuncia Queso\n",
      "Why do you already have a bunch of losses on this account?\n",
      "Littlejohn's reaction when he logs into twitch and sees the new speedrun: nakamuraShock\n",
      "process of elimination Kappa\n",
      "@fxjuxdoe no\n",
      "Love country music.\n",
      "@gmhikaru what's the idea of this Speedrun\n",
      "i think you have the field shaking in their boots after the grand prix. You are their worst nightmare\n",
      "!shoes\n",
      "100% they are.\n",
      "PogO\n",
      "POG melee!\n",
      "Click here for MASSIVE Elo Boost - also to sub to Hikaru on Youtube! https://www.youtube.com/c/gmhikaru?sub_confirmation=1\n",
      "im trying to streamsnipe hehe\n",
      "I always listen to country CLAP\n",
      "2500 will 100% be lost\n",
      "the grob Kreygasm\n",
      "@flamgor New sub goal! If we hit 8000 subs before The Candidates, Hikaru'll wear these ?뜊?몶 https://www.fillingpieces.com/collections/men-new-arrivals-footwear/products/loafer-ananas-black ?뵦 We're at 6669\n",
      "h5\n",
      "\n",
      "Go with Grob's Attack please. BlessRNG\n",
      "netherlands CiGrip\n",
      "!subs\n",
      "!shoes\n",
      "why no bortnyk\n",
      "KEKW\n",
      "who is they? china?\n",
      "1b4 is stronger\n",
      "9 more games for Ding LETS'S GOOOOO\n",
      "uni100 uni100 uni100\n",
      "@prydz_fan thx\n",
      "@simmo777 New sub goal! If we hit 8000 subs before The Candidates, Hikaru'll wear these ?뜊?몶 https://www.fillingpieces.com/collections/men-new-arrivals-footwear/products/loafer-ananas-black ?뵦 We're at 6668\n",
      "tilted tues :D\n",
      "will you make a fruit cake if you win candied dates?\n",
      "!shoes\n",
      "@bombilla1024  haha nice\n",
      "doo da ratJAM\n",
      "KEKW\n",
      "Hikaru can code POG\n",
      "@GMHikaru who is the least favorite for the Candidates tournament?\n",
      "look at hikaru rating. first time my rating is higher than his Kappa\n",
      "@milkymooose doing well, not busy yet, hbu?\n",
      "modCheck\n",
      "D: WHY\n",
      "!board\n",
      "widepeepoHappy\n",
      "\n",
      "Yoooooo\n",
      "friend chicken\n",
      "My cats are the same as a dog but I can travel easier\n",
      "assistant to the manager, or assistant manager?\n",
      "what about a cat\n",
      "he normally does not play the London\n",
      "MODS\n",
      "what is this stonewall dutch LUL\n",
      "Hello just tuned in. Why is this called candidates prep speedrun?\n",
      "Hikapoleon!\n",
      "was this hikaru guy ever a world champion or is he just some noname?\n",
      "That's cool ngl\n",
      "Speedrun!\n",
      "!shoes\n",
      "what is special about this speedrun i dont understand\n",
      "XD\n",
      "@jungergottnr1 New sub goal! If we hit 8000 subs before The Candidates, Hikaru'll wear these ?뜊?몶 https://www.fillingpieces.com/collections/men-new-arrivals-footwear/products/loafer-ananas-black ?뵦 We're at 6689\n",
      "\n",
      "They need to do it like college football.\n",
      "@furkan200066 This is the Botez Gambit Speedrun! Inspired by a classic meme, Hikaru'll be sacrificing his queen every game. This is an official Chess.com Speedrun Account, so all points from this account are refunded at the end!\n",
      "nakamuraThinks nakamuraThinks nakamuraThinks\n",
      "Hikaru doesn?셳 have time for a dog\n",
      "Pun City!\n",
      "Poop\n",
      "Not I bang\n",
      "!shoes\n",
      "what's the difference if it's your 1st oponent or last?\n",
      "the grob !\n",
      "what's a good chess set to buy hikaru?\n",
      "you are gonna crach fabiano. he will be shaking of fear\n",
      "?쏷here are on\n",
      "@ChaeDoc Gottem suck on deez pookas\n",
      "watermelon juice man guy get good\n",
      "\n",
      "!candidates\n",
      "dadadadadada\n",
      "SeemsGood\n",
      "bro chess is so much more fun when you just flag people\n",
      "!speedrun\n",
      "Or will he Kapp\n",
      "what is noti\n",
      "Belgium\n",
      "Who the heck is Hikaru Nakamura?\n",
      "Jebaited easy bait\n",
      "good morning from snowwy Calgary\n",
      "HYPERPOGO\n",
      "3:51\n",
      "never... maybe now\n",
      "\n",
      "?ㅲ씍??8013f9de-3434-44ca-82c3-9bdf09846609\n",
      "Wooooo\n",
      "Normal pool?\n",
      "CAT = DOG\n",
      "!peedrun\n",
      "!shoes\n",
      "How?\n",
      "my friend needs help with his quiz\n",
      "Beginners play e5 f5\n",
      "nah am saying get good\n",
      "@yoyoiyoo Hikaru has been streaming for 15m 24s\n",
      "The Italian is on the board.\n",
      "do you have bro\n",
      "\n",
      "Hi hikaru\n",
      "whats the speedrun?\n",
      "<3\n",
      "I thought those were carrot shoes lmao\n",
      "How about a \"pocket\" doggy??? Could take it everywhere! LOL\n",
      "very solid 400 LOL\n",
      "play stafford gambit Kappa\n",
      "@giancarlo_2711 he plays random openings which he will not play at candidates\n",
      "Will you play evans gambit? Prayge\n",
      "is theory overated for begginers?\n",
      "@jomandterrys New sub goal! If we hit 8000 subs before The Candidates, Hikaru'll wear these ?뜊?몶 https://www.fillingpieces.com/collections/men-new-arrivals-footwear/products/loafer-ananas-black ?뵦 We're at 6689\n",
      "!speedrun\n",
      "@benedict_jojo Thank you, kind sir.\n",
      "\n",
      "559 rating?! woah\n",
      "Is your team settled?\n",
      "imagine following an opening recommended by a variety streamer @GMHikaru\n",
      "Plebs KEKW\n",
      "Russia forever cheating lol\n",
      "D: ur not gonna play benco in candidates?\n",
      "the people at coffeechess respect you :)\n",
      "LUL\n",
      "you are going to play benko in candidates lol\n",
      "bobby was too saucy for them\n",
      "0_0\n",
      "\n",
      "gj\n",
      "mind games OMEGALUL\n",
      "Finally, I?셫 here for a stream\n",
      "Pog\n",
      "ANY DOUBTERS?\n",
      "!shoes\n",
      "We all start somewhere\n",
      "KKona\n",
      "poor doggo\n",
      "@gmhikaru can you explain this Speedrun\n",
      "\n",
      "Hikaru verified meme lord\n",
      "love the username... Kappa\n",
      "lil doggy get good am saying\n",
      "garth rooks is actually fabi\n",
      "when will the last spot be given to a player?\n",
      "KKona\n",
      "\n",
      "!song\n",
      "HI GUYS do any of you know how to tell if its a false proposition\n",
      "we are pog\n",
      "play bongloud\n",
      "pls play qgd\n",
      "@mtn_dru @jobins30 nah\n",
      "\n",
      "Get the Purple Mattress\n",
      "Too long! (@theogopogo) (warning)\n",
      "@mattishere31 with 5 mystery gift subs! <3 <3\n",
      "actually true, crushed the field. much respect\n",
      "mods, pls fix the !speedrun command?\n",
      "Do you think you need to be an extrovert to be a streamer?\n",
      "\n",
      "he says no YEP\n",
      "!candidates\n",
      "I'm in Australia, good night\n",
      "yoo\n",
      "He'll never return\n",
      "Easy bait and switch.\n",
      "\n",
      "This is classic 500 play, I love it\n",
      "uBlock Origin should remove ads\n",
      "posture check\n",
      "@redroyalcucumber New sub goal! If we hit 8000 subs before The Candidates, Hikaru'll wear these ?뜊?몶 https://www.fillingpieces.com/collections/men-new-arrivals-footwear/products/loafer-ananas-black ?뵦 We're at 6689\n",
      "Is it time to revolutionise the Polish opening as well?\n",
      "the M defence\n",
      "\n",
      "black background behind the yellow font instead?\n",
      "TRUE\n",
      "BUDAPEST GAMBIT @GMHikaru\n",
      "!sppedrun\n",
      "you vs Caruana?\n",
      "\n",
      "Bro this smash bros setup is SICK!\n",
      "@GMHikaru  what is this speedrun about?\n",
      "LICKED\n",
      "Kappa\n",
      "!speedrun\n",
      "\n",
      "speedrun?\n",
      "That guy has the same name as you\n",
      "gifting subs to yourself is just moving money from one pocket to another right?\n",
      "@thetawelle This is the Botez Gambit Speedrun! Inspired by a classic meme, Hikaru'll be sacrificing his queen every game. This is an official Chess.com Speedrun Account, so all points from this account are refunded at the end!\n",
      "wink wink nudge nudge\n",
      "\n",
      "p1\n",
      "PowerUpL nakamuraMonkaS PowerUpR\n",
      "@gmhikaru do you think James canty will make GM?\n",
      "BRAND NEW MERCH DESIGNS!! Limited Quantities! https://merch.streamlabs.com/gmhikaru/merch\n",
      "@Kurtymckurt he wanted another mate i guess\n",
      "\n"
     ]
    }
   ],
   "source": [
    "\n",
    "\n",
    "for cluster_ in clusters_:\n",
    "    for each_ in cluster_:\n",
    "        print(df_['message'].apply(str).values[each_])\n",
    "    print()"
   ]
  },
  {
   "cell_type": "code",
   "execution_count": 50,
   "id": "932351b8-1b0e-40f3-b68e-f88b2babed10",
   "metadata": {},
   "outputs": [
    {
     "name": "stdout",
     "output_type": "stream",
     "text": [
      "0 dumbass.\n",
      "1 stupid boy.\n",
      "2 you die!\n",
      "3 I love you.\n",
      "4 I like you.\n",
      "5 I hate you.\n",
      "6 I am sorry.\n",
      "7 I apologize to you.\n",
      "8 I will kill you.\n",
      "9 lol\n",
      "10 hahahahaha\n",
      "11 hahahaha\n",
      "12 suck it!\n",
      "13 drink it.\n",
      "14 My name is T.\n",
      "15 I am T to you.\n"
     ]
    }
   ],
   "source": [
    "for idx_, str_ in enumerate(lst_str):\n",
    "    print(idx_,str_)"
   ]
  },
  {
   "cell_type": "code",
   "execution_count": 51,
   "id": "cea0baaa-cea4-40af-88ad-8b589e7b57fa",
   "metadata": {},
   "outputs": [
    {
     "data": {
      "text/plain": [
       "(16, 768)"
      ]
     },
     "execution_count": 51,
     "metadata": {},
     "output_type": "execute_result"
    }
   ],
   "source": [
    "encodes_.shape"
   ]
  },
  {
   "cell_type": "code",
   "execution_count": null,
   "id": "220af241-916e-410b-86c0-b3ccf750310d",
   "metadata": {},
   "outputs": [],
   "source": []
  }
 ],
 "metadata": {
  "kernelspec": {
   "display_name": "Python 3 (ipykernel)",
   "language": "python",
   "name": "python3"
  },
  "language_info": {
   "codemirror_mode": {
    "name": "ipython",
    "version": 3
   },
   "file_extension": ".py",
   "mimetype": "text/x-python",
   "name": "python",
   "nbconvert_exporter": "python",
   "pygments_lexer": "ipython3",
   "version": "3.8.10"
  },
  "widgets": {
   "application/vnd.jupyter.widget-state+json": {
    "state": {
     "064a2e03edc74f83a23a978a5d432c82": {
      "model_module": "@jupyter-widgets/base",
      "model_module_version": "1.2.0",
      "model_name": "LayoutModel",
      "state": {}
     },
     "06efb706ac5140dcb59b08e30f253298": {
      "model_module": "@jupyter-widgets/controls",
      "model_module_version": "1.5.0",
      "model_name": "DescriptionStyleModel",
      "state": {
       "description_width": ""
      }
     },
     "09b9fe746c844083a75b6644630af9a3": {
      "model_module": "@jupyter-widgets/controls",
      "model_module_version": "1.5.0",
      "model_name": "FloatProgressModel",
      "state": {
       "bar_style": "success",
       "layout": "IPY_MODEL_064a2e03edc74f83a23a978a5d432c82",
       "max": 3385,
       "style": "IPY_MODEL_438f6aec5f68477aa6780f2ced98568a",
       "value": 3385
      }
     },
     "0d40cc31a6ee4fdd945b9a496657bd13": {
      "model_module": "@jupyter-widgets/controls",
      "model_module_version": "1.5.0",
      "model_name": "HTMLModel",
      "state": {
       "layout": "IPY_MODEL_b2c3cae8b1a848228ab08bff3b8bebf9",
       "style": "IPY_MODEL_528d034918f842a88057d78cad43e9ae",
       "value": "Batches: 100%"
      }
     },
     "15022302e0a94071972e764b2d1b4504": {
      "model_module": "@jupyter-widgets/controls",
      "model_module_version": "1.5.0",
      "model_name": "FloatProgressModel",
      "state": {
       "bar_style": "success",
       "layout": "IPY_MODEL_8673a841dc204198945581de2042aa6e",
       "max": 922,
       "style": "IPY_MODEL_c063025e105c4365b3333902536d5293",
       "value": 922
      }
     },
     "166a19876d944c1b94b85b7b60cb9bed": {
      "model_module": "@jupyter-widgets/controls",
      "model_module_version": "1.5.0",
      "model_name": "HBoxModel",
      "state": {
       "children": [
        "IPY_MODEL_0d40cc31a6ee4fdd945b9a496657bd13",
        "IPY_MODEL_3d393f2d68b44fbaaab754f25e979df2",
        "IPY_MODEL_b2ee78028dd444b8a4bb85303f1716f6"
       ],
       "layout": "IPY_MODEL_63790f6053a04686aa434811890ea3a5"
      }
     },
     "17d83b169aeb467e85a0ff6692706687": {
      "model_module": "@jupyter-widgets/controls",
      "model_module_version": "1.5.0",
      "model_name": "ProgressStyleModel",
      "state": {
       "description_width": ""
      }
     },
     "18d94c76a9e94621860c45ae71e9550e": {
      "model_module": "@jupyter-widgets/controls",
      "model_module_version": "1.5.0",
      "model_name": "HTMLModel",
      "state": {
       "layout": "IPY_MODEL_cb94088adff946d38861e3715194c78b",
       "style": "IPY_MODEL_1f15d76545444a98b70b50fd8136686d",
       "value": " 3385/3385 [00:42&lt;00:00, 159.98it/s]"
      }
     },
     "1d3417dbd14c461aa1bc34555ee9de54": {
      "model_module": "@jupyter-widgets/controls",
      "model_module_version": "1.5.0",
      "model_name": "DescriptionStyleModel",
      "state": {
       "description_width": ""
      }
     },
     "1e8ac14986854d7e8e994df611401a1e": {
      "model_module": "@jupyter-widgets/controls",
      "model_module_version": "1.5.0",
      "model_name": "HBoxModel",
      "state": {
       "children": [
        "IPY_MODEL_f51b878de8054fe6b71f059851934c74",
        "IPY_MODEL_92c2b07c6bd54d03a84dffa08a3b844c",
        "IPY_MODEL_18d94c76a9e94621860c45ae71e9550e"
       ],
       "layout": "IPY_MODEL_df517f9197884a7ca2d52f7a8d297d0b"
      }
     },
     "1f15d76545444a98b70b50fd8136686d": {
      "model_module": "@jupyter-widgets/controls",
      "model_module_version": "1.5.0",
      "model_name": "DescriptionStyleModel",
      "state": {
       "description_width": ""
      }
     },
     "257c28186594466582766f16f21a1ea0": {
      "model_module": "@jupyter-widgets/base",
      "model_module_version": "1.2.0",
      "model_name": "LayoutModel",
      "state": {}
     },
     "2bdd583e60b742f89af59a131dd59ca7": {
      "model_module": "@jupyter-widgets/controls",
      "model_module_version": "1.5.0",
      "model_name": "HBoxModel",
      "state": {
       "children": [
        "IPY_MODEL_6ace39b2d8a8460b9b1c87ff31feee80",
        "IPY_MODEL_15022302e0a94071972e764b2d1b4504",
        "IPY_MODEL_891bfa8016b844a0ba42ac22263950c4"
       ],
       "layout": "IPY_MODEL_efdc0ab5f71a418bb507d65150cc630d"
      }
     },
     "2c379d972fb34c73a50c3326a30dbe2d": {
      "model_module": "@jupyter-widgets/controls",
      "model_module_version": "1.5.0",
      "model_name": "DescriptionStyleModel",
      "state": {
       "description_width": ""
      }
     },
     "2c777929103343aba9604afb3a101a3d": {
      "model_module": "@jupyter-widgets/base",
      "model_module_version": "1.2.0",
      "model_name": "LayoutModel",
      "state": {}
     },
     "2f030ae1093740e78344bef2872cb00d": {
      "model_module": "@jupyter-widgets/controls",
      "model_module_version": "1.5.0",
      "model_name": "FloatProgressModel",
      "state": {
       "bar_style": "success",
       "layout": "IPY_MODEL_ce3dcf5bf5d0483cb57fbd804e5db002",
       "max": 3385,
       "style": "IPY_MODEL_17d83b169aeb467e85a0ff6692706687",
       "value": 3385
      }
     },
     "3c1a48c847684c79ac7e95562fae9b34": {
      "model_module": "@jupyter-widgets/base",
      "model_module_version": "1.2.0",
      "model_name": "LayoutModel",
      "state": {}
     },
     "3d393f2d68b44fbaaab754f25e979df2": {
      "model_module": "@jupyter-widgets/controls",
      "model_module_version": "1.5.0",
      "model_name": "FloatProgressModel",
      "state": {
       "bar_style": "success",
       "layout": "IPY_MODEL_fd091dee735b4fe3a61dfa1fa24b1b82",
       "max": 922,
       "style": "IPY_MODEL_ad7d16e3ed034707b7548a1ecdd61399",
       "value": 922
      }
     },
     "43613d363ca94d6a9e3a6d481f3ec1eb": {
      "model_module": "@jupyter-widgets/controls",
      "model_module_version": "1.5.0",
      "model_name": "HBoxModel",
      "state": {
       "children": [
        "IPY_MODEL_e1ab2a9edace48baa3a83718b6a297ae",
        "IPY_MODEL_9e0ff51d78ed421fb6616f5f32da12ef",
        "IPY_MODEL_e1e99128097145f6b870a9c83def1799"
       ],
       "layout": "IPY_MODEL_c98dfbee7fce4a39bcb046416e16f868"
      }
     },
     "438f6aec5f68477aa6780f2ced98568a": {
      "model_module": "@jupyter-widgets/controls",
      "model_module_version": "1.5.0",
      "model_name": "ProgressStyleModel",
      "state": {
       "description_width": ""
      }
     },
     "4827e01423d748308389124f703ab14c": {
      "model_module": "@jupyter-widgets/base",
      "model_module_version": "1.2.0",
      "model_name": "LayoutModel",
      "state": {}
     },
     "49601a53d7c44eef8faab21e5117af57": {
      "model_module": "@jupyter-widgets/controls",
      "model_module_version": "1.5.0",
      "model_name": "DescriptionStyleModel",
      "state": {
       "description_width": ""
      }
     },
     "528d034918f842a88057d78cad43e9ae": {
      "model_module": "@jupyter-widgets/controls",
      "model_module_version": "1.5.0",
      "model_name": "DescriptionStyleModel",
      "state": {
       "description_width": ""
      }
     },
     "5501dff0f7964ba09eb36952323826dc": {
      "model_module": "@jupyter-widgets/controls",
      "model_module_version": "1.5.0",
      "model_name": "HBoxModel",
      "state": {
       "children": [
        "IPY_MODEL_d56e8b97be354822bd3e254f07c2160d",
        "IPY_MODEL_faf490c991ed4c60afeed9bc93f9f8e5",
        "IPY_MODEL_ae222babc2f04e6998ded31e6702dc0a"
       ],
       "layout": "IPY_MODEL_bb8f6c512b274ed887017eda186d6001"
      }
     },
     "5913453ecb8c4ad6bea9159362dfe88c": {
      "model_module": "@jupyter-widgets/controls",
      "model_module_version": "1.5.0",
      "model_name": "ProgressStyleModel",
      "state": {
       "description_width": ""
      }
     },
     "5c954fd0de6d4435bfe29e1042842a9a": {
      "model_module": "@jupyter-widgets/controls",
      "model_module_version": "1.5.0",
      "model_name": "HBoxModel",
      "state": {
       "children": [
        "IPY_MODEL_9c20f278b17d4127b927403b7d4df93e",
        "IPY_MODEL_09b9fe746c844083a75b6644630af9a3",
        "IPY_MODEL_6de2546e7a9642788a075c30e946d7f0"
       ],
       "layout": "IPY_MODEL_a6c28b1e83f44f98a4335ccdaaa1389f"
      }
     },
     "5d8b6be3c6a746e08a423f6e364a8abe": {
      "model_module": "@jupyter-widgets/base",
      "model_module_version": "1.2.0",
      "model_name": "LayoutModel",
      "state": {}
     },
     "61e4e293e8bb4117ac24fff9325c6d0a": {
      "model_module": "@jupyter-widgets/controls",
      "model_module_version": "1.5.0",
      "model_name": "DescriptionStyleModel",
      "state": {
       "description_width": ""
      }
     },
     "63535e072f2b4b9b87c07bd029c0a90c": {
      "model_module": "@jupyter-widgets/controls",
      "model_module_version": "1.5.0",
      "model_name": "FloatProgressModel",
      "state": {
       "bar_style": "success",
       "layout": "IPY_MODEL_257c28186594466582766f16f21a1ea0",
       "max": 922,
       "style": "IPY_MODEL_ee38fe4f10b549a7acaebb328167eef1",
       "value": 922
      }
     },
     "63790f6053a04686aa434811890ea3a5": {
      "model_module": "@jupyter-widgets/base",
      "model_module_version": "1.2.0",
      "model_name": "LayoutModel",
      "state": {}
     },
     "6ace39b2d8a8460b9b1c87ff31feee80": {
      "model_module": "@jupyter-widgets/controls",
      "model_module_version": "1.5.0",
      "model_name": "HTMLModel",
      "state": {
       "layout": "IPY_MODEL_6e92131c8d854a5489f10de2ead3877d",
       "style": "IPY_MODEL_a481632cf1f34d29b410217c0c16bafd",
       "value": "Batches: 100%"
      }
     },
     "6c8ceb1c171c4e5097341457e01af7bd": {
      "model_module": "@jupyter-widgets/controls",
      "model_module_version": "1.5.0",
      "model_name": "HBoxModel",
      "state": {
       "children": [
        "IPY_MODEL_b7417ec8c5e748818d646a2e8a6bbd64",
        "IPY_MODEL_63535e072f2b4b9b87c07bd029c0a90c",
        "IPY_MODEL_e5d0e65b3bd144ae887ecaa5dea26976"
       ],
       "layout": "IPY_MODEL_95cfa8c328354f2a9f483e1453b5cb5e"
      }
     },
     "6de2546e7a9642788a075c30e946d7f0": {
      "model_module": "@jupyter-widgets/controls",
      "model_module_version": "1.5.0",
      "model_name": "HTMLModel",
      "state": {
       "layout": "IPY_MODEL_9defb485b7154993a6b6d95ba7777f2a",
       "style": "IPY_MODEL_b69f170b43464b5b902c4d70f72347e9",
       "value": " 3385/3385 [00:40&lt;00:00, 156.28it/s]"
      }
     },
     "6e92131c8d854a5489f10de2ead3877d": {
      "model_module": "@jupyter-widgets/base",
      "model_module_version": "1.2.0",
      "model_name": "LayoutModel",
      "state": {}
     },
     "6ed0d4001ca2405fbd279845f61a7ad5": {
      "model_module": "@jupyter-widgets/controls",
      "model_module_version": "1.5.0",
      "model_name": "DescriptionStyleModel",
      "state": {
       "description_width": ""
      }
     },
     "719506a3ad044d839f2750ef65d3e083": {
      "model_module": "@jupyter-widgets/controls",
      "model_module_version": "1.5.0",
      "model_name": "DescriptionStyleModel",
      "state": {
       "description_width": ""
      }
     },
     "76f903f21c714529b2d14b9afbef38d1": {
      "model_module": "@jupyter-widgets/controls",
      "model_module_version": "1.5.0",
      "model_name": "HBoxModel",
      "state": {
       "children": [
        "IPY_MODEL_a312142db3364f80a2f4166a17f0ea21",
        "IPY_MODEL_2f030ae1093740e78344bef2872cb00d",
        "IPY_MODEL_d46b6f79384f4dddb0d5c1670dbf0bf0"
       ],
       "layout": "IPY_MODEL_c45823b728ab4f18b2ca7ee0cbc1a4d1"
      }
     },
     "7a35c68d9176464da22e971f326cdc6a": {
      "model_module": "@jupyter-widgets/controls",
      "model_module_version": "1.5.0",
      "model_name": "DescriptionStyleModel",
      "state": {
       "description_width": ""
      }
     },
     "85386f6c75cd40b9bd583ff22cb498f6": {
      "model_module": "@jupyter-widgets/base",
      "model_module_version": "1.2.0",
      "model_name": "LayoutModel",
      "state": {}
     },
     "8673a841dc204198945581de2042aa6e": {
      "model_module": "@jupyter-widgets/base",
      "model_module_version": "1.2.0",
      "model_name": "LayoutModel",
      "state": {}
     },
     "88bded57e50142fba9da4221540510a2": {
      "model_module": "@jupyter-widgets/base",
      "model_module_version": "1.2.0",
      "model_name": "LayoutModel",
      "state": {}
     },
     "891bfa8016b844a0ba42ac22263950c4": {
      "model_module": "@jupyter-widgets/controls",
      "model_module_version": "1.5.0",
      "model_name": "HTMLModel",
      "state": {
       "layout": "IPY_MODEL_88bded57e50142fba9da4221540510a2",
       "style": "IPY_MODEL_e8b7eb55f47340029f110e387fa4c4d7",
       "value": " 922/922 [00:08&lt;00:00, 158.25it/s]"
      }
     },
     "8a9a1a6f004c4094a310966a239c7730": {
      "model_module": "@jupyter-widgets/controls",
      "model_module_version": "1.5.0",
      "model_name": "ProgressStyleModel",
      "state": {
       "description_width": ""
      }
     },
     "8ac98bdce49a47b18c00add668b79791": {
      "model_module": "@jupyter-widgets/base",
      "model_module_version": "1.2.0",
      "model_name": "LayoutModel",
      "state": {}
     },
     "8e5b87185e814f8eac64749204849256": {
      "model_module": "@jupyter-widgets/controls",
      "model_module_version": "1.5.0",
      "model_name": "DescriptionStyleModel",
      "state": {
       "description_width": ""
      }
     },
     "92c2b07c6bd54d03a84dffa08a3b844c": {
      "model_module": "@jupyter-widgets/controls",
      "model_module_version": "1.5.0",
      "model_name": "FloatProgressModel",
      "state": {
       "bar_style": "success",
       "layout": "IPY_MODEL_3c1a48c847684c79ac7e95562fae9b34",
       "max": 3385,
       "style": "IPY_MODEL_8a9a1a6f004c4094a310966a239c7730",
       "value": 3385
      }
     },
     "95cfa8c328354f2a9f483e1453b5cb5e": {
      "model_module": "@jupyter-widgets/base",
      "model_module_version": "1.2.0",
      "model_name": "LayoutModel",
      "state": {}
     },
     "994aaef265d5456a83457ac909f8e272": {
      "model_module": "@jupyter-widgets/base",
      "model_module_version": "1.2.0",
      "model_name": "LayoutModel",
      "state": {}
     },
     "9c20f278b17d4127b927403b7d4df93e": {
      "model_module": "@jupyter-widgets/controls",
      "model_module_version": "1.5.0",
      "model_name": "HTMLModel",
      "state": {
       "layout": "IPY_MODEL_d7a3bbab800749d49c6cdef904bc952f",
       "style": "IPY_MODEL_719506a3ad044d839f2750ef65d3e083",
       "value": "Batches: 100%"
      }
     },
     "9defb485b7154993a6b6d95ba7777f2a": {
      "model_module": "@jupyter-widgets/base",
      "model_module_version": "1.2.0",
      "model_name": "LayoutModel",
      "state": {}
     },
     "9e0ff51d78ed421fb6616f5f32da12ef": {
      "model_module": "@jupyter-widgets/controls",
      "model_module_version": "1.5.0",
      "model_name": "FloatProgressModel",
      "state": {
       "bar_style": "success",
       "layout": "IPY_MODEL_b94062de48c64acf8853430a7b76df34",
       "max": 3311,
       "style": "IPY_MODEL_5913453ecb8c4ad6bea9159362dfe88c",
       "value": 3311
      }
     },
     "a312142db3364f80a2f4166a17f0ea21": {
      "model_module": "@jupyter-widgets/controls",
      "model_module_version": "1.5.0",
      "model_name": "HTMLModel",
      "state": {
       "layout": "IPY_MODEL_da9e5a7aefba49e2a9b59fcefdf6e483",
       "style": "IPY_MODEL_1d3417dbd14c461aa1bc34555ee9de54",
       "value": "Batches: 100%"
      }
     },
     "a481632cf1f34d29b410217c0c16bafd": {
      "model_module": "@jupyter-widgets/controls",
      "model_module_version": "1.5.0",
      "model_name": "DescriptionStyleModel",
      "state": {
       "description_width": ""
      }
     },
     "a6c28b1e83f44f98a4335ccdaaa1389f": {
      "model_module": "@jupyter-widgets/base",
      "model_module_version": "1.2.0",
      "model_name": "LayoutModel",
      "state": {}
     },
     "ad7d16e3ed034707b7548a1ecdd61399": {
      "model_module": "@jupyter-widgets/controls",
      "model_module_version": "1.5.0",
      "model_name": "ProgressStyleModel",
      "state": {
       "description_width": ""
      }
     },
     "ae222babc2f04e6998ded31e6702dc0a": {
      "model_module": "@jupyter-widgets/controls",
      "model_module_version": "1.5.0",
      "model_name": "HTMLModel",
      "state": {
       "layout": "IPY_MODEL_4827e01423d748308389124f703ab14c",
       "style": "IPY_MODEL_2c379d972fb34c73a50c3326a30dbe2d",
       "value": " 3385/3385 [00:42&lt;00:00, 160.15it/s]"
      }
     },
     "ae95e81110e641e9b556f730735e00c5": {
      "model_module": "@jupyter-widgets/controls",
      "model_module_version": "1.5.0",
      "model_name": "ProgressStyleModel",
      "state": {
       "description_width": ""
      }
     },
     "b2c3cae8b1a848228ab08bff3b8bebf9": {
      "model_module": "@jupyter-widgets/base",
      "model_module_version": "1.2.0",
      "model_name": "LayoutModel",
      "state": {}
     },
     "b2ee78028dd444b8a4bb85303f1716f6": {
      "model_module": "@jupyter-widgets/controls",
      "model_module_version": "1.5.0",
      "model_name": "HTMLModel",
      "state": {
       "layout": "IPY_MODEL_e197559f94244810a30bd4de76f13138",
       "style": "IPY_MODEL_61e4e293e8bb4117ac24fff9325c6d0a",
       "value": " 922/922 [00:13&lt;00:00, 157.63it/s]"
      }
     },
     "b69f170b43464b5b902c4d70f72347e9": {
      "model_module": "@jupyter-widgets/controls",
      "model_module_version": "1.5.0",
      "model_name": "DescriptionStyleModel",
      "state": {
       "description_width": ""
      }
     },
     "b7417ec8c5e748818d646a2e8a6bbd64": {
      "model_module": "@jupyter-widgets/controls",
      "model_module_version": "1.5.0",
      "model_name": "HTMLModel",
      "state": {
       "layout": "IPY_MODEL_8ac98bdce49a47b18c00add668b79791",
       "style": "IPY_MODEL_ddbf3d5c319141a99d2e898f8d5f9d52",
       "value": "Batches: 100%"
      }
     },
     "b94062de48c64acf8853430a7b76df34": {
      "model_module": "@jupyter-widgets/base",
      "model_module_version": "1.2.0",
      "model_name": "LayoutModel",
      "state": {}
     },
     "bb8f6c512b274ed887017eda186d6001": {
      "model_module": "@jupyter-widgets/base",
      "model_module_version": "1.2.0",
      "model_name": "LayoutModel",
      "state": {}
     },
     "be7208d2617e4a62abd168625a4a92c3": {
      "model_module": "@jupyter-widgets/controls",
      "model_module_version": "1.5.0",
      "model_name": "DescriptionStyleModel",
      "state": {
       "description_width": ""
      }
     },
     "c063025e105c4365b3333902536d5293": {
      "model_module": "@jupyter-widgets/controls",
      "model_module_version": "1.5.0",
      "model_name": "ProgressStyleModel",
      "state": {
       "description_width": ""
      }
     },
     "c3f8cd80f8e3452488d65d930e058fa2": {
      "model_module": "@jupyter-widgets/base",
      "model_module_version": "1.2.0",
      "model_name": "LayoutModel",
      "state": {}
     },
     "c45823b728ab4f18b2ca7ee0cbc1a4d1": {
      "model_module": "@jupyter-widgets/base",
      "model_module_version": "1.2.0",
      "model_name": "LayoutModel",
      "state": {}
     },
     "c98dfbee7fce4a39bcb046416e16f868": {
      "model_module": "@jupyter-widgets/base",
      "model_module_version": "1.2.0",
      "model_name": "LayoutModel",
      "state": {}
     },
     "cb94088adff946d38861e3715194c78b": {
      "model_module": "@jupyter-widgets/base",
      "model_module_version": "1.2.0",
      "model_name": "LayoutModel",
      "state": {}
     },
     "ce3dcf5bf5d0483cb57fbd804e5db002": {
      "model_module": "@jupyter-widgets/base",
      "model_module_version": "1.2.0",
      "model_name": "LayoutModel",
      "state": {}
     },
     "d46b6f79384f4dddb0d5c1670dbf0bf0": {
      "model_module": "@jupyter-widgets/controls",
      "model_module_version": "1.5.0",
      "model_name": "HTMLModel",
      "state": {
       "layout": "IPY_MODEL_5d8b6be3c6a746e08a423f6e364a8abe",
       "style": "IPY_MODEL_49601a53d7c44eef8faab21e5117af57",
       "value": " 3385/3385 [00:39&lt;00:00, 162.00it/s]"
      }
     },
     "d56e8b97be354822bd3e254f07c2160d": {
      "model_module": "@jupyter-widgets/controls",
      "model_module_version": "1.5.0",
      "model_name": "HTMLModel",
      "state": {
       "layout": "IPY_MODEL_85386f6c75cd40b9bd583ff22cb498f6",
       "style": "IPY_MODEL_be7208d2617e4a62abd168625a4a92c3",
       "value": "Batches: 100%"
      }
     },
     "d7a3bbab800749d49c6cdef904bc952f": {
      "model_module": "@jupyter-widgets/base",
      "model_module_version": "1.2.0",
      "model_name": "LayoutModel",
      "state": {}
     },
     "da9e5a7aefba49e2a9b59fcefdf6e483": {
      "model_module": "@jupyter-widgets/base",
      "model_module_version": "1.2.0",
      "model_name": "LayoutModel",
      "state": {}
     },
     "ddbf3d5c319141a99d2e898f8d5f9d52": {
      "model_module": "@jupyter-widgets/controls",
      "model_module_version": "1.5.0",
      "model_name": "DescriptionStyleModel",
      "state": {
       "description_width": ""
      }
     },
     "df517f9197884a7ca2d52f7a8d297d0b": {
      "model_module": "@jupyter-widgets/base",
      "model_module_version": "1.2.0",
      "model_name": "LayoutModel",
      "state": {}
     },
     "e197559f94244810a30bd4de76f13138": {
      "model_module": "@jupyter-widgets/base",
      "model_module_version": "1.2.0",
      "model_name": "LayoutModel",
      "state": {}
     },
     "e1ab2a9edace48baa3a83718b6a297ae": {
      "model_module": "@jupyter-widgets/controls",
      "model_module_version": "1.5.0",
      "model_name": "HTMLModel",
      "state": {
       "layout": "IPY_MODEL_eb15061f7d9b453db9602727e67cc63b",
       "style": "IPY_MODEL_06efb706ac5140dcb59b08e30f253298",
       "value": "Batches: 100%"
      }
     },
     "e1e99128097145f6b870a9c83def1799": {
      "model_module": "@jupyter-widgets/controls",
      "model_module_version": "1.5.0",
      "model_name": "HTMLModel",
      "state": {
       "layout": "IPY_MODEL_2c777929103343aba9604afb3a101a3d",
       "style": "IPY_MODEL_6ed0d4001ca2405fbd279845f61a7ad5",
       "value": " 3311/3311 [00:35&lt;00:00, 162.12it/s]"
      }
     },
     "e5d0e65b3bd144ae887ecaa5dea26976": {
      "model_module": "@jupyter-widgets/controls",
      "model_module_version": "1.5.0",
      "model_name": "HTMLModel",
      "state": {
       "layout": "IPY_MODEL_ee5e52dabf134c95aba0b9b399b4dd5f",
       "style": "IPY_MODEL_8e5b87185e814f8eac64749204849256",
       "value": " 922/922 [00:08&lt;00:00, 161.67it/s]"
      }
     },
     "e8b7eb55f47340029f110e387fa4c4d7": {
      "model_module": "@jupyter-widgets/controls",
      "model_module_version": "1.5.0",
      "model_name": "DescriptionStyleModel",
      "state": {
       "description_width": ""
      }
     },
     "eb15061f7d9b453db9602727e67cc63b": {
      "model_module": "@jupyter-widgets/base",
      "model_module_version": "1.2.0",
      "model_name": "LayoutModel",
      "state": {}
     },
     "ee38fe4f10b549a7acaebb328167eef1": {
      "model_module": "@jupyter-widgets/controls",
      "model_module_version": "1.5.0",
      "model_name": "ProgressStyleModel",
      "state": {
       "description_width": ""
      }
     },
     "ee5e52dabf134c95aba0b9b399b4dd5f": {
      "model_module": "@jupyter-widgets/base",
      "model_module_version": "1.2.0",
      "model_name": "LayoutModel",
      "state": {}
     },
     "efdc0ab5f71a418bb507d65150cc630d": {
      "model_module": "@jupyter-widgets/base",
      "model_module_version": "1.2.0",
      "model_name": "LayoutModel",
      "state": {}
     },
     "f51b878de8054fe6b71f059851934c74": {
      "model_module": "@jupyter-widgets/controls",
      "model_module_version": "1.5.0",
      "model_name": "HTMLModel",
      "state": {
       "layout": "IPY_MODEL_c3f8cd80f8e3452488d65d930e058fa2",
       "style": "IPY_MODEL_7a35c68d9176464da22e971f326cdc6a",
       "value": "Batches: 100%"
      }
     },
     "faf490c991ed4c60afeed9bc93f9f8e5": {
      "model_module": "@jupyter-widgets/controls",
      "model_module_version": "1.5.0",
      "model_name": "FloatProgressModel",
      "state": {
       "bar_style": "success",
       "layout": "IPY_MODEL_994aaef265d5456a83457ac909f8e272",
       "max": 3385,
       "style": "IPY_MODEL_ae95e81110e641e9b556f730735e00c5",
       "value": 3385
      }
     },
     "fd091dee735b4fe3a61dfa1fa24b1b82": {
      "model_module": "@jupyter-widgets/base",
      "model_module_version": "1.2.0",
      "model_name": "LayoutModel",
      "state": {}
     }
    },
    "version_major": 2,
    "version_minor": 0
   }
  }
 },
 "nbformat": 4,
 "nbformat_minor": 5
}
